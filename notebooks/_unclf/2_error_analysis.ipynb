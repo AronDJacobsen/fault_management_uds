{
 "cells": [
  {
   "cell_type": "markdown",
   "metadata": {},
   "source": [
    "# Error Analysis"
   ]
  },
  {
   "cell_type": "code",
   "execution_count": 7,
   "metadata": {},
   "outputs": [],
   "source": [
    "import os\n",
    "\n",
    "import pandas as pd\n",
    "import numpy as np\n",
    "import sys\n",
    "import matplotlib.pyplot as plt\n",
    "from matplotlib.colors import ListedColormap, BoundaryNorm\n",
    "from matplotlib.patches import Patch\n",
    "import h5py\n",
    "from anytree import Node, RenderTree\n",
    "import nexusformat.nexus as nx\n",
    "import pickle\n",
    "\n",
    "import plotly.graph_objects as go\n",
    "import plotly.express as px\n",
    "import plotly.io as pio\n",
    "import matplotlib.cm as cm\n",
    "from mlxtend.plotting import scatterplotmatrix\n",
    "\n",
    "\n",
    "\n",
    "\n",
    "from fault_management_uds.data.data_utilities import print_tree\n",
    "from fault_management_uds.data.load_save_data import load_dataframe, save_dataframe, overwrite_dataset, save_filtered_data\n",
    "from fault_management_uds.data.load_save_data import save_metadata, load_metadata, import_metadata\n",
    "from fault_management_uds.plots import set_meaningful_xaxis_timestamps, get_segment_start_end_color\n",
    "\n",
    "\n",
    "from fault_management_uds.config import PROJ_ROOT\n",
    "from fault_management_uds.config import DATA_DIR, RAW_DATA_DIR, INTERIM_DATA_DIR, PROCESSED_DATA_DIR, EXTERNAL_DATA_DIR\n",
    "from fault_management_uds.config import MODELS_DIR, REPORTS_DIR, FIGURES_DIR\n",
    "from fault_management_uds.config import rain_gauges, natural_structure_order, natural_sensor_order, series_order, error_indicators"
   ]
  },
  {
   "cell_type": "code",
   "execution_count": 2,
   "metadata": {},
   "outputs": [],
   "source": [
    "np.random.seed(11)"
   ]
  },
  {
   "cell_type": "markdown",
   "metadata": {},
   "source": [
    "#### Load subset"
   ]
  },
  {
   "cell_type": "code",
   "execution_count": 3,
   "metadata": {},
   "outputs": [
    {
     "name": "stdout",
     "output_type": "stream",
     "text": [
      "root\n",
      "├── dummy\n",
      "└── processed\n",
      "    ├── combined_data\n",
      "    │   ├── cleaned\n",
      "    │   │   ├── columns\n",
      "    │   │   ├── data\n",
      "    │   │   └── timestamps\n",
      "    │   ├── interpolated\n",
      "    │   │   ├── columns\n",
      "    │   │   ├── data\n",
      "    │   │   └── timestamps\n",
      "    │   ├── is_error\n",
      "    │   │   ├── columns\n",
      "    │   │   ├── data\n",
      "    │   │   └── timestamps\n",
      "    │   ├── no_data\n",
      "    │   │   ├── columns\n",
      "    │   │   ├── data\n",
      "    │   │   └── timestamps\n",
      "    │   └── raw\n",
      "    │       ├── columns\n",
      "    │       ├── data\n",
      "    │       └── timestamps\n",
      "    └── single_series\n",
      "        ├── 5425\n",
      "        │   ├── columns\n",
      "        │   ├── data\n",
      "        │   └── timestamps\n",
      "        ├── 5427\n",
      "        │   ├── columns\n",
      "        │   ├── data\n",
      "        │   └── timestamps\n",
      "        ├── G71F04R_Level1\n",
      "        │   ├── columns\n",
      "        │   ├── data\n",
      "        │   └── timestamps\n",
      "        ├── G71F04R_Level2\n",
      "        │   ├── columns\n",
      "        │   ├── data\n",
      "        │   └── timestamps\n",
      "        ├── G71F05R_LevelBasin\n",
      "        │   ├── columns\n",
      "        │   ├── data\n",
      "        │   └── timestamps\n",
      "        ├── G71F05R_LevelInlet\n",
      "        │   ├── columns\n",
      "        │   ├── data\n",
      "        │   └── timestamps\n",
      "        ├── G71F05R_position\n",
      "        │   ├── columns\n",
      "        │   ├── data\n",
      "        │   └── timestamps\n",
      "        ├── G71F06R_LevelInlet\n",
      "        │   ├── columns\n",
      "        │   ├── data\n",
      "        │   └── timestamps\n",
      "        ├── G71F68Y_LevelPS\n",
      "        │   ├── columns\n",
      "        │   ├── data\n",
      "        │   └── timestamps\n",
      "        ├── G71F68Yp1\n",
      "        │   ├── columns\n",
      "        │   ├── data\n",
      "        │   └── timestamps\n",
      "        ├── G72F040\n",
      "        │   ├── columns\n",
      "        │   ├── data\n",
      "        │   └── timestamps\n",
      "        ├── G73F010\n",
      "        │   ├── columns\n",
      "        │   ├── data\n",
      "        │   └── timestamps\n",
      "        ├── G80F11B_Level1\n",
      "        │   ├── columns\n",
      "        │   ├── data\n",
      "        │   └── timestamps\n",
      "        ├── G80F11B_Level2\n",
      "        │   ├── columns\n",
      "        │   ├── data\n",
      "        │   └── timestamps\n",
      "        ├── G80F13P_LevelPS\n",
      "        │   ├── columns\n",
      "        │   ├── data\n",
      "        │   └── timestamps\n",
      "        ├── G80F66Y_Level1\n",
      "        │   ├── columns\n",
      "        │   ├── data\n",
      "        │   └── timestamps\n",
      "        └── G80F66Y_Level2\n",
      "            ├── columns\n",
      "            ├── data\n",
      "            └── timestamps\n"
     ]
    }
   ],
   "source": [
    "data_file_path = PROCESSED_DATA_DIR / 'Bellinge.h5'\n",
    "f = print_tree(data_file_path)"
   ]
  },
  {
   "cell_type": "code",
   "execution_count": 4,
   "metadata": {},
   "outputs": [],
   "source": [
    "\n",
    "raw_path = '/processed/combined_data/raw'\n",
    "is_error_path = '/processed/combined_data/is_error'\n",
    "no_data_path = '/processed/combined_data/no_data'\n",
    "\n",
    "starttime = \"01-01-2019 00:00:00\"\n",
    "endtime = \"01-01-2021 00:00:00\"\n",
    "\n",
    "return_type = \"df\""
   ]
  },
  {
   "cell_type": "code",
   "execution_count": 5,
   "metadata": {},
   "outputs": [
    {
     "name": "stdout",
     "output_type": "stream",
     "text": [
      "        Data loaded from group '/processed/combined_data/raw'\n",
      "        Data loaded from group '/processed/combined_data/is_error'\n",
      "        Data loaded from group '/processed/combined_data/no_data'\n"
     ]
    }
   ],
   "source": [
    "# load\n",
    "\n",
    "raw, timestamps, columns, start_idx, end_idx, column_indices = load_dataframe(\n",
    "    data_file_path, raw_path, \n",
    "    return_type=return_type, starttime=starttime, endtime=endtime\n",
    "    )\n",
    "    \n",
    "is_error, timestamps, columns, start_idx, end_idx, column_indices = load_dataframe(\n",
    "    data_file_path, is_error_path, \n",
    "    return_type=return_type, starttime=starttime, endtime=endtime\n",
    "    )\n",
    "\n",
    "no_data, timestamps, columns, start_idx, end_idx, column_indices = load_dataframe(\n",
    "    data_file_path, no_data_path, \n",
    "    return_type=return_type, starttime=starttime, endtime=endtime\n",
    "    )\n",
    "\n",
    "\n",
    "# fill na with 0\n",
    "raw = raw.fillna(0)\n",
    "is_error = is_error.fillna(0)\n",
    "no_data = no_data.fillna(0)\n",
    "\n",
    "# readjust the order of the columns\n",
    "raw = raw[series_order]\n",
    "is_error = is_error[series_order]\n",
    "no_data = no_data[series_order]"
   ]
  },
  {
   "cell_type": "code",
   "execution_count": 8,
   "metadata": {},
   "outputs": [
    {
     "data": {
      "text/plain": [
       "['stamped', 'man_remove', 'outbound', 'outlier', 'frozen', 'frozen_high']"
      ]
     },
     "execution_count": 8,
     "metadata": {},
     "output_type": "execute_result"
    }
   ],
   "source": [
    "error_indicators"
   ]
  },
  {
   "cell_type": "code",
   "execution_count": 9,
   "metadata": {},
   "outputs": [
    {
     "data": {
      "text/plain": [
       "Index(['5425', '5427', 'G80F11B_Level1', 'G80F11B_Level2', 'G80F66Y_Level1',\n",
       "       'G80F66Y_Level2', 'G80F13P_LevelPS', 'G73F010', 'G72F040',\n",
       "       'G71F05R_LevelInlet', 'G71F05R_LevelBasin', 'G71F05R_position',\n",
       "       'G71F04R_Level1', 'G71F04R_Level2', 'G71F06R_LevelInlet',\n",
       "       'G71F68Y_LevelPS', 'G71F68Yp1'],\n",
       "      dtype='object')"
      ]
     },
     "execution_count": 9,
     "metadata": {},
     "output_type": "execute_result"
    }
   ],
   "source": [
    "error = 'stamped'\n",
    "\n",
    "raw.columns"
   ]
  },
  {
   "cell_type": "code",
   "execution_count": null,
   "metadata": {},
   "outputs": [],
   "source": []
  },
  {
   "cell_type": "markdown",
   "metadata": {},
   "source": [
    "# TODO: is_error, convert into indicator for each error type"
   ]
  },
  {
   "cell_type": "code",
   "execution_count": null,
   "metadata": {},
   "outputs": [],
   "source": []
  },
  {
   "cell_type": "markdown",
   "metadata": {},
   "source": [
    "Per sensor per error\n",
    "- Average\n",
    "- Boxplot\n",
    "- Time series visualization\n",
    "\n",
    "Correlation?\n",
    "- Occur next to each other?\n",
    "- Time of the day related?\n"
   ]
  },
  {
   "cell_type": "code",
   "execution_count": null,
   "metadata": {},
   "outputs": [],
   "source": []
  }
 ],
 "metadata": {
  "kernelspec": {
   "display_name": "thesis",
   "language": "python",
   "name": "python3"
  },
  "language_info": {
   "codemirror_mode": {
    "name": "ipython",
    "version": 3
   },
   "file_extension": ".py",
   "mimetype": "text/x-python",
   "name": "python",
   "nbconvert_exporter": "python",
   "pygments_lexer": "ipython3",
   "version": "3.12.5"
  }
 },
 "nbformat": 4,
 "nbformat_minor": 2
}
