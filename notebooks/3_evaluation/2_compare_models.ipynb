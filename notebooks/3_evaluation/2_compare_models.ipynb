{
 "cells": [
  {
   "cell_type": "markdown",
   "metadata": {},
   "source": [
    "# Performance comparison"
   ]
  },
  {
   "cell_type": "code",
   "execution_count": 77,
   "metadata": {},
   "outputs": [],
   "source": [
    "import os\n",
    "import random\n",
    "import yaml\n",
    "import re\n",
    "import torch\n",
    "\n",
    "\n",
    "import pandas as pd\n",
    "import numpy as np\n",
    "import matplotlib.pyplot as plt\n",
    "import seaborn as sns\n",
    "import plotly.express as px\n",
    "import plotly.graph_objects as go\n",
    "from matplotlib.colors import Normalize\n",
    "\n",
    "from fault_management_uds.plots import visualize_metric_matrix\n",
    "from fault_management_uds.modelling.models import load_model_checkpoint\n",
    "from fault_management_uds.train import count_parameters\n",
    "\n",
    "from fault_management_uds.config import PROJ_ROOT\n",
    "from fault_management_uds.config import DATA_DIR, RAW_DATA_DIR, INTERIM_DATA_DIR, PROCESSED_DATA_DIR, EXTERNAL_DATA_DIR\n",
    "from fault_management_uds.config import MODELS_DIR, REPORTS_DIR, FIGURES_DIR, REFERENCE_DIR\n",
    "from fault_management_uds.config import rain_gauge_color, condition_to_meta\n",
    "\n",
    "\n",
    "# set random seed\n",
    "seed = 42\n",
    "np.random.seed(seed)\n",
    "random.seed(seed)\n"
   ]
  },
  {
   "cell_type": "code",
   "execution_count": 78,
   "metadata": {},
   "outputs": [],
   "source": [
    "def get_n_parameters(run_folder, run_info, model_to_load, config):\n",
    "    # load the model\n",
    "    additional_configurations = {'n_obs': 1, 'endogenous_idx': 2}\n",
    "    model = load_model_checkpoint(run_folder, run_info, model_to_load, config, additional_configurations)\n",
    "    return count_parameters(model)\n",
    "    "
   ]
  },
  {
   "cell_type": "markdown",
   "metadata": {},
   "source": [
    "## Load"
   ]
  },
  {
   "cell_type": "code",
   "execution_count": 79,
   "metadata": {},
   "outputs": [],
   "source": [
    "#experiment_folder_name = 'benchmark'\n",
    "\n",
    "#experiment_folder_name = 'linear_regression'\n",
    "\n",
    "experiment_folder_name = 'transformer/0_stages_summarized'\n",
    "\n",
    "#experiment_folder_name = 'transformer/6_final_selection'\n",
    "\n",
    "#experiment_folder_name = 'transformer/4_modelling_choices'\n",
    "\n",
    "\n",
    "experiment_folder = MODELS_DIR / experiment_folder_name\n",
    "\n",
    "split = 0 # first split\n",
    "relative_path = f'{split+1}_split/'\n"
   ]
  },
  {
   "cell_type": "code",
   "execution_count": 80,
   "metadata": {},
   "outputs": [
    {
     "name": "stdout",
     "output_type": "stream",
     "text": [
      "Loading 1_model_complexity\n",
      "Using CPU\n",
      "Model loaded from /work3/s194262/GitHub/fault_management_uds/models/transformer/0_stages_summarized/1_model_complexity/1_split/epoch=10-val_loss=0.0000135.ckpt\n",
      "Loading 2_data_features\n",
      "Using CPU\n",
      "Model loaded from /work3/s194262/GitHub/fault_management_uds/models/transformer/0_stages_summarized/2_data_features/1_split/epoch=08-val_loss=0.0000135.ckpt\n",
      "Loading 3_training_parameters\n",
      "Using CPU\n",
      "Model loaded from /work3/s194262/GitHub/fault_management_uds/models/transformer/0_stages_summarized/3_training_parameters/1_split/epoch=12-val_loss=0.0000140.ckpt\n",
      "Loading 4_modelling_choices\n",
      "Using CPU\n",
      "Model loaded from /work3/s194262/GitHub/fault_management_uds/models/transformer/0_stages_summarized/4_modelling_choices/1_split/epoch=12-val_loss=0.0000141.ckpt\n",
      "Loading 5_data_priorities\n",
      "Using CPU\n",
      "Model loaded from /work3/s194262/GitHub/fault_management_uds/models/transformer/0_stages_summarized/5_data_priorities/1_split/epoch=02-val_loss=0.0000145.ckpt\n",
      "Loading 6_final_selection\n",
      "Using CPU\n",
      "Model loaded from /work3/s194262/GitHub/fault_management_uds/models/transformer/0_stages_summarized/6_final_selection/1_split/epoch=07-val_loss=0.0000142.ckpt\n",
      "Lowest steps ahead: 10\n"
     ]
    }
   ],
   "source": [
    "\n",
    "# Dictionary to store the results\n",
    "runs = {}\n",
    "\n",
    "experiment_names = [] # handle duplicates\n",
    "lowest_steps_ahead = np.inf # ensure no index error\n",
    "# iterate each run\n",
    "for experiment_name in sorted(os.listdir(experiment_folder)):\n",
    "    if experiment_name.startswith('.'):\n",
    "        print(f'Skipping {experiment_name}')\n",
    "        continue\n",
    "\n",
    "    try:\n",
    "        results = {}\n",
    "        save_folder = MODELS_DIR / experiment_folder_name / experiment_name\n",
    "        print(f'Loading {experiment_name}')  \n",
    "\n",
    "        run_folder = save_folder / relative_path\n",
    "        eval_folder = run_folder / 'evaluation'\n",
    "\n",
    "        # Get relevant indo\n",
    "        config = yaml.load(open(save_folder / 'config.yaml', 'r'), Loader=yaml.Loader)\n",
    "        try:\n",
    "            # load pkl _with cpu\n",
    "            split_info = torch.load(save_folder / 'split_info.pkl', map_location='cpu')\n",
    "            run_info = split_info[split]\n",
    "            #  if the best_model_path, last_model_path, top_k_best_model_paths are not relative paths, then convert them to relative paths\n",
    "            #if not os.path.isabs(run_info['best_model_path']):\n",
    "            if '/' in run_info['best_model_path']:\n",
    "                run_info['best_model_path'] = os.path.relpath(run_info['best_model_path'], run_folder)\n",
    "                run_info['last_model_path'] = os.path.relpath(run_info['last_model_path'], run_folder)\n",
    "                run_info['top_k_best_model_paths'] = {\n",
    "                    k: os.path.relpath(str(v), run_folder) for k, v in run_info['top_k_best_model_paths'].items()\n",
    "                }\n",
    "            \n",
    "            # Load the split info\n",
    "            _model_to_load = config['training_args'].get('model_to_load', 'best_model_path')\n",
    "            model_to_load = run_info[_model_to_load]\n",
    "            #run_info['best_model_path'] if run_info['best_model_path'] else 'epoch=0'\n",
    "            epoch = int(re.search(r'epoch=(\\d+)', model_to_load).group(1)) if _model_to_load == 'best_model_path' else f\"epoch={config['training_args']['max_epochs']}\"\n",
    "            results['epoch'] = epoch\n",
    "            results['training_time'] = run_info['training_time']\n",
    "            if 'n_parameters' not in run_info:\n",
    "                results['n_parameters'] = get_n_parameters(run_folder, run_info, 'best_model_path', config)\n",
    "            else:\n",
    "                results['n_parameters'] = run_info['n_parameters']\n",
    "        except Exception as e:\n",
    "            print(f'    Error loading: {e}') \n",
    "            run_info = {\n",
    "                'best_model_path': 'epoch=0',\n",
    "                'training_time': 0\n",
    "            }\n",
    "            results['epoch'] = 0\n",
    "            results['training_time'] = 0\n",
    "            results['n_parameters'] = 0\n",
    "        \n",
    "\n",
    "        \n",
    "        # Remove the date formatting of the experiment name\n",
    "        pattern = r'\\d{6}_\\d{4}$'\n",
    "        if re.search(pattern, experiment_name):\n",
    "        #if '_' in experiment_name:\n",
    "            experiment_name = '_'.join(experiment_name.split('_')[:-2])\n",
    "\n",
    "\n",
    "        if experiment_name not in experiment_names:\n",
    "            results['experiment_name'] = experiment_name\n",
    "            experiment_names.append(experiment_name)\n",
    "        else:\n",
    "            print(f'Warning: {experiment_name} already exists')\n",
    "            experiment_names.append(experiment_name)\n",
    "            # count occurrences of name\n",
    "            count = sum([1 for name in experiment_names if name == experiment_name])\n",
    "            experiment_name = f'{experiment_name} ({count})'\n",
    "            results['experiment_name'] = experiment_name\n",
    "\n",
    "\n",
    "        data_types = ['val', 'test']\n",
    "        for data_type in data_types:\n",
    "            results[data_type] = {}\n",
    "            step_MAEs = pd.read_csv(eval_folder / data_type / 'step_MAEs.csv', index_col=0)\n",
    "            results[data_type]['step_MAEs'] = step_MAEs\n",
    "            condition_MAEs = pd.read_csv(eval_folder / data_type / 'condition_MAEs.csv', index_col=[0, 1])\n",
    "            results[data_type]['condition_MAEs'] = condition_MAEs\n",
    "        \n",
    "        # get the lowest steps ahead\n",
    "        lowest_steps_ahead = min(lowest_steps_ahead, max(step_MAEs.index))\n",
    "        runs[experiment_name] = results\n",
    "\n",
    "    except Exception as e:\n",
    "        print(f'Error loading {experiment_name}: {e}')\n",
    "        continue\n",
    "\n",
    "\n",
    "print(f'Lowest steps ahead: {lowest_steps_ahead}')"
   ]
  },
  {
   "cell_type": "markdown",
   "metadata": {},
   "source": [
    "## 1 step ahead"
   ]
  },
  {
   "cell_type": "code",
   "execution_count": 81,
   "metadata": {},
   "outputs": [],
   "source": [
    "data_type = 'test'\n",
    "\n",
    "# folder to save the plots\n",
    "plots_folder = FIGURES_DIR / 'experiments' / experiment_folder_name / data_type\n",
    "plots_folder.mkdir(exist_ok=True, parents=True)\n"
   ]
  },
  {
   "cell_type": "code",
   "execution_count": 82,
   "metadata": {},
   "outputs": [
    {
     "data": {
      "text/html": [
       "<div>\n",
       "<style scoped>\n",
       "    .dataframe tbody tr th:only-of-type {\n",
       "        vertical-align: middle;\n",
       "    }\n",
       "\n",
       "    .dataframe tbody tr th {\n",
       "        vertical-align: top;\n",
       "    }\n",
       "\n",
       "    .dataframe thead th {\n",
       "        text-align: right;\n",
       "    }\n",
       "</style>\n",
       "<table border=\"1\" class=\"dataframe\">\n",
       "  <thead>\n",
       "    <tr style=\"text-align: right;\">\n",
       "      <th></th>\n",
       "      <th>Experiment</th>\n",
       "      <th>1-step MAE</th>\n",
       "    </tr>\n",
       "  </thead>\n",
       "  <tbody>\n",
       "    <tr>\n",
       "      <th>5</th>\n",
       "      <td>6_final_selection</td>\n",
       "      <td>0.00091</td>\n",
       "    </tr>\n",
       "    <tr>\n",
       "      <th>3</th>\n",
       "      <td>4_modelling_choices</td>\n",
       "      <td>0.00106</td>\n",
       "    </tr>\n",
       "    <tr>\n",
       "      <th>4</th>\n",
       "      <td>5_data_priorities</td>\n",
       "      <td>0.00108</td>\n",
       "    </tr>\n",
       "    <tr>\n",
       "      <th>2</th>\n",
       "      <td>3_training_parameters</td>\n",
       "      <td>0.00111</td>\n",
       "    </tr>\n",
       "    <tr>\n",
       "      <th>1</th>\n",
       "      <td>2_data_features</td>\n",
       "      <td>0.00123</td>\n",
       "    </tr>\n",
       "    <tr>\n",
       "      <th>0</th>\n",
       "      <td>1_model_complexity</td>\n",
       "      <td>0.00206</td>\n",
       "    </tr>\n",
       "  </tbody>\n",
       "</table>\n",
       "</div>"
      ],
      "text/plain": [
       "              Experiment  1-step MAE\n",
       "5      6_final_selection     0.00091\n",
       "3    4_modelling_choices     0.00106\n",
       "4      5_data_priorities     0.00108\n",
       "2  3_training_parameters     0.00111\n",
       "1        2_data_features     0.00123\n",
       "0     1_model_complexity     0.00206"
      ]
     },
     "execution_count": 82,
     "metadata": {},
     "output_type": "execute_result"
    }
   ],
   "source": [
    "# create the dataframe\n",
    "data = []\n",
    "\n",
    "round_to = 5\n",
    "for run in runs:\n",
    "    experiment_name = runs[run]['experiment_name']\n",
    "    step_MAEs = runs[run][data_type]['step_MAEs']\n",
    "    data.append({\n",
    "        #'run': run,\n",
    "        'Experiment': f\"{experiment_name}\",\n",
    "        '1-step MAE': step_MAEs.loc[1, 'Overall'],\n",
    "        #'date': run,\n",
    "    })\n",
    "\n",
    "df = pd.DataFrame(data)\n",
    "df = df.sort_values(by='1-step MAE', ascending=True)\n",
    "# now round\n",
    "df = df.round(round_to)\n",
    "df"
   ]
  },
  {
   "cell_type": "code",
   "execution_count": 83,
   "metadata": {},
   "outputs": [
    {
     "data": {
      "image/png": "[encoded data removed]",
      "text/plain": [
       "<Figure size 1000x400 with 1 Axes>"
      ]
     },
     "metadata": {},
     "output_type": "display_data"
    }
   ],
   "source": [
    "# plot the results\n",
    "plt.figure(figsize=(10, 1+df.shape[0]//2))\n",
    "# the highest value should be 1/3 of the bar width (to leave space for the text)\n",
    "highest_value = df['1-step MAE'].max()\n",
    "ax = sns.barplot(data=df, y='Experiment', x=[highest_value*3] * len(df), color='lightgrey', saturation=1) # create the background bars\n",
    "sns.barplot(data=df, y='Experiment', x='1-step MAE', color='slategrey', saturation=1, ax=ax)\n",
    "\n",
    "for lbl in ax.get_yticklabels():\n",
    "     # add the y tick labels as right aligned text into the plot\n",
    "     ax.text(0.985, lbl.get_position()[1], lbl.get_text(), transform=ax.get_yaxis_transform(), ha='right', va='center')\n",
    "ax.bar_label(ax.containers[1], fmt=f' %.{round_to}f', label_type='edge') # add the values on the right side of the bars\n",
    "ax.set_xticks([]) # remove the x ticks\n",
    "ax.set_yticks([]) # remove the y ticks\n",
    "ax.set_ylabel('') # remove the y label\n",
    "\n",
    "#ax.xaxis.label.set_visible(False)\n",
    "ax.xaxis.set_label('1-step MAE')\n",
    "# adjust size of the x axis\n",
    "ax.xaxis.label.set_size(14)\n",
    "ax.margins(x=0) # remove the spacing at the right\n",
    "sns.despine(left=True, bottom=True) # remove the spines\n",
    "plt.tight_layout()\n",
    "# save the plot\n",
    "plt.savefig(plots_folder / 'overall_1_step_MAE.png', dpi=150)\n",
    "plt.show()\n"
   ]
  },
  {
   "cell_type": "markdown",
   "metadata": {},
   "source": [
    "## MAE as a function of steps ahead"
   ]
  },
  {
   "cell_type": "code",
   "execution_count": 84,
   "metadata": {},
   "outputs": [
    {
     "data": {
      "text/html": [
       "<div>\n",
       "<style scoped>\n",
       "    .dataframe tbody tr th:only-of-type {\n",
       "        vertical-align: middle;\n",
       "    }\n",
       "\n",
       "    .dataframe tbody tr th {\n",
       "        vertical-align: top;\n",
       "    }\n",
       "\n",
       "    .dataframe thead th {\n",
       "        text-align: right;\n",
       "    }\n",
       "</style>\n",
       "<table border=\"1\" class=\"dataframe\">\n",
       "  <thead>\n",
       "    <tr style=\"text-align: right;\">\n",
       "      <th></th>\n",
       "      <th>6_final_selection</th>\n",
       "      <th>4_modelling_choices</th>\n",
       "      <th>5_data_priorities</th>\n",
       "      <th>3_training_parameters</th>\n",
       "      <th>2_data_features</th>\n",
       "      <th>1_model_complexity</th>\n",
       "    </tr>\n",
       "  </thead>\n",
       "  <tbody>\n",
       "    <tr>\n",
       "      <th>1</th>\n",
       "      <td>0.000911</td>\n",
       "      <td>0.001064</td>\n",
       "      <td>0.001077</td>\n",
       "      <td>0.001107</td>\n",
       "      <td>0.001227</td>\n",
       "      <td>0.002057</td>\n",
       "    </tr>\n",
       "    <tr>\n",
       "      <th>2</th>\n",
       "      <td>0.001358</td>\n",
       "      <td>0.001660</td>\n",
       "      <td>0.001668</td>\n",
       "      <td>0.001737</td>\n",
       "      <td>0.001994</td>\n",
       "      <td>0.002639</td>\n",
       "    </tr>\n",
       "    <tr>\n",
       "      <th>3</th>\n",
       "      <td>0.001752</td>\n",
       "      <td>0.002173</td>\n",
       "      <td>0.002210</td>\n",
       "      <td>0.002284</td>\n",
       "      <td>0.002687</td>\n",
       "      <td>0.003177</td>\n",
       "    </tr>\n",
       "    <tr>\n",
       "      <th>4</th>\n",
       "      <td>0.002089</td>\n",
       "      <td>0.002613</td>\n",
       "      <td>0.002688</td>\n",
       "      <td>0.002753</td>\n",
       "      <td>0.003325</td>\n",
       "      <td>0.003672</td>\n",
       "    </tr>\n",
       "    <tr>\n",
       "      <th>5</th>\n",
       "      <td>0.002389</td>\n",
       "      <td>0.002994</td>\n",
       "      <td>0.003110</td>\n",
       "      <td>0.003153</td>\n",
       "      <td>0.003916</td>\n",
       "      <td>0.004138</td>\n",
       "    </tr>\n",
       "    <tr>\n",
       "      <th>6</th>\n",
       "      <td>0.002668</td>\n",
       "      <td>0.003329</td>\n",
       "      <td>0.003494</td>\n",
       "      <td>0.003505</td>\n",
       "      <td>0.004470</td>\n",
       "      <td>0.004580</td>\n",
       "    </tr>\n",
       "    <tr>\n",
       "      <th>7</th>\n",
       "      <td>0.002931</td>\n",
       "      <td>0.003632</td>\n",
       "      <td>0.003846</td>\n",
       "      <td>0.003819</td>\n",
       "      <td>0.004989</td>\n",
       "      <td>0.005004</td>\n",
       "    </tr>\n",
       "    <tr>\n",
       "      <th>8</th>\n",
       "      <td>0.003175</td>\n",
       "      <td>0.003904</td>\n",
       "      <td>0.004170</td>\n",
       "      <td>0.004101</td>\n",
       "      <td>0.005473</td>\n",
       "      <td>0.005417</td>\n",
       "    </tr>\n",
       "    <tr>\n",
       "      <th>9</th>\n",
       "      <td>0.003404</td>\n",
       "      <td>0.004150</td>\n",
       "      <td>0.004468</td>\n",
       "      <td>0.004352</td>\n",
       "      <td>0.005929</td>\n",
       "      <td>0.005821</td>\n",
       "    </tr>\n",
       "    <tr>\n",
       "      <th>10</th>\n",
       "      <td>0.003617</td>\n",
       "      <td>0.004373</td>\n",
       "      <td>0.004744</td>\n",
       "      <td>0.004580</td>\n",
       "      <td>0.006360</td>\n",
       "      <td>0.006217</td>\n",
       "    </tr>\n",
       "  </tbody>\n",
       "</table>\n",
       "</div>"
      ],
      "text/plain": [
       "    6_final_selection  4_modelling_choices  5_data_priorities  \\\n",
       "1            0.000911             0.001064           0.001077   \n",
       "2            0.001358             0.001660           0.001668   \n",
       "3            0.001752             0.002173           0.002210   \n",
       "4            0.002089             0.002613           0.002688   \n",
       "5            0.002389             0.002994           0.003110   \n",
       "6            0.002668             0.003329           0.003494   \n",
       "7            0.002931             0.003632           0.003846   \n",
       "8            0.003175             0.003904           0.004170   \n",
       "9            0.003404             0.004150           0.004468   \n",
       "10           0.003617             0.004373           0.004744   \n",
       "\n",
       "    3_training_parameters  2_data_features  1_model_complexity  \n",
       "1                0.001107         0.001227            0.002057  \n",
       "2                0.001737         0.001994            0.002639  \n",
       "3                0.002284         0.002687            0.003177  \n",
       "4                0.002753         0.003325            0.003672  \n",
       "5                0.003153         0.003916            0.004138  \n",
       "6                0.003505         0.004470            0.004580  \n",
       "7                0.003819         0.004989            0.005004  \n",
       "8                0.004101         0.005473            0.005417  \n",
       "9                0.004352         0.005929            0.005821  \n",
       "10               0.004580         0.006360            0.006217  "
      ]
     },
     "execution_count": 84,
     "metadata": {},
     "output_type": "execute_result"
    }
   ],
   "source": [
    "# create the dataframe\n",
    "data = np.zeros((lowest_steps_ahead, len(runs))) # (experiments, steps ahead) similar to (rows, columns)\n",
    "\n",
    "round_to = 5\n",
    "for i, run in enumerate(runs):\n",
    "    experiment_name = runs[run]['experiment_name']\n",
    "    step_MAEs = runs[run][data_type]['step_MAEs']\n",
    "    data[:, i] = step_MAEs['Overall'].values\n",
    "\n",
    "df = pd.DataFrame(data, columns=[f\"{runs[run]['experiment_name']}\" for run in runs], index=range(1, lowest_steps_ahead+1))\n",
    "# sort columns by lowest 1-step MAE\n",
    "df = df[df.loc[1].sort_values().index]\n",
    "df"
   ]
  },
  {
   "cell_type": "code",
   "execution_count": 85,
   "metadata": {},
   "outputs": [
    {
     "data": {
      "image/png": "[encoded data removed]",
      "text/plain": [
       "<Figure size 1200x400 with 1 Axes>"
      ]
     },
     "metadata": {},
     "output_type": "display_data"
    }
   ],
   "source": [
    "# Visualize the MAEs\n",
    "plt.figure(figsize=(12, 4))\n",
    "# plot the MAEs\n",
    "sns.lineplot(data=df, alpha=0.6, dashes=False, markers=True)\n",
    "plt.xticks(range(1, lowest_steps_ahead+1))\n",
    "plt.xlim(1, lowest_steps_ahead)\n",
    "# outside the plot\n",
    "plt.legend(title='Experiment', bbox_to_anchor=(1.05, 1), loc='upper left')\n",
    "plt.xlabel('Steps ahead', fontsize=12)\n",
    "plt.ylabel('MAE', fontsize=12)\n",
    "plt.tight_layout()\n",
    "# save the plot\n",
    "plt.savefig(plots_folder / 'overall_steps_ahead_MAE.png', dpi=150)\n",
    "plt.show()\n"
   ]
  },
  {
   "cell_type": "code",
   "execution_count": 86,
   "metadata": {},
   "outputs": [
    {
     "data": {
      "image/png": "[encoded data removed]",
      "text/plain": [
       "<Figure size 1200x400 with 1 Axes>"
      ]
     },
     "metadata": {},
     "output_type": "display_data"
    }
   ],
   "source": [
    "visualize_metric_matrix('MAE_steps_heatmap', df.T.iloc[::-1], \n",
    "                        'coolwarm', round_to, suffix=None, high_best=False, \n",
    "                        figsize=(12, 1+df.shape[1]//2), \n",
    "                        save_folder=plots_folder, \n",
    "                        top_n_bold=0, \n",
    "                        annotate_row_wise=False, ysize=13)\n",
    "\n",
    "# saving\n",
    "visualize_metric_matrix('MAE_steps_heatmap', df.T.iloc[::-1], \n",
    "                        'coolwarm', round_to, suffix=None, high_best=False, \n",
    "                        figsize=(12, 1+df.shape[1]//2), \n",
    "                        save_folder=None, \n",
    "                        top_n_bold=0,#df.shape[1], # TODO: work?\n",
    "                        annotate_row_wise=False, ysize=13)\n"
   ]
  },
  {
   "cell_type": "code",
   "execution_count": 87,
   "metadata": {},
   "outputs": [],
   "source": [
    "# # visualize like the confsion matrix\n",
    "# plt.figure(figsize=(12, 4))\n",
    "# sns.heatmap(df.T, annot=True, fmt=f'.{round_to}f', cbar=False, cmap='coolwarm')\n",
    "# plt.xlabel('Steps ahead', fontsize=14)\n",
    "# plt.tight_layout()\n",
    "# # save\n",
    "# plt.savefig(plots_folder / 'overall_steps_ahead_MAE_heatmap.png', dpi=150)\n",
    "# plt.show()"
   ]
  },
  {
   "cell_type": "code",
   "execution_count": 88,
   "metadata": {},
   "outputs": [],
   "source": [
    "df['Steps ahead'] = np.arange(1, lowest_steps_ahead+1)"
   ]
  },
  {
   "cell_type": "code",
   "execution_count": 89,
   "metadata": {},
   "outputs": [
    {
     "data": {
      "application/vnd.plotly.v1+json": {
       "config": {
        "plotlyServerURL": "https://plot.ly"
       },
       "data": [
        {
         "hovertemplate": "Experiment=6_final_selection<br>Steps ahead=%{x}<br>MAE=%{y}<extra></extra>",
         "legendgroup": "6_final_selection",
         "line": {
          "color": "#636efa",
          "dash": "solid"
         },
         "marker": {
          "symbol": "circle"
         },
         "mode": "lines+markers",
         "name": "6_final_selection",
         "orientation": "v",
         "showlegend": true,
         "type": "scatter",
         "x": [
          1,
          2,
          3,
          4,
          5,
          6,
          7,
          8,
          9,
          10
         ],
         "xaxis": "x",
         "y": [
          0.0009111115980858,
          0.0013581544373845,
          0.0017524759783675,
          0.0020885931414217,
          0.0023886354697813,
          0.0026680960657692,
          0.0029310451414078,
          0.0031750940854479,
          0.0034041193452137,
          0.0036171970783051
         ],
         "yaxis": "y"
        },
        {
         "hovertemplate": "Experiment=4_modelling_choices<br>Steps ahead=%{x}<br>MAE=%{y}<extra></extra>",
         "legendgroup": "4_modelling_choices",
         "line": {
          "color": "#EF553B",
          "dash": "solid"
         },
         "marker": {
          "symbol": "circle"
         },
         "mode": "lines+markers",
         "name": "4_modelling_choices",
         "orientation": "v",
         "showlegend": true,
         "type": "scatter",
         "x": [
          1,
          2,
          3,
          4,
          5,
          6,
          7,
          8,
          9,
          10
         ],
         "xaxis": "x",
         "y": [
          0.0010637912600587,
          0.0016602532089394,
          0.0021725151695844,
          0.0026132802633354,
          0.0029938468174725,
          0.0033293723061805,
          0.0036316844495756,
          0.0039040126592936,
          0.0041495379057957,
          0.0043726025943709
         ],
         "yaxis": "y"
        },
        {
         "hovertemplate": "Experiment=5_data_priorities<br>Steps ahead=%{x}<br>MAE=%{y}<extra></extra>",
         "legendgroup": "5_data_priorities",
         "line": {
          "color": "#00cc96",
          "dash": "solid"
         },
         "marker": {
          "symbol": "circle"
         },
         "mode": "lines+markers",
         "name": "5_data_priorities",
         "orientation": "v",
         "showlegend": true,
         "type": "scatter",
         "x": [
          1,
          2,
          3,
          4,
          5,
          6,
          7,
          8,
          9,
          10
         ],
         "xaxis": "x",
         "y": [
          0.0010766535452596,
          0.0016683498052549,
          0.0022102277773228,
          0.0026879638674972,
          0.0031103051678659,
          0.0034935267597121,
          0.0038463019200005,
          0.0041695787117184,
          0.0044683661829853,
          0.0047441152623147
         ],
         "yaxis": "y"
        },
        {
         "hovertemplate": "Experiment=3_training_parameters<br>Steps ahead=%{x}<br>MAE=%{y}<extra></extra>",
         "legendgroup": "3_training_parameters",
         "line": {
          "color": "#ab63fa",
          "dash": "solid"
         },
         "marker": {
          "symbol": "circle"
         },
         "mode": "lines+markers",
         "name": "3_training_parameters",
         "orientation": "v",
         "showlegend": true,
         "type": "scatter",
         "x": [
          1,
          2,
          3,
          4,
          5,
          6,
          7,
          8,
          9,
          10
         ],
         "xaxis": "x",
         "y": [
          0.0011066144117107,
          0.0017366945357201,
          0.002283606929856,
          0.0027530169048165,
          0.003153271336319,
          0.0035054317550352,
          0.0038193674735966,
          0.0041006792144686,
          0.0043523922443372,
          0.0045804267667476
         ],
         "yaxis": "y"
        },
        {
         "hovertemplate": "Experiment=2_data_features<br>Steps ahead=%{x}<br>MAE=%{y}<extra></extra>",
         "legendgroup": "2_data_features",
         "line": {
          "color": "#FFA15A",
          "dash": "solid"
         },
         "marker": {
          "symbol": "circle"
         },
         "mode": "lines+markers",
         "name": "2_data_features",
         "orientation": "v",
         "showlegend": true,
         "type": "scatter",
         "x": [
          1,
          2,
          3,
          4,
          5,
          6,
          7,
          8,
          9,
          10
         ],
         "xaxis": "x",
         "y": [
          0.0012270564720292,
          0.0019935434834509,
          0.0026869604431675,
          0.0033247392538444,
          0.0039162209886382,
          0.004469512624116,
          0.0049885182882734,
          0.0054732483613619,
          0.005928545807474,
          0.0063597668364798
         ],
         "yaxis": "y"
        },
        {
         "hovertemplate": "Experiment=1_model_complexity<br>Steps ahead=%{x}<br>MAE=%{y}<extra></extra>",
         "legendgroup": "1_model_complexity",
         "line": {
          "color": "#19d3f3",
          "dash": "solid"
         },
         "marker": {
          "symbol": "circle"
         },
         "mode": "lines+markers",
         "name": "1_model_complexity",
         "orientation": "v",
         "showlegend": true,
         "type": "scatter",
         "x": [
          1,
          2,
          3,
          4,
          5,
          6,
          7,
          8,
          9,
          10
         ],
         "xaxis": "x",
         "y": [
          0.0020567555588812,
          0.0026393884798913,
          0.0031771508826864,
          0.0036720216887026,
          0.004137806148586,
          0.004579541935521,
          0.0050043999056011,
          0.00541689048011,
          0.0058211545435184,
          0.0062173003090985
         ],
         "yaxis": "y"
        }
       ],
       "layout": {
        "legend": {
         "title": {
          "text": "Experiment"
         },
         "tracegroupgap": 0,
         "x": 1.05,
         "xanchor": "left",
         "y": 1,
         "yanchor": "top"
        },
        "margin": {
         "b": 40,
         "l": 40,
         "r": 40,
         "t": 40
        },
        "template": {
         "data": {
          "bar": [
           {
            "error_x": {
             "color": "#2a3f5f"
            },
            "error_y": {
             "color": "#2a3f5f"
            },
            "marker": {
             "line": {
              "color": "white",
              "width": 0.5
             },
             "pattern": {
              "fillmode": "overlay",
              "size": 10,
              "solidity": 0.2
             }
            },
            "type": "bar"
           }
          ],
          "barpolar": [
           {
            "marker": {
             "line": {
              "color": "white",
              "width": 0.5
             },
             "pattern": {
              "fillmode": "overlay",
              "size": 10,
              "solidity": 0.2
             }
            },
            "type": "barpolar"
           }
          ],
          "carpet": [
           {
            "aaxis": {
             "endlinecolor": "#2a3f5f",
             "gridcolor": "#C8D4E3",
             "linecolor": "#C8D4E3",
             "minorgridcolor": "#C8D4E3",
             "startlinecolor": "#2a3f5f"
            },
            "baxis": {
             "endlinecolor": "#2a3f5f",
             "gridcolor": "#C8D4E3",
             "linecolor": "#C8D4E3",
             "minorgridcolor": "#C8D4E3",
             "startlinecolor": "#2a3f5f"
            },
            "type": "carpet"
           }
          ],
          "choropleth": [
           {
            "colorbar": {
             "outlinewidth": 0,
             "ticks": ""
            },
            "type": "choropleth"
           }
          ],
          "contour": [
           {
            "colorbar": {
             "outlinewidth": 0,
             "ticks": ""
            },
            "colorscale": [
             [
              0,
              "#0d0887"
             ],
             [
              0.1111111111111111,
              "#46039f"
             ],
             [
              0.2222222222222222,
              "#7201a8"
             ],
             [
              0.3333333333333333,
              "#9c179e"
             ],
             [
              0.4444444444444444,
              "#bd3786"
             ],
             [
              0.5555555555555556,
              "#d8576b"
             ],
             [
              0.6666666666666666,
              "#ed7953"
             ],
             [
              0.7777777777777778,
              "#fb9f3a"
             ],
             [
              0.8888888888888888,
              "#fdca26"
             ],
             [
              1,
              "#f0f921"
             ]
            ],
            "type": "contour"
           }
          ],
          "contourcarpet": [
           {
            "colorbar": {
             "outlinewidth": 0,
             "ticks": ""
            },
            "type": "contourcarpet"
           }
          ],
          "heatmap": [
           {
            "colorbar": {
             "outlinewidth": 0,
             "ticks": ""
            },
            "colorscale": [
             [
              0,
              "#0d0887"
             ],
             [
              0.1111111111111111,
              "#46039f"
             ],
             [
              0.2222222222222222,
              "#7201a8"
             ],
             [
              0.3333333333333333,
              "#9c179e"
             ],
             [
              0.4444444444444444,
              "#bd3786"
             ],
             [
              0.5555555555555556,
              "#d8576b"
             ],
             [
              0.6666666666666666,
              "#ed7953"
             ],
             [
              0.7777777777777778,
              "#fb9f3a"
             ],
             [
              0.8888888888888888,
              "#fdca26"
             ],
             [
              1,
              "#f0f921"
             ]
            ],
            "type": "heatmap"
           }
          ],
          "heatmapgl": [
           {
            "colorbar": {
             "outlinewidth": 0,
             "ticks": ""
            },
            "colorscale": [
             [
              0,
              "#0d0887"
             ],
             [
              0.1111111111111111,
              "#46039f"
             ],
             [
              0.2222222222222222,
              "#7201a8"
             ],
             [
              0.3333333333333333,
              "#9c179e"
             ],
             [
              0.4444444444444444,
              "#bd3786"
             ],
             [
              0.5555555555555556,
              "#d8576b"
             ],
             [
              0.6666666666666666,
              "#ed7953"
             ],
             [
              0.7777777777777778,
              "#fb9f3a"
             ],
             [
              0.8888888888888888,
              "#fdca26"
             ],
             [
              1,
              "#f0f921"
             ]
            ],
            "type": "heatmapgl"
           }
          ],
          "histogram": [
           {
            "marker": {
             "pattern": {
              "fillmode": "overlay",
              "size": 10,
              "solidity": 0.2
             }
            },
            "type": "histogram"
           }
          ],
          "histogram2d": [
           {
            "colorbar": {
             "outlinewidth": 0,
             "ticks": ""
            },
            "colorscale": [
             [
              0,
              "#0d0887"
             ],
             [
              0.1111111111111111,
              "#46039f"
             ],
             [
              0.2222222222222222,
              "#7201a8"
             ],
             [
              0.3333333333333333,
              "#9c179e"
             ],
             [
              0.4444444444444444,
              "#bd3786"
             ],
             [
              0.5555555555555556,
              "#d8576b"
             ],
             [
              0.6666666666666666,
              "#ed7953"
             ],
             [
              0.7777777777777778,
              "#fb9f3a"
             ],
             [
              0.8888888888888888,
              "#fdca26"
             ],
             [
              1,
              "#f0f921"
             ]
            ],
            "type": "histogram2d"
           }
          ],
          "histogram2dcontour": [
           {
            "colorbar": {
             "outlinewidth": 0,
             "ticks": ""
            },
            "colorscale": [
             [
              0,
              "#0d0887"
             ],
             [
              0.1111111111111111,
              "#46039f"
             ],
             [
              0.2222222222222222,
              "#7201a8"
             ],
             [
              0.3333333333333333,
              "#9c179e"
             ],
             [
              0.4444444444444444,
              "#bd3786"
             ],
             [
              0.5555555555555556,
              "#d8576b"
             ],
             [
              0.6666666666666666,
              "#ed7953"
             ],
             [
              0.7777777777777778,
              "#fb9f3a"
             ],
             [
              0.8888888888888888,
              "#fdca26"
             ],
             [
              1,
              "#f0f921"
             ]
            ],
            "type": "histogram2dcontour"
           }
          ],
          "mesh3d": [
           {
            "colorbar": {
             "outlinewidth": 0,
             "ticks": ""
            },
            "type": "mesh3d"
           }
          ],
          "parcoords": [
           {
            "line": {
             "colorbar": {
              "outlinewidth": 0,
              "ticks": ""
             }
            },
            "type": "parcoords"
           }
          ],
          "pie": [
           {
            "automargin": true,
            "type": "pie"
           }
          ],
          "scatter": [
           {
            "fillpattern": {
             "fillmode": "overlay",
             "size": 10,
             "solidity": 0.2
            },
            "type": "scatter"
           }
          ],
          "scatter3d": [
           {
            "line": {
             "colorbar": {
              "outlinewidth": 0,
              "ticks": ""
             }
            },
            "marker": {
             "colorbar": {
              "outlinewidth": 0,
              "ticks": ""
             }
            },
            "type": "scatter3d"
           }
          ],
          "scattercarpet": [
           {
            "marker": {
             "colorbar": {
              "outlinewidth": 0,
              "ticks": ""
             }
            },
            "type": "scattercarpet"
           }
          ],
          "scattergeo": [
           {
            "marker": {
             "colorbar": {
              "outlinewidth": 0,
              "ticks": ""
             }
            },
            "type": "scattergeo"
           }
          ],
          "scattergl": [
           {
            "marker": {
             "colorbar": {
              "outlinewidth": 0,
              "ticks": ""
             }
            },
            "type": "scattergl"
           }
          ],
          "scattermapbox": [
           {
            "marker": {
             "colorbar": {
              "outlinewidth": 0,
              "ticks": ""
             }
            },
            "type": "scattermapbox"
           }
          ],
          "scatterpolar": [
           {
            "marker": {
             "colorbar": {
              "outlinewidth": 0,
              "ticks": ""
             }
            },
            "type": "scatterpolar"
           }
          ],
          "scatterpolargl": [
           {
            "marker": {
             "colorbar": {
              "outlinewidth": 0,
              "ticks": ""
             }
            },
            "type": "scatterpolargl"
           }
          ],
          "scatterternary": [
           {
            "marker": {
             "colorbar": {
              "outlinewidth": 0,
              "ticks": ""
             }
            },
            "type": "scatterternary"
           }
          ],
          "surface": [
           {
            "colorbar": {
             "outlinewidth": 0,
             "ticks": ""
            },
            "colorscale": [
             [
              0,
              "#0d0887"
             ],
             [
              0.1111111111111111,
              "#46039f"
             ],
             [
              0.2222222222222222,
              "#7201a8"
             ],
             [
              0.3333333333333333,
              "#9c179e"
             ],
             [
              0.4444444444444444,
              "#bd3786"
             ],
             [
              0.5555555555555556,
              "#d8576b"
             ],
             [
              0.6666666666666666,
              "#ed7953"
             ],
             [
              0.7777777777777778,
              "#fb9f3a"
             ],
             [
              0.8888888888888888,
              "#fdca26"
             ],
             [
              1,
              "#f0f921"
             ]
            ],
            "type": "surface"
           }
          ],
          "table": [
           {
            "cells": {
             "fill": {
              "color": "#EBF0F8"
             },
             "line": {
              "color": "white"
             }
            },
            "header": {
             "fill": {
              "color": "#C8D4E3"
             },
             "line": {
              "color": "white"
             }
            },
            "type": "table"
           }
          ]
         },
         "layout": {
          "annotationdefaults": {
           "arrowcolor": "#2a3f5f",
           "arrowhead": 0,
           "arrowwidth": 1
          },
          "autotypenumbers": "strict",
          "coloraxis": {
           "colorbar": {
            "outlinewidth": 0,
            "ticks": ""
           }
          },
          "colorscale": {
           "diverging": [
            [
             0,
             "#8e0152"
            ],
            [
             0.1,
             "#c51b7d"
            ],
            [
             0.2,
             "#de77ae"
            ],
            [
             0.3,
             "#f1b6da"
            ],
            [
             0.4,
             "#fde0ef"
            ],
            [
             0.5,
             "#f7f7f7"
            ],
            [
             0.6,
             "#e6f5d0"
            ],
            [
             0.7,
             "#b8e186"
            ],
            [
             0.8,
             "#7fbc41"
            ],
            [
             0.9,
             "#4d9221"
            ],
            [
             1,
             "#276419"
            ]
           ],
           "sequential": [
            [
             0,
             "#0d0887"
            ],
            [
             0.1111111111111111,
             "#46039f"
            ],
            [
             0.2222222222222222,
             "#7201a8"
            ],
            [
             0.3333333333333333,
             "#9c179e"
            ],
            [
             0.4444444444444444,
             "#bd3786"
            ],
            [
             0.5555555555555556,
             "#d8576b"
            ],
            [
             0.6666666666666666,
             "#ed7953"
            ],
            [
             0.7777777777777778,
             "#fb9f3a"
            ],
            [
             0.8888888888888888,
             "#fdca26"
            ],
            [
             1,
             "#f0f921"
            ]
           ],
           "sequentialminus": [
            [
             0,
             "#0d0887"
            ],
            [
             0.1111111111111111,
             "#46039f"
            ],
            [
             0.2222222222222222,
             "#7201a8"
            ],
            [
             0.3333333333333333,
             "#9c179e"
            ],
            [
             0.4444444444444444,
             "#bd3786"
            ],
            [
             0.5555555555555556,
             "#d8576b"
            ],
            [
             0.6666666666666666,
             "#ed7953"
            ],
            [
             0.7777777777777778,
             "#fb9f3a"
            ],
            [
             0.8888888888888888,
             "#fdca26"
            ],
            [
             1,
             "#f0f921"
            ]
           ]
          },
          "colorway": [
           "#636efa",
           "#EF553B",
           "#00cc96",
           "#ab63fa",
           "#FFA15A",
           "#19d3f3",
           "#FF6692",
           "#B6E880",
           "#FF97FF",
           "#FECB52"
          ],
          "font": {
           "color": "#2a3f5f"
          },
          "geo": {
           "bgcolor": "white",
           "lakecolor": "white",
           "landcolor": "white",
           "showlakes": true,
           "showland": true,
           "subunitcolor": "#C8D4E3"
          },
          "hoverlabel": {
           "align": "left"
          },
          "hovermode": "closest",
          "mapbox": {
           "style": "light"
          },
          "paper_bgcolor": "white",
          "plot_bgcolor": "white",
          "polar": {
           "angularaxis": {
            "gridcolor": "#EBF0F8",
            "linecolor": "#EBF0F8",
            "ticks": ""
           },
           "bgcolor": "white",
           "radialaxis": {
            "gridcolor": "#EBF0F8",
            "linecolor": "#EBF0F8",
            "ticks": ""
           }
          },
          "scene": {
           "xaxis": {
            "backgroundcolor": "white",
            "gridcolor": "#DFE8F3",
            "gridwidth": 2,
            "linecolor": "#EBF0F8",
            "showbackground": true,
            "ticks": "",
            "zerolinecolor": "#EBF0F8"
           },
           "yaxis": {
            "backgroundcolor": "white",
            "gridcolor": "#DFE8F3",
            "gridwidth": 2,
            "linecolor": "#EBF0F8",
            "showbackground": true,
            "ticks": "",
            "zerolinecolor": "#EBF0F8"
           },
           "zaxis": {
            "backgroundcolor": "white",
            "gridcolor": "#DFE8F3",
            "gridwidth": 2,
            "linecolor": "#EBF0F8",
            "showbackground": true,
            "ticks": "",
            "zerolinecolor": "#EBF0F8"
           }
          },
          "shapedefaults": {
           "line": {
            "color": "#2a3f5f"
           }
          },
          "ternary": {
           "aaxis": {
            "gridcolor": "#DFE8F3",
            "linecolor": "#A2B1C6",
            "ticks": ""
           },
           "baxis": {
            "gridcolor": "#DFE8F3",
            "linecolor": "#A2B1C6",
            "ticks": ""
           },
           "bgcolor": "white",
           "caxis": {
            "gridcolor": "#DFE8F3",
            "linecolor": "#A2B1C6",
            "ticks": ""
           }
          },
          "title": {
           "x": 0.05
          },
          "xaxis": {
           "automargin": true,
           "gridcolor": "#EBF0F8",
           "linecolor": "#EBF0F8",
           "ticks": "",
           "title": {
            "standoff": 15
           },
           "zerolinecolor": "#EBF0F8",
           "zerolinewidth": 2
          },
          "yaxis": {
           "automargin": true,
           "gridcolor": "#EBF0F8",
           "linecolor": "#EBF0F8",
           "ticks": "",
           "title": {
            "standoff": 15
           },
           "zerolinecolor": "#EBF0F8",
           "zerolinewidth": 2
          }
         }
        },
        "title": {
         "text": "Overall Steps Ahead MAE"
        },
        "xaxis": {
         "anchor": "y",
         "domain": [
          0,
          1
         ],
         "title": {
          "text": "Steps ahead"
         }
        },
        "yaxis": {
         "anchor": "x",
         "domain": [
          0,
          1
         ],
         "title": {
          "text": "MAE"
         }
        }
       }
      },
      "text/html": [
       "<div>                            <div id=\"dc7b8a4d-2855-479b-bd64-0a995fc498dd\" class=\"plotly-graph-div\" style=\"height:525px; width:100%;\"></div>            <script type=\"text/javascript\">                require([\"plotly\"], function(Plotly) {                    window.PLOTLYENV=window.PLOTLYENV || {};                                    if (document.getElementById(\"dc7b8a4d-2855-479b-bd64-0a995fc498dd\")) {                    Plotly.newPlot(                        \"dc7b8a4d-2855-479b-bd64-0a995fc498dd\",                        [{\"hovertemplate\":\"Experiment=6_final_selection\\u003cbr\\u003eSteps ahead=%{x}\\u003cbr\\u003eMAE=%{y}\\u003cextra\\u003e\\u003c\\u002fextra\\u003e\",\"legendgroup\":\"6_final_selection\",\"line\":{\"color\":\"#636efa\",\"dash\":\"solid\"},\"marker\":{\"symbol\":\"circle\"},\"mode\":\"lines+markers\",\"name\":\"6_final_selection\",\"orientation\":\"v\",\"showlegend\":true,\"x\":[1,2,3,4,5,6,7,8,9,10],\"xaxis\":\"x\",\"y\":[0.0009111115980858,0.0013581544373845,0.0017524759783675,0.0020885931414217,0.0023886354697813,0.0026680960657692,0.0029310451414078,0.0031750940854479,0.0034041193452137,0.0036171970783051],\"yaxis\":\"y\",\"type\":\"scatter\"},{\"hovertemplate\":\"Experiment=4_modelling_choices\\u003cbr\\u003eSteps ahead=%{x}\\u003cbr\\u003eMAE=%{y}\\u003cextra\\u003e\\u003c\\u002fextra\\u003e\",\"legendgroup\":\"4_modelling_choices\",\"line\":{\"color\":\"#EF553B\",\"dash\":\"solid\"},\"marker\":{\"symbol\":\"circle\"},\"mode\":\"lines+markers\",\"name\":\"4_modelling_choices\",\"orientation\":\"v\",\"showlegend\":true,\"x\":[1,2,3,4,5,6,7,8,9,10],\"xaxis\":\"x\",\"y\":[0.0010637912600587,0.0016602532089394,0.0021725151695844,0.0026132802633354,0.0029938468174725,0.0033293723061805,0.0036316844495756,0.0039040126592936,0.0041495379057957,0.0043726025943709],\"yaxis\":\"y\",\"type\":\"scatter\"},{\"hovertemplate\":\"Experiment=5_data_priorities\\u003cbr\\u003eSteps ahead=%{x}\\u003cbr\\u003eMAE=%{y}\\u003cextra\\u003e\\u003c\\u002fextra\\u003e\",\"legendgroup\":\"5_data_priorities\",\"line\":{\"color\":\"#00cc96\",\"dash\":\"solid\"},\"marker\":{\"symbol\":\"circle\"},\"mode\":\"lines+markers\",\"name\":\"5_data_priorities\",\"orientation\":\"v\",\"showlegend\":true,\"x\":[1,2,3,4,5,6,7,8,9,10],\"xaxis\":\"x\",\"y\":[0.0010766535452596,0.0016683498052549,0.0022102277773228,0.0026879638674972,0.0031103051678659,0.0034935267597121,0.0038463019200005,0.0041695787117184,0.0044683661829853,0.0047441152623147],\"yaxis\":\"y\",\"type\":\"scatter\"},{\"hovertemplate\":\"Experiment=3_training_parameters\\u003cbr\\u003eSteps ahead=%{x}\\u003cbr\\u003eMAE=%{y}\\u003cextra\\u003e\\u003c\\u002fextra\\u003e\",\"legendgroup\":\"3_training_parameters\",\"line\":{\"color\":\"#ab63fa\",\"dash\":\"solid\"},\"marker\":{\"symbol\":\"circle\"},\"mode\":\"lines+markers\",\"name\":\"3_training_parameters\",\"orientation\":\"v\",\"showlegend\":true,\"x\":[1,2,3,4,5,6,7,8,9,10],\"xaxis\":\"x\",\"y\":[0.0011066144117107,0.0017366945357201,0.002283606929856,0.0027530169048165,0.003153271336319,0.0035054317550352,0.0038193674735966,0.0041006792144686,0.0043523922443372,0.0045804267667476],\"yaxis\":\"y\",\"type\":\"scatter\"},{\"hovertemplate\":\"Experiment=2_data_features\\u003cbr\\u003eSteps ahead=%{x}\\u003cbr\\u003eMAE=%{y}\\u003cextra\\u003e\\u003c\\u002fextra\\u003e\",\"legendgroup\":\"2_data_features\",\"line\":{\"color\":\"#FFA15A\",\"dash\":\"solid\"},\"marker\":{\"symbol\":\"circle\"},\"mode\":\"lines+markers\",\"name\":\"2_data_features\",\"orientation\":\"v\",\"showlegend\":true,\"x\":[1,2,3,4,5,6,7,8,9,10],\"xaxis\":\"x\",\"y\":[0.0012270564720292,0.0019935434834509,0.0026869604431675,0.0033247392538444,0.0039162209886382,0.004469512624116,0.0049885182882734,0.0054732483613619,0.005928545807474,0.0063597668364798],\"yaxis\":\"y\",\"type\":\"scatter\"},{\"hovertemplate\":\"Experiment=1_model_complexity\\u003cbr\\u003eSteps ahead=%{x}\\u003cbr\\u003eMAE=%{y}\\u003cextra\\u003e\\u003c\\u002fextra\\u003e\",\"legendgroup\":\"1_model_complexity\",\"line\":{\"color\":\"#19d3f3\",\"dash\":\"solid\"},\"marker\":{\"symbol\":\"circle\"},\"mode\":\"lines+markers\",\"name\":\"1_model_complexity\",\"orientation\":\"v\",\"showlegend\":true,\"x\":[1,2,3,4,5,6,7,8,9,10],\"xaxis\":\"x\",\"y\":[0.0020567555588812,0.0026393884798913,0.0031771508826864,0.0036720216887026,0.004137806148586,0.004579541935521,0.0050043999056011,0.00541689048011,0.0058211545435184,0.0062173003090985],\"yaxis\":\"y\",\"type\":\"scatter\"}],                        {\"template\":{\"data\":{\"barpolar\":[{\"marker\":{\"line\":{\"color\":\"white\",\"width\":0.5},\"pattern\":{\"fillmode\":\"overlay\",\"size\":10,\"solidity\":0.2}},\"type\":\"barpolar\"}],\"bar\":[{\"error_x\":{\"color\":\"#2a3f5f\"},\"error_y\":{\"color\":\"#2a3f5f\"},\"marker\":{\"line\":{\"color\":\"white\",\"width\":0.5},\"pattern\":{\"fillmode\":\"overlay\",\"size\":10,\"solidity\":0.2}},\"type\":\"bar\"}],\"carpet\":[{\"aaxis\":{\"endlinecolor\":\"#2a3f5f\",\"gridcolor\":\"#C8D4E3\",\"linecolor\":\"#C8D4E3\",\"minorgridcolor\":\"#C8D4E3\",\"startlinecolor\":\"#2a3f5f\"},\"baxis\":{\"endlinecolor\":\"#2a3f5f\",\"gridcolor\":\"#C8D4E3\",\"linecolor\":\"#C8D4E3\",\"minorgridcolor\":\"#C8D4E3\",\"startlinecolor\":\"#2a3f5f\"},\"type\":\"carpet\"}],\"choropleth\":[{\"colorbar\":{\"outlinewidth\":0,\"ticks\":\"\"},\"type\":\"choropleth\"}],\"contourcarpet\":[{\"colorbar\":{\"outlinewidth\":0,\"ticks\":\"\"},\"type\":\"contourcarpet\"}],\"contour\":[{\"colorbar\":{\"outlinewidth\":0,\"ticks\":\"\"},\"colorscale\":[[0.0,\"#0d0887\"],[0.1111111111111111,\"#46039f\"],[0.2222222222222222,\"#7201a8\"],[0.3333333333333333,\"#9c179e\"],[0.4444444444444444,\"#bd3786\"],[0.5555555555555556,\"#d8576b\"],[0.6666666666666666,\"#ed7953\"],[0.7777777777777778,\"#fb9f3a\"],[0.8888888888888888,\"#fdca26\"],[1.0,\"#f0f921\"]],\"type\":\"contour\"}],\"heatmapgl\":[{\"colorbar\":{\"outlinewidth\":0,\"ticks\":\"\"},\"colorscale\":[[0.0,\"#0d0887\"],[0.1111111111111111,\"#46039f\"],[0.2222222222222222,\"#7201a8\"],[0.3333333333333333,\"#9c179e\"],[0.4444444444444444,\"#bd3786\"],[0.5555555555555556,\"#d8576b\"],[0.6666666666666666,\"#ed7953\"],[0.7777777777777778,\"#fb9f3a\"],[0.8888888888888888,\"#fdca26\"],[1.0,\"#f0f921\"]],\"type\":\"heatmapgl\"}],\"heatmap\":[{\"colorbar\":{\"outlinewidth\":0,\"ticks\":\"\"},\"colorscale\":[[0.0,\"#0d0887\"],[0.1111111111111111,\"#46039f\"],[0.2222222222222222,\"#7201a8\"],[0.3333333333333333,\"#9c179e\"],[0.4444444444444444,\"#bd3786\"],[0.5555555555555556,\"#d8576b\"],[0.6666666666666666,\"#ed7953\"],[0.7777777777777778,\"#fb9f3a\"],[0.8888888888888888,\"#fdca26\"],[1.0,\"#f0f921\"]],\"type\":\"heatmap\"}],\"histogram2dcontour\":[{\"colorbar\":{\"outlinewidth\":0,\"ticks\":\"\"},\"colorscale\":[[0.0,\"#0d0887\"],[0.1111111111111111,\"#46039f\"],[0.2222222222222222,\"#7201a8\"],[0.3333333333333333,\"#9c179e\"],[0.4444444444444444,\"#bd3786\"],[0.5555555555555556,\"#d8576b\"],[0.6666666666666666,\"#ed7953\"],[0.7777777777777778,\"#fb9f3a\"],[0.8888888888888888,\"#fdca26\"],[1.0,\"#f0f921\"]],\"type\":\"histogram2dcontour\"}],\"histogram2d\":[{\"colorbar\":{\"outlinewidth\":0,\"ticks\":\"\"},\"colorscale\":[[0.0,\"#0d0887\"],[0.1111111111111111,\"#46039f\"],[0.2222222222222222,\"#7201a8\"],[0.3333333333333333,\"#9c179e\"],[0.4444444444444444,\"#bd3786\"],[0.5555555555555556,\"#d8576b\"],[0.6666666666666666,\"#ed7953\"],[0.7777777777777778,\"#fb9f3a\"],[0.8888888888888888,\"#fdca26\"],[1.0,\"#f0f921\"]],\"type\":\"histogram2d\"}],\"histogram\":[{\"marker\":{\"pattern\":{\"fillmode\":\"overlay\",\"size\":10,\"solidity\":0.2}},\"type\":\"histogram\"}],\"mesh3d\":[{\"colorbar\":{\"outlinewidth\":0,\"ticks\":\"\"},\"type\":\"mesh3d\"}],\"parcoords\":[{\"line\":{\"colorbar\":{\"outlinewidth\":0,\"ticks\":\"\"}},\"type\":\"parcoords\"}],\"pie\":[{\"automargin\":true,\"type\":\"pie\"}],\"scatter3d\":[{\"line\":{\"colorbar\":{\"outlinewidth\":0,\"ticks\":\"\"}},\"marker\":{\"colorbar\":{\"outlinewidth\":0,\"ticks\":\"\"}},\"type\":\"scatter3d\"}],\"scattercarpet\":[{\"marker\":{\"colorbar\":{\"outlinewidth\":0,\"ticks\":\"\"}},\"type\":\"scattercarpet\"}],\"scattergeo\":[{\"marker\":{\"colorbar\":{\"outlinewidth\":0,\"ticks\":\"\"}},\"type\":\"scattergeo\"}],\"scattergl\":[{\"marker\":{\"colorbar\":{\"outlinewidth\":0,\"ticks\":\"\"}},\"type\":\"scattergl\"}],\"scattermapbox\":[{\"marker\":{\"colorbar\":{\"outlinewidth\":0,\"ticks\":\"\"}},\"type\":\"scattermapbox\"}],\"scatterpolargl\":[{\"marker\":{\"colorbar\":{\"outlinewidth\":0,\"ticks\":\"\"}},\"type\":\"scatterpolargl\"}],\"scatterpolar\":[{\"marker\":{\"colorbar\":{\"outlinewidth\":0,\"ticks\":\"\"}},\"type\":\"scatterpolar\"}],\"scatter\":[{\"fillpattern\":{\"fillmode\":\"overlay\",\"size\":10,\"solidity\":0.2},\"type\":\"scatter\"}],\"scatterternary\":[{\"marker\":{\"colorbar\":{\"outlinewidth\":0,\"ticks\":\"\"}},\"type\":\"scatterternary\"}],\"surface\":[{\"colorbar\":{\"outlinewidth\":0,\"ticks\":\"\"},\"colorscale\":[[0.0,\"#0d0887\"],[0.1111111111111111,\"#46039f\"],[0.2222222222222222,\"#7201a8\"],[0.3333333333333333,\"#9c179e\"],[0.4444444444444444,\"#bd3786\"],[0.5555555555555556,\"#d8576b\"],[0.6666666666666666,\"#ed7953\"],[0.7777777777777778,\"#fb9f3a\"],[0.8888888888888888,\"#fdca26\"],[1.0,\"#f0f921\"]],\"type\":\"surface\"}],\"table\":[{\"cells\":{\"fill\":{\"color\":\"#EBF0F8\"},\"line\":{\"color\":\"white\"}},\"header\":{\"fill\":{\"color\":\"#C8D4E3\"},\"line\":{\"color\":\"white\"}},\"type\":\"table\"}]},\"layout\":{\"annotationdefaults\":{\"arrowcolor\":\"#2a3f5f\",\"arrowhead\":0,\"arrowwidth\":1},\"autotypenumbers\":\"strict\",\"coloraxis\":{\"colorbar\":{\"outlinewidth\":0,\"ticks\":\"\"}},\"colorscale\":{\"diverging\":[[0,\"#8e0152\"],[0.1,\"#c51b7d\"],[0.2,\"#de77ae\"],[0.3,\"#f1b6da\"],[0.4,\"#fde0ef\"],[0.5,\"#f7f7f7\"],[0.6,\"#e6f5d0\"],[0.7,\"#b8e186\"],[0.8,\"#7fbc41\"],[0.9,\"#4d9221\"],[1,\"#276419\"]],\"sequential\":[[0.0,\"#0d0887\"],[0.1111111111111111,\"#46039f\"],[0.2222222222222222,\"#7201a8\"],[0.3333333333333333,\"#9c179e\"],[0.4444444444444444,\"#bd3786\"],[0.5555555555555556,\"#d8576b\"],[0.6666666666666666,\"#ed7953\"],[0.7777777777777778,\"#fb9f3a\"],[0.8888888888888888,\"#fdca26\"],[1.0,\"#f0f921\"]],\"sequentialminus\":[[0.0,\"#0d0887\"],[0.1111111111111111,\"#46039f\"],[0.2222222222222222,\"#7201a8\"],[0.3333333333333333,\"#9c179e\"],[0.4444444444444444,\"#bd3786\"],[0.5555555555555556,\"#d8576b\"],[0.6666666666666666,\"#ed7953\"],[0.7777777777777778,\"#fb9f3a\"],[0.8888888888888888,\"#fdca26\"],[1.0,\"#f0f921\"]]},\"colorway\":[\"#636efa\",\"#EF553B\",\"#00cc96\",\"#ab63fa\",\"#FFA15A\",\"#19d3f3\",\"#FF6692\",\"#B6E880\",\"#FF97FF\",\"#FECB52\"],\"font\":{\"color\":\"#2a3f5f\"},\"geo\":{\"bgcolor\":\"white\",\"lakecolor\":\"white\",\"landcolor\":\"white\",\"showlakes\":true,\"showland\":true,\"subunitcolor\":\"#C8D4E3\"},\"hoverlabel\":{\"align\":\"left\"},\"hovermode\":\"closest\",\"mapbox\":{\"style\":\"light\"},\"paper_bgcolor\":\"white\",\"plot_bgcolor\":\"white\",\"polar\":{\"angularaxis\":{\"gridcolor\":\"#EBF0F8\",\"linecolor\":\"#EBF0F8\",\"ticks\":\"\"},\"bgcolor\":\"white\",\"radialaxis\":{\"gridcolor\":\"#EBF0F8\",\"linecolor\":\"#EBF0F8\",\"ticks\":\"\"}},\"scene\":{\"xaxis\":{\"backgroundcolor\":\"white\",\"gridcolor\":\"#DFE8F3\",\"gridwidth\":2,\"linecolor\":\"#EBF0F8\",\"showbackground\":true,\"ticks\":\"\",\"zerolinecolor\":\"#EBF0F8\"},\"yaxis\":{\"backgroundcolor\":\"white\",\"gridcolor\":\"#DFE8F3\",\"gridwidth\":2,\"linecolor\":\"#EBF0F8\",\"showbackground\":true,\"ticks\":\"\",\"zerolinecolor\":\"#EBF0F8\"},\"zaxis\":{\"backgroundcolor\":\"white\",\"gridcolor\":\"#DFE8F3\",\"gridwidth\":2,\"linecolor\":\"#EBF0F8\",\"showbackground\":true,\"ticks\":\"\",\"zerolinecolor\":\"#EBF0F8\"}},\"shapedefaults\":{\"line\":{\"color\":\"#2a3f5f\"}},\"ternary\":{\"aaxis\":{\"gridcolor\":\"#DFE8F3\",\"linecolor\":\"#A2B1C6\",\"ticks\":\"\"},\"baxis\":{\"gridcolor\":\"#DFE8F3\",\"linecolor\":\"#A2B1C6\",\"ticks\":\"\"},\"bgcolor\":\"white\",\"caxis\":{\"gridcolor\":\"#DFE8F3\",\"linecolor\":\"#A2B1C6\",\"ticks\":\"\"}},\"title\":{\"x\":0.05},\"xaxis\":{\"automargin\":true,\"gridcolor\":\"#EBF0F8\",\"linecolor\":\"#EBF0F8\",\"ticks\":\"\",\"title\":{\"standoff\":15},\"zerolinecolor\":\"#EBF0F8\",\"zerolinewidth\":2},\"yaxis\":{\"automargin\":true,\"gridcolor\":\"#EBF0F8\",\"linecolor\":\"#EBF0F8\",\"ticks\":\"\",\"title\":{\"standoff\":15},\"zerolinecolor\":\"#EBF0F8\",\"zerolinewidth\":2}}},\"xaxis\":{\"anchor\":\"y\",\"domain\":[0.0,1.0],\"title\":{\"text\":\"Steps ahead\"}},\"yaxis\":{\"anchor\":\"x\",\"domain\":[0.0,1.0],\"title\":{\"text\":\"MAE\"}},\"legend\":{\"title\":{\"text\":\"Experiment\"},\"tracegroupgap\":0,\"x\":1.05,\"y\":1,\"xanchor\":\"left\",\"yanchor\":\"top\"},\"title\":{\"text\":\"Overall Steps Ahead MAE\"},\"margin\":{\"l\":40,\"r\":40,\"t\":40,\"b\":40}},                        {\"responsive\": true}                    ).then(function(){\n",
       "                            \n",
       "var gd = document.getElementById('dc7b8a4d-2855-479b-bd64-0a995fc498dd');\n",
       "var x = new MutationObserver(function (mutations, observer) {{\n",
       "        var display = window.getComputedStyle(gd).display;\n",
       "        if (!display || display === 'none') {{\n",
       "            console.log([gd, 'removed!']);\n",
       "            Plotly.purge(gd);\n",
       "            observer.disconnect();\n",
       "        }}\n",
       "}});\n",
       "\n",
       "// Listen for the removal of the full notebook cells\n",
       "var notebookContainer = gd.closest('#notebook-container');\n",
       "if (notebookContainer) {{\n",
       "    x.observe(notebookContainer, {childList: true});\n",
       "}}\n",
       "\n",
       "// Listen for the clearing of the current output cell\n",
       "var outputEl = gd.closest('.output');\n",
       "if (outputEl) {{\n",
       "    x.observe(outputEl, {childList: true});\n",
       "}}\n",
       "\n",
       "                        })                };                });            </script>        </div>"
      ]
     },
     "metadata": {},
     "output_type": "display_data"
    }
   ],
   "source": [
    "\n",
    "# Reshape the data into long format\n",
    "df_long = df.melt(\n",
    "    id_vars=['Steps ahead'], \n",
    "    var_name='Experiment', \n",
    "    value_name='MAE'\n",
    ")\n",
    "\n",
    "# Plotly line plot\n",
    "fig = px.line(\n",
    "    df_long,\n",
    "    x='Steps ahead',\n",
    "    y='MAE',\n",
    "    color='Experiment',\n",
    "    markers=True,\n",
    "    title=\"Overall Steps Ahead MAE\"\n",
    ")\n",
    "\n",
    "# Customize layout\n",
    "fig.update_layout(\n",
    "    xaxis_title='Steps ahead',\n",
    "    yaxis_title='MAE',\n",
    "    legend_title='Experiment',\n",
    "    legend=dict(x=1.05, y=1, xanchor='left', yanchor='top'),\n",
    "    margin=dict(l=40, r=40, t=40, b=40), # Adjusts plot margins\n",
    "    template='plotly_white'\n",
    ")\n",
    "\n",
    "# Show the plot\n",
    "fig.show()\n"
   ]
  },
  {
   "cell_type": "code",
   "execution_count": null,
   "metadata": {},
   "outputs": [],
   "source": []
  },
  {
   "cell_type": "markdown",
   "metadata": {},
   "source": [
    "## Conditions and 1 step ahead"
   ]
  },
  {
   "cell_type": "code",
   "execution_count": 90,
   "metadata": {},
   "outputs": [
    {
     "data": {
      "text/html": [
       "<div>\n",
       "<style scoped>\n",
       "    .dataframe tbody tr th:only-of-type {\n",
       "        vertical-align: middle;\n",
       "    }\n",
       "\n",
       "    .dataframe tbody tr th {\n",
       "        vertical-align: top;\n",
       "    }\n",
       "\n",
       "    .dataframe thead th {\n",
       "        text-align: right;\n",
       "    }\n",
       "</style>\n",
       "<table border=\"1\" class=\"dataframe\">\n",
       "  <thead>\n",
       "    <tr style=\"text-align: right;\">\n",
       "      <th>Condition</th>\n",
       "      <th>Overall</th>\n",
       "      <th>Rain</th>\n",
       "      <th>Extreme</th>\n",
       "      <th>Dry</th>\n",
       "    </tr>\n",
       "  </thead>\n",
       "  <tbody>\n",
       "    <tr>\n",
       "      <th>6_final_selection</th>\n",
       "      <td>0.000911</td>\n",
       "      <td>0.001543</td>\n",
       "      <td>0.001765</td>\n",
       "      <td>0.000774</td>\n",
       "    </tr>\n",
       "    <tr>\n",
       "      <th>4_modelling_choices</th>\n",
       "      <td>0.001064</td>\n",
       "      <td>0.001642</td>\n",
       "      <td>0.002217</td>\n",
       "      <td>0.000905</td>\n",
       "    </tr>\n",
       "    <tr>\n",
       "      <th>5_data_priorities</th>\n",
       "      <td>0.001077</td>\n",
       "      <td>0.001797</td>\n",
       "      <td>0.002043</td>\n",
       "      <td>0.000910</td>\n",
       "    </tr>\n",
       "    <tr>\n",
       "      <th>3_training_parameters</th>\n",
       "      <td>0.001107</td>\n",
       "      <td>0.001679</td>\n",
       "      <td>0.002187</td>\n",
       "      <td>0.000951</td>\n",
       "    </tr>\n",
       "    <tr>\n",
       "      <th>2_data_features</th>\n",
       "      <td>0.001227</td>\n",
       "      <td>0.001941</td>\n",
       "      <td>0.002523</td>\n",
       "      <td>0.001072</td>\n",
       "    </tr>\n",
       "    <tr>\n",
       "      <th>1_model_complexity</th>\n",
       "      <td>0.002057</td>\n",
       "      <td>0.002761</td>\n",
       "      <td>0.003011</td>\n",
       "      <td>0.001892</td>\n",
       "    </tr>\n",
       "  </tbody>\n",
       "</table>\n",
       "</div>"
      ],
      "text/plain": [
       "Condition               Overall      Rain   Extreme       Dry\n",
       "6_final_selection      0.000911  0.001543  0.001765  0.000774\n",
       "4_modelling_choices    0.001064  0.001642  0.002217  0.000905\n",
       "5_data_priorities      0.001077  0.001797  0.002043  0.000910\n",
       "3_training_parameters  0.001107  0.001679  0.002187  0.000951\n",
       "2_data_features        0.001227  0.001941  0.002523  0.001072\n",
       "1_model_complexity     0.002057  0.002761  0.003011  0.001892"
      ]
     },
     "execution_count": 90,
     "metadata": {},
     "output_type": "execute_result"
    }
   ],
   "source": [
    "# create the dataframe\n",
    "df = pd.DataFrame()\n",
    "\n",
    "for i, run in enumerate(runs):\n",
    "    experiment_name = runs[run]['experiment_name']\n",
    "    condition_MAEs = runs[run][data_type]['condition_MAEs']\n",
    "    condition_1_step_overall = condition_MAEs.loc[1, ['Overall']].rename(columns={'Overall': experiment_name}).T\n",
    "    df = pd.concat([df, condition_1_step_overall])\n",
    "\n",
    "n_conditions = df.shape[1]\n",
    "# sort rows by overall 1-step MAE column\n",
    "df = df.sort_values(by='Overall', axis=0)\n",
    "df"
   ]
  },
  {
   "cell_type": "code",
   "execution_count": 91,
   "metadata": {},
   "outputs": [
    {
     "data": {
      "image/png": "[encoded data removed]",
      "text/plain": [
       "<Figure size 1200x400 with 4 Axes>"
      ]
     },
     "metadata": {},
     "output_type": "display_data"
    }
   ],
   "source": [
    "# Create a figure with an additional column for averages\n",
    "fig, axs = plt.subplots(1, n_conditions, figsize=(12, 1+df.shape[0]//2))\n",
    "\n",
    "for i, condition in enumerate(df.columns):\n",
    "    axs[i] = sns.barplot(data=df, y=df.index, x=condition, ax=axs[i], saturation=0.5, color = condition_to_meta[condition]['color'])\n",
    "    # add tooltips\n",
    "    lowest_value = df[condition].min()\n",
    "    for j, value in enumerate(df[condition]):\n",
    "        color = 'black' if value != lowest_value else 'darkgreen'\n",
    "        fontweight = 'normal' if value != lowest_value else 'bold'\n",
    "        axs[i].text(value, j, f'{value:.{round_to}f} ', ha='right', va='center', fontsize=10, color=color, fontweight=fontweight)\n",
    "\n",
    "    axs[i].set_title(condition, fontsize=16)\n",
    "    axs[i].tick_params(axis='y', labelsize=12) if i == 0 else axs[i].tick_params(axis='y', labelsize=1, colors='white')\n",
    "    axs[i].set_xlabel('')\n",
    "    axs[i].set_ylabel('')\n",
    "    axs[i].set_xticks([])\n",
    "    axs[i].margins(x=0)\n",
    "    sns.despine(ax=axs[i], left=True, bottom=True)\n",
    "\n",
    "plt.tight_layout()\n",
    "plt.savefig(plots_folder / 'condition_1_step_MAE.png', dpi=150)\n",
    "plt.show()\n"
   ]
  },
  {
   "cell_type": "markdown",
   "metadata": {},
   "source": [
    "## Training time and epochs"
   ]
  },
  {
   "cell_type": "code",
   "execution_count": 92,
   "metadata": {},
   "outputs": [
    {
     "data": {
      "text/html": [
       "<div>\n",
       "<style scoped>\n",
       "    .dataframe tbody tr th:only-of-type {\n",
       "        vertical-align: middle;\n",
       "    }\n",
       "\n",
       "    .dataframe tbody tr th {\n",
       "        vertical-align: top;\n",
       "    }\n",
       "\n",
       "    .dataframe thead th {\n",
       "        text-align: right;\n",
       "    }\n",
       "</style>\n",
       "<table border=\"1\" class=\"dataframe\">\n",
       "  <thead>\n",
       "    <tr style=\"text-align: right;\">\n",
       "      <th></th>\n",
       "      <th>1-step MAE</th>\n",
       "      <th>Epochs</th>\n",
       "      <th>Training time (min.)</th>\n",
       "      <th>Parameters</th>\n",
       "    </tr>\n",
       "    <tr>\n",
       "      <th>Experiment</th>\n",
       "      <th></th>\n",
       "      <th></th>\n",
       "      <th></th>\n",
       "      <th></th>\n",
       "    </tr>\n",
       "  </thead>\n",
       "  <tbody>\n",
       "    <tr>\n",
       "      <th>6_final_selection</th>\n",
       "      <td>0.000911</td>\n",
       "      <td>7</td>\n",
       "      <td>539.484877</td>\n",
       "      <td>134401</td>\n",
       "    </tr>\n",
       "    <tr>\n",
       "      <th>4_modelling_choices</th>\n",
       "      <td>0.001064</td>\n",
       "      <td>12</td>\n",
       "      <td>538.823313</td>\n",
       "      <td>134401</td>\n",
       "    </tr>\n",
       "    <tr>\n",
       "      <th>5_data_priorities</th>\n",
       "      <td>0.001077</td>\n",
       "      <td>2</td>\n",
       "      <td>418.013472</td>\n",
       "      <td>134401</td>\n",
       "    </tr>\n",
       "    <tr>\n",
       "      <th>3_training_parameters</th>\n",
       "      <td>0.001107</td>\n",
       "      <td>12</td>\n",
       "      <td>509.242434</td>\n",
       "      <td>134401</td>\n",
       "    </tr>\n",
       "    <tr>\n",
       "      <th>2_data_features</th>\n",
       "      <td>0.001227</td>\n",
       "      <td>8</td>\n",
       "      <td>334.551990</td>\n",
       "      <td>134401</td>\n",
       "    </tr>\n",
       "    <tr>\n",
       "      <th>1_model_complexity</th>\n",
       "      <td>0.002057</td>\n",
       "      <td>10</td>\n",
       "      <td>349.729599</td>\n",
       "      <td>134145</td>\n",
       "    </tr>\n",
       "  </tbody>\n",
       "</table>\n",
       "</div>"
      ],
      "text/plain": [
       "                       1-step MAE  Epochs  Training time (min.)  Parameters\n",
       "Experiment                                                                 \n",
       "6_final_selection        0.000911       7            539.484877      134401\n",
       "4_modelling_choices      0.001064      12            538.823313      134401\n",
       "5_data_priorities        0.001077       2            418.013472      134401\n",
       "3_training_parameters    0.001107      12            509.242434      134401\n",
       "2_data_features          0.001227       8            334.551990      134401\n",
       "1_model_complexity       0.002057      10            349.729599      134145"
      ]
     },
     "execution_count": 92,
     "metadata": {},
     "output_type": "execute_result"
    }
   ],
   "source": [
    "# create the dataframe\n",
    "df = pd.DataFrame()\n",
    "\n",
    "for i, run in enumerate(runs):\n",
    "    experiment_name = runs[run]['experiment_name']\n",
    "    epochs = runs[run]['epoch']\n",
    "    if 'epoch' in str(epochs):\n",
    "        # find and replace the epoch number\n",
    "        epochs = int(re.search(r'epoch=(\\d+)', epochs).group(1))\n",
    "    training_time = runs[run]['training_time']\n",
    "    n_parameters = runs[run]['n_parameters']    \n",
    "    _df = pd.DataFrame({\n",
    "        'Experiment': experiment_name,\n",
    "        '1-step MAE': runs[run][data_type]['step_MAEs'].loc[1, 'Overall'],\n",
    "        'Epochs': epochs,\n",
    "        'Training time (min.)': training_time,\n",
    "        'Parameters': n_parameters,\n",
    "    }, index=[experiment_name])\n",
    "\n",
    "    df = pd.concat([df, _df])\n",
    "\n",
    "# sort rows by overall 1-step MAE column\n",
    "df = df.sort_values(by='1-step MAE')\n",
    "# set experiment as index\n",
    "df = df.set_index('Experiment')\n",
    "n_conditions = df.shape[1]\n",
    "df"
   ]
  },
  {
   "cell_type": "code",
   "execution_count": 93,
   "metadata": {},
   "outputs": [
    {
     "data": {
      "image/png": "[encoded data removed]",
      "text/plain": [
       "<Figure size 1200x400 with 4 Axes>"
      ]
     },
     "metadata": {},
     "output_type": "display_data"
    }
   ],
   "source": [
    "# Create a figure with an additional column for averages\n",
    "fig, axs = plt.subplots(1, n_conditions, figsize=(12, 1+df.shape[0]//2))\n",
    "\n",
    "for i, condition in enumerate(df.columns):\n",
    "    sns.barplot(data=df, y=df.index, x=condition, ax=axs[i], saturation=0.5, color = 'mediumpurple')\n",
    "    # add tooltips\n",
    "    # Add tooltips on the opposite side of the bars\n",
    "    lowest_value = df[condition].min()\n",
    "    lowest_value = lowest_value if lowest_value != 0 else df[condition].sort_values().iloc[1]\n",
    "    for j, value in enumerate(df[condition]):\n",
    "        #color = 'white' #if value != lowest_value else '#8cc4a0'\n",
    "        color = \"black\"\n",
    "        fontweight = 'normal' if value != lowest_value else 'bold'\n",
    "        if condition ==\"1-step MAE\":\n",
    "            value = round(value, round_to)\n",
    "        else:\n",
    "            value = int(value)\n",
    "        \n",
    "        str_value = str(value)\n",
    "        #str_value = f\"{value:.1e}\" if (len(str(value))>5 and condition=='Parameters') else f\"{value:.{round_to}f}\"\n",
    "        #axs[i].text(value, j, str_value+\" \", ha='right', va='center', fontsize=10, color=color, fontweight=fontweight)\n",
    "        axs[i].text(value, j, \" \" + str_value + \" \", ha='left', va='center', fontsize=10, color=color, fontweight=fontweight)\n",
    "\n",
    "    axs[i].set_title(condition, fontsize=16)\n",
    "    axs[i].tick_params(axis='y', labelsize=12) if i == 0 else axs[i].tick_params(axis='y', labelsize=1, colors='white')\n",
    "    axs[i].set_xlabel('')\n",
    "    axs[i].set_ylabel('')\n",
    "    axs[i].set_xticks([])\n",
    "    axs[i].margins(x=0)\n",
    "    sns.despine(ax=axs[i], left=True, bottom=True)\n",
    "\n",
    "plt.tight_layout()\n",
    "plt.savefig(plots_folder / 'parameters_1_step_MAE.png', dpi=150)\n",
    "plt.show()\n"
   ]
  },
  {
   "cell_type": "code",
   "execution_count": null,
   "metadata": {},
   "outputs": [],
   "source": []
  },
  {
   "cell_type": "code",
   "execution_count": null,
   "metadata": {},
   "outputs": [],
   "source": []
  },
  {
   "cell_type": "code",
   "execution_count": 94,
   "metadata": {},
   "outputs": [
    {
     "ename": "ValueError",
     "evalue": "Stop here",
     "output_type": "error",
     "traceback": [
      "\u001b[0;31m---------------------------------------------------------------------------\u001b[0m",
      "\u001b[0;31mValueError\u001b[0m                                Traceback (most recent call last)",
      "Cell \u001b[0;32mIn[94], line 1\u001b[0m\n\u001b[0;32m----> 1\u001b[0m \u001b[38;5;28;01mraise\u001b[39;00m \u001b[38;5;167;01mValueError\u001b[39;00m(\u001b[38;5;124m'\u001b[39m\u001b[38;5;124mStop here\u001b[39m\u001b[38;5;124m'\u001b[39m)   \n",
      "\u001b[0;31mValueError\u001b[0m: Stop here"
     ]
    }
   ],
   "source": [
    "raise ValueError('Stop here')   "
   ]
  },
  {
   "cell_type": "markdown",
   "metadata": {},
   "source": [
    "## Get n parameters if missing"
   ]
  },
  {
   "cell_type": "code",
   "execution_count": null,
   "metadata": {},
   "outputs": [],
   "source": [
    "experiment_name = 'LSTM'\n",
    "save_folder = MODELS_DIR / experiment_folder_name / experiment_name\n",
    "\n",
    "run_folder = save_folder / relative_path\n",
    "eval_folder = run_folder / 'evaluation'\n",
    "\n",
    "# Get relevant indo\n",
    "config = yaml.load(open(save_folder / 'config.yaml', 'r'), Loader=yaml.Loader)\n",
    "# load pkl _with cpu\n",
    "split_info = torch.load(save_folder / 'split_info.pkl', map_location='cpu')\n",
    "run_info = split_info[split]"
   ]
  },
  {
   "cell_type": "code",
   "execution_count": 89,
   "metadata": {},
   "outputs": [
    {
     "data": {
      "text/plain": [
       "dict_keys(['dataset_args', 'experiment_name', 'hparam_key_paths', 'model_args', 'predict_steps_ahead', 'save_folder', 'split_folders', 'training_args'])"
      ]
     },
     "execution_count": 89,
     "metadata": {},
     "output_type": "execute_result"
    }
   ],
   "source": [
    "config.keys()"
   ]
  },
  {
   "cell_type": "code",
   "execution_count": 90,
   "metadata": {},
   "outputs": [
    {
     "name": "stdout",
     "output_type": "stream",
     "text": [
      "Using CPU\n",
      "Model loaded from /work3/s194262/GitHub/fault_management_uds/models/benchmark/LSTM/1_split/epoch=36-val_loss=0.0000102.ckpt\n"
     ]
    }
   ],
   "source": [
    "# load the model\n",
    "model_to_load = 'best_model_path' # ['best_model_path', 'last_model_path']\n",
    "additional_configurations = {'n_obs': 1, 'endogenous_idx': 2}\n",
    "model = load_model_checkpoint(run_folder, run_info, model_to_load, config, additional_configurations)"
   ]
  },
  {
   "cell_type": "code",
   "execution_count": 91,
   "metadata": {},
   "outputs": [],
   "source": [
    "from fault_management_uds.train import count_parameters"
   ]
  },
  {
   "cell_type": "code",
   "execution_count": 92,
   "metadata": {},
   "outputs": [
    {
     "name": "stdout",
     "output_type": "stream",
     "text": [
      "The model has 13089 parameters\n"
     ]
    }
   ],
   "source": [
    "print(f'The model has {count_parameters(model)} parameters')"
   ]
  },
  {
   "cell_type": "code",
   "execution_count": 93,
   "metadata": {},
   "outputs": [],
   "source": [
    "\n",
    "split = 0 # first split\n",
    "relative_path = f'{split+1}_split/'\n",
    "\n",
    "split_info[split]['n_parameters'] = count_parameters(model)\n",
    "\n",
    "torch.save(split_info, save_folder / 'split_info.pkl')"
   ]
  },
  {
   "cell_type": "code",
   "execution_count": null,
   "metadata": {},
   "outputs": [],
   "source": []
  },
  {
   "cell_type": "code",
   "execution_count": null,
   "metadata": {},
   "outputs": [],
   "source": []
  },
  {
   "cell_type": "code",
   "execution_count": null,
   "metadata": {},
   "outputs": [],
   "source": []
  }
 ],
 "metadata": {
  "kernelspec": {
   "display_name": "thesis",
   "language": "python",
   "name": "python3"
  },
  "language_info": {
   "codemirror_mode": {
    "name": "ipython",
    "version": 3
   },
   "file_extension": ".py",
   "mimetype": "text/x-python",
   "name": "python",
   "nbconvert_exporter": "python",
   "pygments_lexer": "ipython3",
   "version": "3.9.21"
  }
 },
 "nbformat": 4,
 "nbformat_minor": 2
}
