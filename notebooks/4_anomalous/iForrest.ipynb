{
 "cells": [
  {
   "cell_type": "markdown",
   "metadata": {},
   "source": [
    "# Isolation Forest"
   ]
  },
  {
   "cell_type": "code",
   "execution_count": 1,
   "metadata": {},
   "outputs": [],
   "source": [
    "import numpy as np\n",
    "import pandas as pd\n",
    "from sklearn.ensemble import IsolationForest\n",
    "from sklearn.datasets import make_blobs\n"
   ]
  },
  {
   "cell_type": "code",
   "execution_count": 2,
   "metadata": {},
   "outputs": [],
   "source": [
    "\n",
    "# Generate synthetic data with some outliers\n",
    "n_samples = 100\n",
    "n_features = 2\n",
    "n_outliers = 10  # 10% outliers\n",
    "X, y = make_blobs(n_samples=n_samples - n_outliers, n_features=n_features, centers=2, random_state=42)\n",
    "X_outliers = np.random.uniform(low=-5, high=5, size=(n_outliers, n_features))  # Create outliers\n",
    "X = np.concatenate([X, X_outliers])\n"
   ]
  },
  {
   "cell_type": "code",
   "execution_count": 3,
   "metadata": {},
   "outputs": [],
   "source": [
    "\n",
    "# Fit Isolation Forest with specified contamination\n",
    "contamination = 0.1  # 10% contamination\n",
    "model = IsolationForest(contamination=contamination, random_state=42)\n",
    "model.fit(X)\n",
    "\n",
    "# Get anomaly scores (s values)\n",
    "anomaly_scores = model.decision_function(X) # Note: this is NOT the s function, but the decision function\n",
    "s_values = -model.score_samples(X) # This is the anomaly score, higher is more anomalous\n",
    "\n",
    "# Predict anomalies (-1) and inliers (1)\n",
    "predictions = model.predict(X)\n"
   ]
  },
  {
   "cell_type": "code",
   "execution_count": 7,
   "metadata": {},
   "outputs": [
    {
     "name": "stdout",
     "output_type": "stream",
     "text": [
      "Expected number of anomalies: 10\n",
      "Predicted number of anomalies: 10\n",
      "\n",
      "Threshold on anomaly scores: 0.4108313614474001\n"
     ]
    }
   ],
   "source": [
    "\n",
    "# Count the number of predicted anomalies\n",
    "n_predicted_anomalies = np.sum(predictions == -1)\n",
    "\n",
    "# Verify the number of predicted anomalies is close to the expected number\n",
    "print(f\"Expected number of anomalies: {n_outliers}\")\n",
    "print(f\"Predicted number of anomalies: {n_predicted_anomalies}\")\n",
    "\n",
    "# Demonstrate relationship between anomaly scores, decision function, and predictions\n",
    "df_results = pd.DataFrame({'anomaly_score': s_values, 'decision_function': anomaly_scores, 'prediction': predictions})\n",
    "\n",
    "# Sort by anomaly score to see how threshold works\n",
    "df_results_sorted = df_results.sort_values('anomaly_score', ascending=False)\n",
    "\n",
    "# Demonstrate threshold\n",
    "threshold = np.quantile(s_values, contamination) # Threshold for anomaly scores\n",
    "print(f\"\\nThreshold on anomaly scores: {threshold}\")\n",
    "# print(f\"Anomaly scores above threshold ({threshold}):\")\n",
    "# print(s_values[s_values > threshold])\n"
   ]
  },
  {
   "cell_type": "code",
   "execution_count": null,
   "metadata": {},
   "outputs": [],
   "source": []
  },
  {
   "cell_type": "code",
   "execution_count": null,
   "metadata": {},
   "outputs": [],
   "source": []
  }
 ],
 "metadata": {
  "kernelspec": {
   "display_name": "thesis",
   "language": "python",
   "name": "python3"
  },
  "language_info": {
   "codemirror_mode": {
    "name": "ipython",
    "version": 3
   },
   "file_extension": ".py",
   "mimetype": "text/x-python",
   "name": "python",
   "nbconvert_exporter": "python",
   "pygments_lexer": "ipython3",
   "version": "3.9.21"
  }
 },
 "nbformat": 4,
 "nbformat_minor": 2
}
