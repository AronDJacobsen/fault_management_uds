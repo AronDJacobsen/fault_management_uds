{
 "cells": [
  {
   "cell_type": "markdown",
   "metadata": {},
   "source": [
    "# Creating the polluted data"
   ]
  },
  {
   "cell_type": "code",
   "execution_count": 1,
   "metadata": {},
   "outputs": [
    {
     "name": "stderr",
     "output_type": "stream",
     "text": [
      "\u001b[32m2025-01-06 07:46:23.790\u001b[0m | \u001b[1mINFO    \u001b[0m | \u001b[36mfault_management_uds.config\u001b[0m:\u001b[36m<module>\u001b[0m:\u001b[36m15\u001b[0m - \u001b[1mPROJ_ROOT path is: /work3/s194262/GitHub/fault_management_uds\u001b[0m\n"
     ]
    }
   ],
   "source": [
    "import yaml\n",
    "import json\n",
    "\n",
    "import numpy as np\n",
    "import pandas as pd\n",
    "import matplotlib.pyplot as plt\n",
    "import seaborn as sns\n",
    "\n",
    "\n",
    "from fault_management_uds.config import Config\n",
    "from fault_management_uds.data.load import import_metadata\n",
    "from fault_management_uds.data.hdf_tools import delete_group, create_group, print_tree, save_dataframe_in_HDF5, load_dataframe_from_HDF5, update_filtered_data_in_HDF5\n",
    "from fault_management_uds.data.process import remove_nans_from_start_end\n",
    "from fault_management_uds.data.dataset import handle_splits, identify_valid_indices\n",
    "\n",
    "\n",
    "from fault_management_uds.synthetic.synthetic_generator import AnomalyHandler, find_unterrupted_sequences\n",
    "\n",
    "\n",
    "from fault_management_uds.config import PROJ_ROOT\n",
    "from fault_management_uds.config import DATA_DIR, RAW_DATA_DIR, INTERIM_DATA_DIR, PROCESSED_DATA_DIR, EXTERNAL_DATA_DIR\n",
    "from fault_management_uds.config import MODELS_DIR, REPORTS_DIR, FIGURES_DIR, REFERENCE_DIR\n",
    "from fault_management_uds.config import rain_gauge_color, condition_to_meta"
   ]
  },
  {
   "cell_type": "markdown",
   "metadata": {},
   "source": [
    "## Prepare"
   ]
  },
  {
   "cell_type": "code",
   "execution_count": 2,
   "metadata": {},
   "outputs": [
    {
     "name": "stdout",
     "output_type": "stream",
     "text": [
      "combined_data\n",
      "├── clean\n",
      "│   ├── columns\n",
      "│   ├── data\n",
      "│   └── timestamps\n",
      "└── raw\n",
      "    ├── columns\n",
      "    ├── data\n",
      "    └── timestamps\n"
     ]
    }
   ],
   "source": [
    "data_file_path = PROCESSED_DATA_DIR / 'Bellinge.h5'\n",
    "\n",
    "f = print_tree(data_file_path, 'combined_data')\n",
    "\n",
    "# # create a new group called anomalous\n",
    "# create_group(data_file_path, 'combined_data/anomalous', verbose=False)\n",
    "# f = print_tree(data_file_path, 'combined_data')\n",
    "delete_group(data_file_path, 'combined_data/anomalous', verbose=False)"
   ]
  },
  {
   "cell_type": "code",
   "execution_count": 3,
   "metadata": {},
   "outputs": [],
   "source": [
    "# load yaml file\n",
    "with open(REFERENCE_DIR / 'synthetic_config.yaml', 'r') as f:\n",
    "    synthetic_config = yaml.safe_load(f)\n",
    "\n",
    "metadata = import_metadata(REFERENCE_DIR / 'sensor_metadata.csv')\n",
    "# load the sensor ranges\n",
    "with open(REFERENCE_DIR / 'sensor_ranges.json', 'r') as f:\n",
    "    sensor_ranges = json.load(f)"
   ]
  },
  {
   "cell_type": "markdown",
   "metadata": {},
   "source": [
    "## Define synthetic data"
   ]
  },
  {
   "cell_type": "code",
   "execution_count": 4,
   "metadata": {},
   "outputs": [
    {
     "name": "stdout",
     "output_type": "stream",
     "text": [
      "Warning: ['name'] is not a list; must be for hparam search\n"
     ]
    }
   ],
   "source": [
    "# select a experiment configuration as base\n",
    "experiment_config_path = 'transformer/6_final_selection/final.yaml'\n",
    "\n",
    "# create the config\n",
    "config = Config(experiment_config_path, fast_run=False, save_folder=None, num_workers=0)"
   ]
  },
  {
   "cell_type": "code",
   "execution_count": 5,
   "metadata": {},
   "outputs": [
    {
     "name": "stdout",
     "output_type": "stream",
     "text": [
      "Sensor to pollute: G71F04R_Level2\n",
      "Data variables: ['5425', 'G71F05R_LevelInlet', 'G71F06R_LevelInlet', 'G71F04R_Level2']\n"
     ]
    }
   ],
   "source": [
    "# the sensor to pollute\n",
    "sensor_name = config.config['dataset_args']['endogenous_vars'][0]\n",
    "print(f\"Sensor to pollute: {sensor_name}\")\n",
    "\n",
    "# the variables to save\n",
    "data_variables = config.config['dataset_args']['data_variables']\n",
    "print(f\"Data variables: {data_variables}\")"
   ]
  },
  {
   "cell_type": "code",
   "execution_count": 6,
   "metadata": {},
   "outputs": [],
   "source": [
    "# Extract more info\n",
    "sensor_scale = sensor_ranges[sensor_name]['clean']['range']\n",
    "sensor_meta = metadata[metadata['IdMeasurement'] == sensor_name]\n",
    "unit = sensor_meta['UnitAlias'].values[0]\n",
    "obvious_min = sensor_meta['obvious_min'].values[0]\n",
    "obvious_max = sensor_meta['obvious_max'].values[0]  "
   ]
  },
  {
   "cell_type": "markdown",
   "metadata": {},
   "source": [
    "#### Load data"
   ]
  },
  {
   "cell_type": "code",
   "execution_count": 7,
   "metadata": {},
   "outputs": [],
   "source": [
    "# load data\n",
    "data, _, _, _ = load_dataframe_from_HDF5(data_file_path, 'combined_data/clean')\n",
    "# filter the data based on the sensor name (remove nan from start and end)\n",
    "data = remove_nans_from_start_end(data, sensor_name)\n",
    "# filter out the necessary data variables\n",
    "data = data[data_variables]"
   ]
  },
  {
   "cell_type": "markdown",
   "metadata": {},
   "source": [
    "#### Prepare for anomaly injection"
   ]
  },
  {
   "cell_type": "code",
   "execution_count": 8,
   "metadata": {},
   "outputs": [
    {
     "name": "stdout",
     "output_type": "stream",
     "text": [
      "['spike', 'noise', 'frozen', 'offset', 'drift']\n"
     ]
    }
   ],
   "source": [
    "anomalies = list(synthetic_config['anomalies'].keys())\n",
    "print(anomalies)    \n",
    "severity = \"medium\"\n",
    "# buffers should be the separated by at least the sequence length\n",
    "buffer = config.config['dataset_args']['sequence_length']\n",
    "# edge buffer should be the separated by at least the prediction ahead and the sequence length\n",
    "edge_buffer = config.config['dataset_args']['sequence_length'] + config.config['predict_steps_ahead']\n"
   ]
  },
  {
   "cell_type": "code",
   "execution_count": 9,
   "metadata": {},
   "outputs": [],
   "source": [
    "not_nan_mask = np.logical_not(np.isnan(data.values).any(axis=1))\n",
    "valid_indices = identify_valid_indices(not_nan_mask, \n",
    "                                       config.config['dataset_args']['sequence_length'], \n",
    "                                       config.config['predict_steps_ahead'])"
   ]
  },
  {
   "cell_type": "markdown",
   "metadata": {},
   "source": [
    "## Inject the anomalies"
   ]
  },
  {
   "cell_type": "code",
   "execution_count": 10,
   "metadata": {},
   "outputs": [
    {
     "name": "stdout",
     "output_type": "stream",
     "text": [
      "Anomaly: spike\n",
      "Total injections: 1258\n",
      "Edge buffer is in available indices.\n",
      "Last index is in available indices.\n",
      "\n",
      "Anomaly: noise\n",
      "Total injections: 260\n",
      "Edge buffer is in available indices.\n",
      "\n",
      "Anomaly: frozen\n",
      "Total injections: 109\n",
      "Edge buffer is in available indices.\n",
      "\n",
      "Anomaly: offset\n",
      "Total injections: 161\n",
      "Edge buffer is in available indices.\n",
      "\n",
      "Anomaly: drift\n",
      "Total injections: 162\n",
      "Edge buffer is in available indices.\n",
      "\n"
     ]
    }
   ],
   "source": [
    "# convert form tensor to list\n",
    "valid_indices = list(valid_indices)\n",
    "n_obs = len(data)\n",
    "indicators = np.zeros(n_obs)\n",
    "polluted_data = data.copy()\n",
    "\n",
    "indicator_2_data_label = {\n",
    "    0: 'Original',\n",
    "}\n",
    "    \n",
    "for i, anomaly in enumerate(anomalies):\n",
    "    print(f\"Anomaly: {anomaly}\")\n",
    "    anomaly_config = synthetic_config['anomalies'][anomaly][severity]\n",
    "\n",
    "\n",
    "    anomaly_handler = AnomalyHandler(anomaly_config, anomaly, config.config['dataset_args']['endogenous_vars'], n_obs, sensor_scale, obvious_min, obvious_max, \n",
    "                                     seed=config.config['training_args']['seed'],\n",
    "                                     buffer=buffer, edge_buffer=edge_buffer, available_indices=valid_indices)\n",
    "\n",
    "    # Inject anomalies\n",
    "    anomaly_handler.initialize_injections()\n",
    "    # on the polluted\n",
    "    polluted_data = anomaly_handler.inject_anomalies(polluted_data)\n",
    "    # get the indicator\n",
    "    polluted_indicator = anomaly_handler.get_indicator()\n",
    "    # set 1 (anomaly) values to i+1\n",
    "    #anomaly_2_indicator[anomaly] = i+1\n",
    "    indicator_2_data_label[i+1] = anomaly.capitalize()\n",
    "    polluted_indicator = polluted_indicator * (i+1)\n",
    "    # join the indicators; but keep the polluted indicator value\n",
    "    indicators = np.maximum(indicators, polluted_indicator) # keep the highest value\n",
    "\n",
    "    # Only keep indices that are not polluted\n",
    "    valid_indices = [i for i in valid_indices if not indicators[i]] # remove the polluted indices if not 0\n",
    "    print('')\n",
    "\n",
    "# remap the indicators to the original values\n",
    "#indicators = np.array([indicator_2_data[i] for i in indicators])"
   ]
  },
  {
   "cell_type": "code",
   "execution_count": 11,
   "metadata": {},
   "outputs": [
    {
     "name": "stdout",
     "output_type": "stream",
     "text": [
      "Pollution proportion: 5.24%\n"
     ]
    }
   ],
   "source": [
    "print(f\"Pollution proportion: {100*np.sum(indicators!=0)/n_obs:.2f}%\")"
   ]
  },
  {
   "cell_type": "markdown",
   "metadata": {},
   "source": [
    "## Save"
   ]
  },
  {
   "cell_type": "code",
   "execution_count": 12,
   "metadata": {},
   "outputs": [],
   "source": [
    "# insert the indicators\n",
    "polluted_data['Data Label'] = indicators"
   ]
  },
  {
   "cell_type": "code",
   "execution_count": 13,
   "metadata": {},
   "outputs": [],
   "source": [
    "# save the dataframe in the HDF5\n",
    "save_dataframe_in_HDF5(data_file_path, 'combined_data', 'anomalous', polluted_data)\n",
    "\n",
    "# save the indicator_2_data_label as json\n",
    "with open(REFERENCE_DIR / 'indicator_2_data_label.json', 'w') as f:\n",
    "    json.dump(indicator_2_data_label, f)"
   ]
  },
  {
   "cell_type": "code",
   "execution_count": 14,
   "metadata": {},
   "outputs": [
    {
     "name": "stdout",
     "output_type": "stream",
     "text": [
      "combined_data\n",
      "├── anomalous\n",
      "│   ├── columns\n",
      "│   ├── data\n",
      "│   └── timestamps\n",
      "├── clean\n",
      "│   ├── columns\n",
      "│   ├── data\n",
      "│   └── timestamps\n",
      "└── raw\n",
      "    ├── columns\n",
      "    ├── data\n",
      "    └── timestamps\n"
     ]
    }
   ],
   "source": [
    "# the result\n",
    "f = print_tree(data_file_path, 'combined_data')"
   ]
  },
  {
   "cell_type": "code",
   "execution_count": null,
   "metadata": {},
   "outputs": [],
   "source": []
  },
  {
   "cell_type": "markdown",
   "metadata": {},
   "source": [
    "## Split distribution"
   ]
  },
  {
   "cell_type": "code",
   "execution_count": 15,
   "metadata": {},
   "outputs": [],
   "source": [
    "# get splits\n",
    "splits = handle_splits(n_obs, config.config['dataset_args'])\n",
    "\n",
    "# counts\n",
    "occurrences = {}\n",
    "total_duration = {}\n",
    "for data_type, indices in zip(['Train', 'Val', 'Test'], splits[0]):\n",
    "    occurrences[data_type] = {}\n",
    "    total_duration[data_type] = {}\n",
    "    labels = polluted_data.iloc[indices]['Data Label'].values\n",
    "    for i, ano in indicator_2_data_label.items():\n",
    "        # ignore the original\n",
    "        if i == 0:\n",
    "            continue\n",
    "        \n",
    "        # count total occurrences, by counting the number of times the label changes to i\n",
    "        occurrences[data_type][ano] = sum(np.diff(labels == i) == 1)\n",
    "\n",
    "        # count the total duration\n",
    "        total_duration[data_type][ano] = sum(labels == i)\n",
    "\n",
    "# turn each into a long dataframe\n",
    "df_occurrences = pd.DataFrame(occurrences)\n",
    "\n",
    "df_total_duration = pd.DataFrame(total_duration)"
   ]
  },
  {
   "cell_type": "code",
   "execution_count": 16,
   "metadata": {},
   "outputs": [
    {
     "data": {
      "image/png": "[encoded data removed]",
      "text/plain": [
       "<Figure size 1200x400 with 1 Axes>"
      ]
     },
     "metadata": {},
     "output_type": "display_data"
    }
   ],
   "source": [
    "# visualize\n",
    "# define figure\n",
    "fig, ax = plt.subplots(figsize=(12, 4))\n",
    "colors = sns.color_palette(\"deep\")  # A Seaborn palette\n",
    "train_color, val_color, test_color = colors[0], colors[1], colors[2]\n",
    "ax = df_occurrences.plot(\n",
    "    kind='bar', \n",
    "    stacked=False, \n",
    "    #figsize=(12, 4), \n",
    "    color=[train_color, val_color, test_color],\n",
    "    ax=ax,\n",
    "    width=0.7\n",
    "    )\n",
    "\n",
    "# Add text labels above bars\n",
    "for container in ax.containers:\n",
    "    ax.bar_label(container, fmt='%d', label_type='edge', padding=1)\n",
    "# legend at bottom, and increase size\n",
    "plt.legend(loc='upper center', bbox_to_anchor=(0.5, -0.1), ncol=3, fontsize='large')\n",
    "# remove grid lines\n",
    "fig.gca().spines['top'].set_visible(False);fig.gca().spines['right'].set_visible(False)\n",
    "# rotate the x labels\n",
    "plt.xticks(rotation=0)\n",
    "# increase x label size\n",
    "plt.xticks(fontsize=12)\n",
    "plt.tight_layout()\n",
    "plt.show()"
   ]
  },
  {
   "cell_type": "code",
   "execution_count": 17,
   "metadata": {},
   "outputs": [
    {
     "data": {
      "image/png": "[encoded data removed]",
      "text/plain": [
       "<Figure size 1200x300 with 1 Axes>"
      ]
     },
     "metadata": {},
     "output_type": "display_data"
    }
   ],
   "source": [
    "# visualize\n",
    "# define figure\n",
    "fig, ax = plt.subplots(figsize=(12, 3))\n",
    "colors = sns.color_palette(\"deep\")  # A Seaborn palette\n",
    "train_color, val_color, test_color = colors[0], colors[1], colors[2]\n",
    "ax = df_total_duration.plot(\n",
    "    kind='bar', \n",
    "    stacked=False, \n",
    "    #figsize=(12, 4), \n",
    "    color=[train_color, val_color, test_color],\n",
    "    ax=ax,\n",
    "    # decrease space between bars\n",
    "    width=0.7\n",
    "    )\n",
    "\n",
    "# Add text labels above bars\n",
    "for container in ax.containers:\n",
    "    ax.bar_label(container, fmt='%d', label_type='edge', padding=1)\n",
    "# legend at bottom, and increase size\n",
    "plt.legend(loc='upper center', bbox_to_anchor=(0.5, -0.1), ncol=3, fontsize='large')\n",
    "# remove grid lines\n",
    "fig.gca().spines['top'].set_visible(False);fig.gca().spines['right'].set_visible(False)\n",
    "# rotate the x labels\n",
    "plt.xticks(rotation=0)\n",
    "# increase x label size\n",
    "plt.xticks(fontsize=12)\n",
    "plt.tight_layout()\n",
    "plt.show()"
   ]
  },
  {
   "cell_type": "code",
   "execution_count": 18,
   "metadata": {},
   "outputs": [],
   "source": [
    "# TODO: also pollution %"
   ]
  },
  {
   "cell_type": "code",
   "execution_count": null,
   "metadata": {},
   "outputs": [],
   "source": []
  },
  {
   "cell_type": "code",
   "execution_count": null,
   "metadata": {},
   "outputs": [],
   "source": []
  }
 ],
 "metadata": {
  "kernelspec": {
   "display_name": "thesis",
   "language": "python",
   "name": "python3"
  },
  "language_info": {
   "codemirror_mode": {
    "name": "ipython",
    "version": 3
   },
   "file_extension": ".py",
   "mimetype": "text/x-python",
   "name": "python",
   "nbconvert_exporter": "python",
   "pygments_lexer": "ipython3",
   "version": "3.9.21"
  }
 },
 "nbformat": 4,
 "nbformat_minor": 2
}
