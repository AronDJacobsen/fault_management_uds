{
 "cells": [
  {
   "cell_type": "code",
   "execution_count": null,
   "metadata": {
    "vscode": {
     "languageId": "plaintext"
    }
   },
   "outputs": [],
   "source": []
  },
  {
   "cell_type": "code",
   "execution_count": null,
   "metadata": {
    "vscode": {
     "languageId": "plaintext"
    }
   },
   "outputs": [],
   "source": []
  },
  {
   "cell_type": "code",
   "execution_count": null,
   "metadata": {
    "vscode": {
     "languageId": "plaintext"
    }
   },
   "outputs": [],
   "source": []
  },
  {
   "cell_type": "markdown",
   "metadata": {},
   "source": [
    "## Rainfall events"
   ]
  },
  {
   "cell_type": "markdown",
   "metadata": {},
   "source": [
    "\n",
    "classify rain events, each event can be defined as:\n",
    "1. The event starts when the rain gauge is not zero\n",
    "2. The event ends when the rain gauge is zero\n",
    "3. The event has to be at least 30 minutes long\n",
    "5. The event has to have at least 2 mm of rain in total\n",
    "6. The event is 'relaxed' in case of zero gaps of 15 minutes"
   ]
  },
  {
   "cell_type": "markdown",
   "metadata": {},
   "source": [
    "- there is a standard for this"
   ]
  },
  {
   "cell_type": "code",
   "execution_count": null,
   "metadata": {},
   "outputs": [],
   "source": [
    "def classify_rain_events(rain_series):\n",
    "    # Thresholds\n",
    "    min_event_duration = 30  # in minutes\n",
    "    min_event_rainfall = 5  # in mm\n",
    "    max_zero_gap = 15  # in minutes for relaxed events\n",
    "    \n",
    "    # Convert rain to a DataFrame with time as the index\n",
    "    rain_data = rain_series.reset_index()  # Assumes 'time' is in the index if needed\n",
    "    rain_data.columns = ['time', 'rain']\n",
    "    \n",
    "    # Ensure time is in datetime format if not already\n",
    "    rain_data['time'] = pd.to_datetime(rain_data['time'])\n",
    "    \n",
    "    # Initialize variables for tracking events\n",
    "    events = []\n",
    "    current_event = []\n",
    "    zero_streak = 0\n",
    "    \n",
    "    for i, row in tqdm(rain_data.iterrows(), total=len(rain_data), desc='Classifying rain events'):\n",
    "        # Check if it's raining\n",
    "        if row['rain'] > 0:\n",
    "            if not current_event:\n",
    "                current_event_start_time = row['time']\n",
    "            current_event.append(row)\n",
    "            zero_streak = 0  # Reset zero streak since it's raining\n",
    "        elif row['rain'] == 0 and current_event:\n",
    "            zero_streak += 1\n",
    "            if zero_streak <= max_zero_gap:\n",
    "                current_event.append(row)\n",
    "            else:\n",
    "                # End event before the zero streak starts\n",
    "                event_end_time = current_event[-(zero_streak)].get('time')\n",
    "                \n",
    "                # Convert current_event to DataFrame\n",
    "                event_df = pd.DataFrame(current_event)\n",
    "                event_duration = (event_df['time'].max() - event_df['time'].min()).total_seconds() / 60.0\n",
    "                total_rain = event_df['rain'].sum()\n",
    "                \n",
    "                if event_duration >= min_event_duration and total_rain >= min_event_rainfall:\n",
    "                    events.append({\n",
    "                        'start': current_event_start_time,\n",
    "                        'end': event_end_time,\n",
    "                        'duration': event_duration,\n",
    "                        'total_rain': total_rain\n",
    "                    })\n",
    "                \n",
    "                # Reset current event and zero streak\n",
    "                current_event = []\n",
    "                zero_streak = 0\n",
    "    \n",
    "    # After looping, check if there’s a valid ongoing event\n",
    "    if current_event:\n",
    "        event_df = pd.DataFrame(current_event)\n",
    "        event_duration = (event_df['time'].max() - event_df['time'].min()).total_seconds() / 60.0\n",
    "        total_rain = event_df['rain'].sum()\n",
    "        if event_duration >= min_event_duration and total_rain >= min_event_rainfall:\n",
    "            events.append({\n",
    "                'start': current_event_start_time,\n",
    "                'end': event_df['time'].max(),\n",
    "                'duration': event_duration,\n",
    "                'total_rain': total_rain\n",
    "            })\n",
    "        \n",
    "    # create an intensity column\n",
    "    events = pd.DataFrame(events)\n",
    "    events['intensity'] = events['total_rain'] / events['duration']\n",
    "    \n",
    "    return events\n"
   ]
  },
  {
   "cell_type": "code",
   "execution_count": null,
   "metadata": {},
   "outputs": [],
   "source": [
    "\n",
    "def classify_rain_events(rain_series):\n",
    "    # Thresholds\n",
    "    min_event_duration = 30  # in minutes\n",
    "    min_event_rainfall = 5  # in mm\n",
    "    max_zero_gap = 15  # in minutes for relaxed events\n",
    "    \n",
    "    # Convert rain to a DataFrame with time as the index (assuming your index is time-based)\n",
    "    rain_data = rain_series.reset_index()  # Ensuring that we have a proper time index\n",
    "    rain_data.columns = ['time', 'rain']\n",
    "    \n",
    "    # Initialize variables for tracking events\n",
    "    events = [] # List to store the events\n",
    "    current_event = [] # List to store the current ongoing event\n",
    "    zero_streak = 0 # Counter for the number of zero values\n",
    "    \n",
    "    for i, row in tqdm(rain_data.iterrows(), total=len(rain_data), desc='Classifying rain events'):\n",
    "        # Check if it's raining\n",
    "        if row['rain'] > 0:\n",
    "            # If there's no ongoing event, start a new one\n",
    "            if not current_event:\n",
    "                current_event_start_time = row['time']\n",
    "            current_event.append(row)\n",
    "            zero_streak = 0  # Reset zero streak since it's raining\n",
    "            \n",
    "        # Check if it's not raining\n",
    "        elif row['rain'] == 0 and current_event:\n",
    "            zero_streak += 1  # Increase zero streak\n",
    "            if zero_streak <= max_zero_gap:\n",
    "                # Still within the relaxed gap period, consider it part of the event\n",
    "                current_event.append(row)\n",
    "            else:\n",
    "                # Zero streak exceeds allowed gap, event ends here, but take the before the zero streak\n",
    "                event_end_time = rain_data.loc[i - zero_streak, 'time']\n",
    "                \n",
    "                # Create a DataFrame for the event and apply filtering\n",
    "                event_df = pd.DataFrame(current_event)\n",
    "                event_duration = (event_df['time'].max() - event_df['time'].min()).total_seconds() / 60.0  # in minutes\n",
    "                total_rain = event_df['rain'].sum()\n",
    "                \n",
    "                # Check if the event meets the criteria\n",
    "                if event_duration >= min_event_duration and total_rain >= min_event_rainfall:\n",
    "                    events.append({\n",
    "                        'start': current_event_start_time,\n",
    "                        'end': event_end_time,\n",
    "                        'duration': event_duration,\n",
    "                        'total_rain': total_rain\n",
    "                    })\n",
    "                \n",
    "                # Reset the current event tracking\n",
    "                current_event = []\n",
    "                zero_streak = 0\n",
    "\n",
    "    # After looping, check if there's a valid ongoing event\n",
    "    if current_event:\n",
    "        event_df = pd.DataFrame(current_event)\n",
    "        event_duration = (event_df['time'].max() - event_df['time'].min()).total_seconds() / 60.0\n",
    "        total_rain = event_df['rain'].sum()\n",
    "        if event_duration >= min_event_duration and total_rain >= min_event_rainfall:\n",
    "            events.append({\n",
    "                'start': current_event_start_time,\n",
    "                'end': event_df['time'].max(),\n",
    "                'duration': event_duration,\n",
    "                'total_rain': total_rain\n",
    "            })\n",
    "    \n",
    "    return pd.DataFrame(events)\n"
   ]
  },
  {
   "cell_type": "code",
   "execution_count": null,
   "metadata": {},
   "outputs": [
    {
     "name": "stderr",
     "output_type": "stream",
     "text": [
      "Classifying rain events: 100%|██████████| 6117121/6117121 [01:38<00:00, 62368.62it/s]\n"
     ]
    }
   ],
   "source": [
    "# get the rain series\n",
    "rain = raw['5425'] # unit is mm/minute\n",
    "rain_events = classify_rain_events(rain)"
   ]
  },
  {
   "cell_type": "code",
   "execution_count": null,
   "metadata": {},
   "outputs": [],
   "source": [
    "# combine both 5425 and 5427?"
   ]
  },
  {
   "cell_type": "code",
   "execution_count": null,
   "metadata": {},
   "outputs": [],
   "source": []
  },
  {
   "cell_type": "markdown",
   "metadata": {},
   "source": [
    "## Rain events timeline"
   ]
  },
  {
   "cell_type": "code",
   "execution_count": null,
   "metadata": {
    "vscode": {
     "languageId": "plaintext"
    }
   },
   "outputs": [],
   "source": []
  },
  {
   "cell_type": "markdown",
   "metadata": {},
   "source": [
    "## Histograms"
   ]
  },
  {
   "cell_type": "code",
   "execution_count": null,
   "metadata": {
    "vscode": {
     "languageId": "plaintext"
    }
   },
   "outputs": [],
   "source": []
  },
  {
   "cell_type": "markdown",
   "metadata": {},
   "source": [
    "## Scatter plots"
   ]
  },
  {
   "cell_type": "code",
   "execution_count": null,
   "metadata": {
    "vscode": {
     "languageId": "plaintext"
    }
   },
   "outputs": [],
   "source": []
  },
  {
   "cell_type": "code",
   "execution_count": null,
   "metadata": {
    "vscode": {
     "languageId": "plaintext"
    }
   },
   "outputs": [],
   "source": []
  }
 ],
 "metadata": {
  "language_info": {
   "name": "python"
  }
 },
 "nbformat": 4,
 "nbformat_minor": 2
}
