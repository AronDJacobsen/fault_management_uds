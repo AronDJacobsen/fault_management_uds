{
 "cells": [
  {
   "cell_type": "code",
   "execution_count": null,
   "metadata": {},
   "outputs": [],
   "source": []
  },
  {
   "cell_type": "code",
   "execution_count": null,
   "metadata": {},
   "outputs": [],
   "source": [
    "from torch.utils.data import Dataset, DataLoader\n"
   ]
  },
  {
   "cell_type": "code",
   "execution_count": null,
   "metadata": {},
   "outputs": [],
   "source": [
    "class BellingeDataset(Dataset):\n",
    "    def __init__(self, H5_file_path, data_dir, series):\n",
    "\n",
    "        self.H5_file_path = H5_file_path\n",
    "        self.data_dir = data_dir\n",
    "        self.hdf_file = h5py.File(H5_file_path, 'r')  # Keep the file open\n",
    "        self.timestamps = pd.to_datetime(f[self.data_dir]['timestamps'][:])\n",
    "        self.return_type = 'np'\n",
    "\n",
    "    def __len__(self):\n",
    "        return len(self.timestamps) - 1\n",
    "\n",
    "    def __getitem__(self, idx):\n",
    "        starttime = self.timestamps[idx]\n",
    "        endtime = self.timestamps[idx + 1]\n",
    "        data, timestamps, columns, start_idx, end_idx, column_indices = load_dataframe(\n",
    "            self.H5_file_path, self.data_dir, return_type=self.return_type, \n",
    "            starttime=starttime, endtime=endtime\n",
    "            )\n",
    "        return data, timestamps, columns, start_idx, end_idx, column_indices\n",
    "\n"
   ]
  },
  {
   "cell_type": "code",
   "execution_count": null,
   "metadata": {},
   "outputs": [],
   "source": [
    "import numpy as np\n",
    "import pandas as pd\n",
    "import h5py\n",
    "from torch.utils.data import Dataset\n",
    "\n",
    "class BellingeDataset(Dataset):\n",
    "    def __init__(self, H5_file_path: str, data_dir: str, return_type: str = 'np'):\n",
    "        self.H5_file_path = H5_file_path\n",
    "        self.data_dir = data_dir\n",
    "        self.return_type = return_type\n",
    "        self.hdf_file = h5py.File(H5_file_path, 'r')  # Keep the file open\n",
    "        self.timestamps = pd.to_datetime(self.hdf_file[data_dir]['timestamps'][:])\n",
    "\n",
    "    def __len__(self) -> int:\n",
    "        return len(self.timestamps) - 1  # Ensure no out-of-bounds error\n",
    "\n",
    "    def __getitem__(self, idx: int):\n",
    "        # Get the start and end time for the current index\n",
    "        starttime = self.timestamps[idx]\n",
    "        endtime = self.timestamps[idx + 1]\n",
    "        \n",
    "        # Use load_dataframe to retrieve data\n",
    "        data, timestamps, columns, start_idx, end_idx, column_indices = load_dataframe(\n",
    "            self.hdf_file, self.data_dir, return_type=self.return_type, \n",
    "            starttime=starttime, endtime=endtime\n",
    "        )\n",
    "        return data, timestamps, columns, start_idx, end_idx, column_indices\n",
    "\n",
    "    def __del__(self):\n",
    "        self.hdf_file.close()  # Ensure the file is closed when the instance is deleted\n"
   ]
  },
  {
   "cell_type": "code",
   "execution_count": null,
   "metadata": {},
   "outputs": [],
   "source": [
    "\n",
    "def load_dataframe(hdf_file, group_path: str, return_type: str = 'df', \n",
    "                   starttime=None, endtime=None, columns=None):\n",
    "    group = hdf_file[group_path]  # Directly access the group\n",
    "\n",
    "    # Get the timestamps and columns\n",
    "    timestamps = pd.to_datetime(group['timestamps'][:])\n",
    "    all_columns = group['columns'][:].astype(str)\n",
    "\n",
    "    # Identify the row indices based on starttime and endtime\n",
    "    start_idx = np.searchsorted(timestamps, starttime) if starttime else 0\n",
    "    end_idx = np.searchsorted(timestamps, endtime, side='right') if endtime else len(timestamps)\n",
    "\n",
    "    # Filter column indices if specified\n",
    "    if columns is not None:\n",
    "        column_indices = [np.where(all_columns == col)[0][0] for col in columns]\n",
    "    else:\n",
    "        column_indices = slice(None)  # Select all columns if none are specified\n",
    "\n",
    "    # Load the data\n",
    "    data = group['data'][start_idx:end_idx, column_indices]\n",
    "    timestamps = timestamps[start_idx:end_idx]\n",
    "    columns = all_columns[column_indices]\n",
    "\n",
    "    print(f\"        Data loaded from group '{group.name}'\")\n",
    "    \n",
    "    if return_type == 'np':\n",
    "        return data, timestamps, columns, start_idx, end_idx, column_indices\n",
    "    elif return_type == 'df':\n",
    "        df = pd.DataFrame(data, columns=columns, index=timestamps)\n",
    "        df.index.name = 'time'\n",
    "        return df, timestamps, columns, start_idx, end_idx, column_indices\n",
    "    else:\n",
    "        raise ValueError(f\"Unknown return type: {return_type}\")"
   ]
  },
  {
   "cell_type": "code",
   "execution_count": null,
   "metadata": {},
   "outputs": [],
   "source": []
  },
  {
   "cell_type": "code",
   "execution_count": null,
   "metadata": {},
   "outputs": [],
   "source": []
  },
  {
   "cell_type": "code",
   "execution_count": null,
   "metadata": {},
   "outputs": [],
   "source": []
  },
  {
   "cell_type": "code",
   "execution_count": null,
   "metadata": {},
   "outputs": [],
   "source": []
  }
 ],
 "metadata": {
  "language_info": {
   "name": "python"
  }
 },
 "nbformat": 4,
 "nbformat_minor": 2
}
