{
 "cells": [
  {
   "cell_type": "markdown",
   "metadata": {},
   "source": [
    "# Vanilla modelling\n"
   ]
  },
  {
   "cell_type": "markdown",
   "metadata": {},
   "source": [
    "\n",
    "---\n",
    "\n",
    "\n",
    "# TODO:\n",
    "\n",
    "- Convert to AE and then just visualize latent space for analysis?\n",
    "\n",
    "- maybe do some variable transformation? e.g. power, show only start and stop? and quantiles\n",
    "\n",
    "- Can you set outlier thresholds clf based on train/test set error?\n",
    "\n",
    "\n",
    "---\n"
   ]
  },
  {
   "cell_type": "code",
   "execution_count": null,
   "metadata": {},
   "outputs": [],
   "source": [
    "import os\n",
    "import time\n",
    "import copy\n",
    "\n",
    "import pandas as pd\n",
    "import numpy as np\n",
    "import matplotlib.pyplot as plt\n",
    "import h5py\n",
    "import nexusformat.nexus as nx\n",
    "import pickle\n",
    "import json\n",
    "from tqdm import tqdm\n",
    "import datetime\n",
    "import matplotlib.dates as mdates\n",
    "from datetime import timedelta\n",
    "\n",
    "import torch\n",
    "from torch.utils.data import Dataset, DataLoader\n",
    "from sklearn.model_selection import train_test_split\n",
    "from sklearn.preprocessing import MinMaxScaler, StandardScaler\n",
    "\n",
    "\n",
    "import torch.nn as nn\n",
    "import torch.optim as optim\n",
    "import pytorch_lightning as pl\n",
    "from pytorch_lightning.callbacks import ModelCheckpoint\n",
    "\n",
    "\n",
    "from fault_management_uds.data.hdf_functions import print_tree, load_dataframe_from_HDF5\n",
    "from fault_management_uds.data.process import remove_nans_from_start_end\n",
    "\n",
    "from fault_management_uds.plots import set_meaningful_xticks\n",
    "\n",
    "from fault_management_uds.config import indicator_2_meta, bools_2_meta, error_indicators, natural_sensor_order\n",
    "\n",
    "\n",
    "from fault_management_uds.config import PROJ_ROOT\n",
    "from fault_management_uds.config import DATA_DIR, RAW_DATA_DIR, INTERIM_DATA_DIR, PROCESSED_DATA_DIR, EXTERNAL_DATA_DIR\n",
    "from fault_management_uds.config import MODELS_DIR, REPORTS_DIR, FIGURES_DIR, REFERENCE_DIR\n",
    "\n",
    "\n",
    "from fault_management_uds.data.load_data import import_external_metadata, import_metadata\n",
    "from fault_management_uds.data.load_data import load_data_period, filenames_based_on_period, provided_2_full_range\n",
    "from fault_management_uds.data.load_data import get_event, create_individual_indicators, create_indicator\n",
    "\n",
    "\n",
    "# Anomaly generation\n",
    "from fault_management_uds.multi_data_validation.multi_data_validation import anomaly_generators as ag\n",
    "\n",
    "\n",
    "from fault_management_uds.dataset import TimeSeriesDataset\n",
    "\n",
    "# set random seed\n",
    "np.random.seed(11)\n"
   ]
  },
  {
   "cell_type": "markdown",
   "metadata": {
    "vscode": {
     "languageId": "plaintext"
    }
   },
   "source": [
    "TODO:\n",
    "- make the dataset\n",
    "    - data loader\n",
    "    - valid windows? hmmm\n",
    "    - load based on time index of valid\n",
    "    - train test\n",
    "- create the models\n",
    "\n",
    "- train\n",
    "    - plot loss\n",
    "    - plot metrics\n",
    "\n",
    "- baseline"
   ]
  },
  {
   "cell_type": "markdown",
   "metadata": {},
   "source": [
    "## Load data"
   ]
  },
  {
   "cell_type": "code",
   "execution_count": 2,
   "metadata": {},
   "outputs": [],
   "source": [
    "data_file_path = PROCESSED_DATA_DIR / 'Bellinge.h5'"
   ]
  },
  {
   "cell_type": "code",
   "execution_count": null,
   "metadata": {},
   "outputs": [
    {
     "name": "stdout",
     "output_type": "stream",
     "text": [
      "Sensor data shape: (5810602, 1)\n",
      "Rain data shape: (6419907, 1)\n"
     ]
    }
   ],
   "source": [
    "sensor_name = 'G71F04R_Level2'\n",
    "\n",
    "# load sensor data\n",
    "sensor_data, _, _, _ = load_dataframe_from_HDF5(data_file_path, f\"single_series/sewer_data/{sensor_name}/{sensor_name}_clean\", complete_range=True, verbose=False)\n",
    "sensor_data.columns = [sensor_name]\n",
    "print(f\"Sensor data shape: {sensor_data.shape}\")\n",
    "# load rain data\n",
    "rain_data, _, _, _ = load_dataframe_from_HDF5(data_file_path, f\"single_series/rain_gauge_data/5425\", complete_range=True, verbose=False)\n",
    "print(f\"Rain data shape: {rain_data.shape}\")\n",
    "rain_data.columns = ['rain']"
   ]
  },
  {
   "cell_type": "code",
   "execution_count": 4,
   "metadata": {},
   "outputs": [
    {
     "name": "stdout",
     "output_type": "stream",
     "text": [
      "Combined data shape: (5810602, 2)\n"
     ]
    }
   ],
   "source": [
    "# combine sensor and rain data in a single df where time index is the same/overlaps\n",
    "sensor_data = sensor_data.loc[sensor_data.index.intersection(rain_data.index)]\n",
    "rain_data = rain_data.loc[rain_data.index.intersection(sensor_data.index)]\n",
    "\n",
    "combined_data = pd.concat([rain_data, sensor_data], axis=1)\n",
    "print(f\"Combined data shape: {combined_data.shape}\")\n",
    "\n",
    "del sensor_data, rain_data"
   ]
  },
  {
   "cell_type": "markdown",
   "metadata": {},
   "source": [
    "#### Set parameters related to the data in training"
   ]
  },
  {
   "cell_type": "code",
   "execution_count": 5,
   "metadata": {},
   "outputs": [],
   "source": [
    "sequence_length = 120 \n",
    "step_size = 5"
   ]
  },
  {
   "cell_type": "code",
   "execution_count": 6,
   "metadata": {},
   "outputs": [
    {
     "name": "stdout",
     "output_type": "stream",
     "text": [
      "465543\n"
     ]
    }
   ],
   "source": [
    "print(combined_data[sensor_name].isna().sum())"
   ]
  },
  {
   "cell_type": "markdown",
   "metadata": {},
   "source": [
    "#### Ensure modelling is only performed on valid data"
   ]
  },
  {
   "cell_type": "code",
   "execution_count": 7,
   "metadata": {},
   "outputs": [],
   "source": [
    "def extract_valid_windows(df, sequence_length, step_size=1):\n",
    "    \"\"\"\n",
    "    Extracts valid sequences of the specified length from a time series DataFrame,\n",
    "    excluding windows with NaN values.\n",
    "\n",
    "    Args:\n",
    "        df: Time series DataFrame with a datetime index.\n",
    "        sequence_length: Desired length of the sequences (in time units).\n",
    "        step_size: Step size for iterating through the DataFrame (in time units).\n",
    "\n",
    "    Returns:\n",
    "        valid_indices: List of starting indices of valid sequences.\n",
    "        valid_timestamps: List of corresponding timestamps for the valid sequences.\n",
    "    \"\"\"\n",
    "\n",
    "    valid_indices = []\n",
    "    valid_timestamps = []\n",
    "\n",
    "    for start_idx in tqdm(range(0, len(df) - sequence_length + 1, step_size), total=len(df)//step_size):\n",
    "        end_idx = start_idx + sequence_length\n",
    "        window = df.iloc[start_idx:end_idx]\n",
    "\n",
    "        # Check if there are any NaN values in the window\n",
    "        if not window.isnull().values.any():\n",
    "            valid_indices.append(start_idx)\n",
    "            valid_timestamps.append(df.index[start_idx])\n",
    "\n",
    "    return valid_indices, valid_timestamps"
   ]
  },
  {
   "cell_type": "code",
   "execution_count": 8,
   "metadata": {},
   "outputs": [
    {
     "name": "stderr",
     "output_type": "stream",
     "text": [
      "100%|█████████▉| 1162097/1162120 [00:30<00:00, 37713.92it/s]\n"
     ]
    },
    {
     "name": "stdout",
     "output_type": "stream",
     "text": [
      "Number of valid time indices: 1054674 out of 5810602\n"
     ]
    }
   ],
   "source": [
    "# get valid window indices\n",
    "valid_indices, valid_timestamps = extract_valid_windows(combined_data[sensor_name], sequence_length, step_size)\n",
    "\n",
    "print(f\"Number of valid time indices: {len(valid_indices)} out of {len(combined_data)}\")\n"
   ]
  },
  {
   "cell_type": "markdown",
   "metadata": {},
   "source": [
    "## Create dataset and dataloader"
   ]
  },
  {
   "cell_type": "markdown",
   "metadata": {},
   "source": [
    "#### Split the data"
   ]
  },
  {
   "cell_type": "code",
   "execution_count": 9,
   "metadata": {},
   "outputs": [],
   "source": [
    "# turn valid indices and timestamps into a DataFrame\n",
    "valid_windows = pd.DataFrame({'start_idx': valid_indices, 'timestamp': valid_timestamps})"
   ]
  },
  {
   "cell_type": "code",
   "execution_count": 10,
   "metadata": {},
   "outputs": [
    {
     "name": "stdout",
     "output_type": "stream",
     "text": [
      "Train ratio: 0.6999992414717723, Train size: 738271\n",
      "Val ratio: 0.14999990518397155, Val size: 158201\n",
      "Test ratio: 0.15000085334425614, Test size: 158202\n"
     ]
    }
   ],
   "source": [
    "# split the data into training, validation and test sets\n",
    "# stratify on year else random\n",
    "\n",
    "valid_windows['year'] = valid_windows['timestamp'].dt.year\n",
    "\n",
    "\n",
    "# Define ratios\n",
    "train_ratio = 0.7\n",
    "val_ratio = 0.15\n",
    "test_ratio = 0.15\n",
    "\n",
    "# First split the data into train and temp (which will be split again into val and test)\n",
    "train_windows, temp_data = train_test_split(valid_windows, test_size=(1 - train_ratio), stratify=valid_windows['year'])\n",
    "\n",
    "# Split the temp data into val and test\n",
    "val_windows, test_windows = train_test_split(temp_data, test_size=test_ratio/(test_ratio + val_ratio), stratify=temp_data['year'])\n",
    "\n",
    "# Check the ratios\n",
    "print(f\"Train ratio: {len(train_windows)/len(valid_windows)}, Train size: {len(train_windows)}\")\n",
    "print(f\"Val ratio: {len(val_windows)/len(valid_windows)}, Val size: {len(val_windows)}\")\n",
    "print(f\"Test ratio: {len(test_windows)/len(valid_windows)}, Test size: {len(test_windows)}\")\n",
    "\n",
    "# TODO: save the split indices?\n"
   ]
  },
  {
   "cell_type": "code",
   "execution_count": 39,
   "metadata": {},
   "outputs": [],
   "source": [
    "def collect_indices(window_data, sequence_length):\n",
    "    # Generate all indices for the given windows\n",
    "    all_indices = np.concatenate([np.arange(idx, idx + sequence_length) for idx in window_data['start_idx']])\n",
    "    \n",
    "    # Use np.unique to remove duplicates and sort in one step\n",
    "    unique_sorted_indices = np.unique(all_indices)\n",
    "\n",
    "    # get the location of all the start indices\n",
    "    start_indices = window_data['start_idx'].values\n",
    "    # get the location of the start indices in the unique_sorted_indices\n",
    "    start_indices_locations = np.where(np.isin(unique_sorted_indices, start_indices))[0]\n",
    "    \n",
    "    return unique_sorted_indices, start_indices_locations\n",
    "\n",
    "# given the split indices, get the corresponding data - note, from start_idx to start_idx + sequence_length\n",
    "train_indices, train_start_indices = collect_indices(train_windows, sequence_length)\n",
    "val_indices, val_start_indices = collect_indices(val_windows, sequence_length)\n",
    "test_indices, test_start_indices = collect_indices(test_windows, sequence_length)\n",
    "\n",
    "# get the corresponding data\n",
    "train_data = combined_data.iloc[train_indices]\n",
    "val_data = combined_data.iloc[val_indices]\n",
    "test_data = combined_data.iloc[test_indices]\n"
   ]
  },
  {
   "cell_type": "code",
   "execution_count": 40,
   "metadata": {},
   "outputs": [],
   "source": [
    "# Scale the data\n",
    "scaler = MinMaxScaler(feature_range=(0, 1)) # preserve original data range, i.e. relative scaling\n",
    "# - sensitive to outliers, and not good for negative values\n",
    "#scaler = StandardScaler() # normalises to mean 0 and std 1, not sensitive to outliers, and can handle negative values\n",
    "# - but the data is not bounded, so the model can predict values outside the original range\n",
    "train_data_scaled = scaler.fit_transform(train_data)\n",
    "val_data_scaled = scaler.transform(val_data)\n",
    "test_data_scaled = scaler.transform(test_data)"
   ]
  },
  {
   "cell_type": "markdown",
   "metadata": {},
   "source": [
    "#### Create the loaders\n"
   ]
  },
  {
   "cell_type": "code",
   "execution_count": 41,
   "metadata": {},
   "outputs": [],
   "source": [
    "# Define batch size for training\n",
    "batch_size = 64\n",
    "\n",
    "\n",
    "# Create dataset and dataloader for the training set\n",
    "train_dataset = TimeSeriesDataset(train_data.values, train_start_indices, sequence_length)\n",
    "train_loader = DataLoader(train_dataset, batch_size=batch_size, shuffle=True, num_workers=1)\n",
    "\n",
    "\n",
    "# Create dataset and dataloader for the validation set\n",
    "val_dataset = TimeSeriesDataset(val_data.values, val_start_indices, sequence_length)\n",
    "val_loader = DataLoader(val_dataset, batch_size=batch_size, shuffle=False, num_workers=1)\n",
    "\n",
    "\n",
    "# Create dataset and dataloader for the test set\n",
    "test_dataset = TimeSeriesDataset(test_data.values, test_start_indices, sequence_length)\n",
    "test_loader = DataLoader(test_dataset, batch_size=batch_size, shuffle=False, num_workers=1)\n"
   ]
  },
  {
   "cell_type": "markdown",
   "metadata": {},
   "source": [
    "## Model"
   ]
  },
  {
   "cell_type": "code",
   "execution_count": 44,
   "metadata": {},
   "outputs": [],
   "source": [
    "class LitAutoEncoderConv1D(pl.LightningModule):\n",
    "    def __init__(self, scaler, idx_rain, idx_sensor, latent_size, num_filters, kernel_size):\n",
    "        super(LitAutoEncoderConv1D, self).__init__()\n",
    "        \n",
    "        self.scaler = scaler\n",
    "        self.idx_rain = idx_rain\n",
    "        self.idx_sensor = idx_sensor\n",
    "        self.latent_size = latent_size\n",
    "        self.num_filters = num_filters\n",
    "        self.kernel_size = kernel_size\n",
    "        \n",
    "        self.encoder_rain = nn.Sequential(\n",
    "            nn.Conv1d(in_channels=1, out_channels=int(num_filters/2), kernel_size=kernel_size, stride=1, padding=1),\n",
    "            nn.ReLU(),\n",
    "            nn.Conv1d(in_channels=int(num_filters/2), out_channels=int(latent_size/2), kernel_size=kernel_size, stride=1, padding=1),\n",
    "            nn.ReLU()\n",
    "        )\n",
    "\n",
    "        self.encoder_sensor = nn.Sequential(\n",
    "            nn.Conv1d(in_channels=1, out_channels=int(num_filters/2), kernel_size=kernel_size, stride=1, padding=1),\n",
    "            nn.ReLU(),\n",
    "            nn.Conv1d(in_channels=int(num_filters/2), out_channels=int(latent_size/2), kernel_size=kernel_size, stride=1, padding=1),\n",
    "            nn.ReLU()\n",
    "        )\n",
    "\n",
    "        self.decoder = nn.Sequential(\n",
    "            nn.Conv1d(in_channels=latent_size, out_channels=int(num_filters/2), kernel_size=kernel_size, stride=1, padding=1),\n",
    "            nn.ReLU(),\n",
    "            nn.Conv1d(in_channels=int(num_filters/2), out_channels=1, kernel_size=kernel_size, stride=1, padding=1),\n",
    "            # For 0, 1 output, use sigmoid activation\n",
    "            nn.Sigmoid()\n",
    "            # For -1 to 1 output, use tanh activation\n",
    "            # nn.Tanh()\n",
    "            # For any other output, use ReLU activation\n",
    "            # nn.ReLU()\n",
    "\n",
    "        )\n",
    "\n",
    "    \n",
    "    def forward(self, x):\n",
    "        # use the idx_rain and idx_sensor to separate the data\n",
    "        rain_data = x[:, :, self.idx_rain].unsqueeze(1)  # (batch_size, 1, seq_len)\n",
    "        sensor_data = x[:, :, self.idx_sensor].unsqueeze(1)  # (batch_size, 1, seq_len)\n",
    "        \n",
    "        # Pass through separate encoders\n",
    "        latent_rain = self.encoder_rain(rain_data)\n",
    "        latent_sensor = self.encoder_sensor(sensor_data)\n",
    "        \n",
    "        # Concatenate latent representations\n",
    "        latent = torch.cat((latent_rain, latent_sensor), dim=1)  # (batch_size, latent_size, seq_len)\n",
    "        \n",
    "        # Pass through decoder (only 1 output channel for sensor data)\n",
    "        reconstructed_sensor = self.decoder(latent)\n",
    "        return reconstructed_sensor.squeeze(1)  # Remove the channel dimension\n",
    "\n",
    "\n",
    "\n",
    "    def training_step(self, batch, batch_idx):\n",
    "        x = batch\n",
    "        reconstructed_sensor = self.forward(x)\n",
    "        sensor_data = x[:, :, self.idx_sensor].squeeze(1)\n",
    "        loss = nn.functional.mse_loss(reconstructed_sensor, sensor_data)\n",
    "        self.log('train_loss', loss, prog_bar=True)\n",
    "        return loss\n",
    "    \n",
    "    def validation_step(self, batch, batch_idx):\n",
    "        x = batch\n",
    "        reconstructed_sensor = self.forward(x)\n",
    "        sensor_data = x[:, :, self.idx_sensor].squeeze(1)\n",
    "        loss = nn.functional.mse_loss(reconstructed_sensor, sensor_data)\n",
    "        self.log('val_loss', loss, prog_bar=True)\n",
    "        return loss\n",
    "    \n",
    "    def configure_optimizers(self):\n",
    "        return optim.Adam(self.parameters(), lr=1e-3)\n"
   ]
  },
  {
   "cell_type": "code",
   "execution_count": 34,
   "metadata": {},
   "outputs": [],
   "source": [
    "# # Define the PyTorch Lightning Module for Autoencoder\n",
    "# class LitAutoEncoder(pl.LightningModule):\n",
    "#     def __init__(self, input_size, latent_size):\n",
    "#         super(LitAutoEncoder, self).__init__()\n",
    "        \n",
    "#         # Encoder: Reduces input to a lower dimension (latent space)\n",
    "#         self.encoder = nn.Sequential(\n",
    "#             nn.Linear(input_size, 64),\n",
    "#             nn.ReLU(),\n",
    "#             nn.Linear(64, 32),\n",
    "#             nn.ReLU(),\n",
    "#             nn.Linear(32, latent_size)\n",
    "#         )\n",
    "        \n",
    "#         # Decoder: Reconstructs the input from the latent space\n",
    "#         self.decoder = nn.Sequential(\n",
    "#             nn.Linear(latent_size, 32),\n",
    "#             nn.ReLU(),\n",
    "#             nn.Linear(32, 64),\n",
    "#             nn.ReLU(),\n",
    "#             nn.Linear(64, input_size),\n",
    "#             nn.Sigmoid()  # Assuming input is normalized to [0, 1]\n",
    "#         )\n",
    "        \n",
    "#         # Store loss history\n",
    "#         self.train_losses = []\n",
    "#         self.val_losses = []\n",
    "\n",
    "\n",
    "\n",
    "#     def forward(self, x):\n",
    "#         # Encode and then decode the input\n",
    "#         x = x.to(torch.float32)  # Ensure input is float32 before any operations\n",
    "#         latent = self.encoder(x)\n",
    "#         reconstructed = self.decoder(latent)\n",
    "#         return reconstructed\n",
    "    \n",
    "#     def training_step(self, batch, batch_idx):\n",
    "#         # Unpack batch\n",
    "#         x = batch\n",
    "#         # Forward pass: encode and decode\n",
    "#         reconstructed = self.forward(x)\n",
    "#         # Loss: mean squared error between input and reconstruction\n",
    "#         loss = nn.functional.mse_loss(reconstructed, x)\n",
    "#         # Log the loss for progress tracking\n",
    "#         self.log('train_loss', loss)\n",
    "#         self.train_losses.append(loss.item())  # Store training loss\n",
    "#         return loss\n",
    "    \n",
    "#     def validation_step(self, batch, batch_idx):\n",
    "#         # Validation step similar to training\n",
    "#         x = batch\n",
    "#         reconstructed = self.forward(x)\n",
    "#         loss = nn.functional.mse_loss(reconstructed, x)\n",
    "#         self.log('val_loss', loss)\n",
    "#         self.val_losses.append(loss.item())  # Store validation loss\n",
    "#         return loss\n",
    "    \n",
    "#     def configure_optimizers(self):\n",
    "#         # Adam optimizer\n",
    "#         return optim.Adam(self.parameters(), lr=1e-3)"
   ]
  },
  {
   "cell_type": "markdown",
   "metadata": {},
   "source": [
    "## Train"
   ]
  },
  {
   "cell_type": "code",
   "execution_count": 75,
   "metadata": {},
   "outputs": [],
   "source": [
    "latent_size = 16\n",
    "# Initialize the autoencoder\n",
    "# TODO: should it reconstruct sensor, or sensor and rain since rain also in input?\n",
    "# - think sensor only - adjust\n",
    "#model = LitAutoEncoder(input_size=input_size, latent_size=latent_size)\n",
    "model = LitAutoEncoderConv1D(scaler=scaler, idx_rain=0, idx_sensor=1, latent_size=latent_size, num_filters=32, kernel_size=3)"
   ]
  },
  {
   "cell_type": "code",
   "execution_count": 76,
   "metadata": {},
   "outputs": [
    {
     "name": "stderr",
     "output_type": "stream",
     "text": [
      "2024-10-24 09:22:05.793 | INFO     | fault_management_uds.config:<module>:11 - PROJ_ROOT path is: /Users/arond.jacobsen/Documents/GitHub/fault_management_uds\n"
     ]
    },
    {
     "name": "stdout",
     "output_type": "stream",
     "text": [
      "torch.Size([64, 120])\n"
     ]
    }
   ],
   "source": [
    "# Test the model with a random input\n",
    "# Get the input size\n",
    "for batch in train_loader:\n",
    "    input_shape = batch.size()\n",
    "    break\n",
    "\n",
    "# Test the forward pass based on the input shape\n",
    "x = torch.randn(input_shape)\n",
    "reconstructed = model(x)\n",
    "print(reconstructed.size())"
   ]
  },
  {
   "cell_type": "code",
   "execution_count": 77,
   "metadata": {},
   "outputs": [],
   "source": [
    "# # TODO: do it within the verison\n",
    "models_log_dir = MODELS_DIR / 'autoencoder'\n",
    "os.makedirs(models_log_dir, exist_ok=True)\n",
    "\n",
    "checkpoint_callback = ModelCheckpoint(dirpath=models_log_dir, filename='best-val-loss-{epoch}.ckpt',\n",
    "                                      save_top_k=1, monitor='val_loss', mode='min')\n"
   ]
  },
  {
   "cell_type": "code",
   "execution_count": 78,
   "metadata": {},
   "outputs": [
    {
     "name": "stderr",
     "output_type": "stream",
     "text": [
      "GPU available: True (mps), used: True\n",
      "TPU available: False, using: 0 TPU cores\n",
      "HPU available: False, using: 0 HPUs\n",
      "\n",
      "  | Name           | Type       | Params | Mode \n",
      "------------------------------------------------------\n",
      "0 | encoder_rain   | Sequential | 456    | train\n",
      "1 | encoder_sensor | Sequential | 456    | train\n",
      "2 | decoder        | Sequential | 833    | train\n",
      "------------------------------------------------------\n",
      "1.7 K     Trainable params\n",
      "0         Non-trainable params\n",
      "1.7 K     Total params\n",
      "0.007     Total estimated model params size (MB)\n",
      "15        Modules in train mode\n",
      "0         Modules in eval mode\n"
     ]
    },
    {
     "name": "stdout",
     "output_type": "stream",
     "text": [
      "Sanity Checking: |          | 0/? [00:00<?, ?it/s]"
     ]
    },
    {
     "name": "stderr",
     "output_type": "stream",
     "text": [
      "2024-10-24 09:22:12.115 | INFO     | fault_management_uds.config:<module>:11 - PROJ_ROOT path is: /Users/arond.jacobsen/Documents/GitHub/fault_management_uds\n"
     ]
    },
    {
     "name": "stdout",
     "output_type": "stream",
     "text": [
      "                                                                            \r"
     ]
    },
    {
     "name": "stderr",
     "output_type": "stream",
     "text": [
      "2024-10-24 09:22:13.226 | INFO     | fault_management_uds.config:<module>:11 - PROJ_ROOT path is: /Users/arond.jacobsen/Documents/GitHub/fault_management_uds\n"
     ]
    },
    {
     "name": "stdout",
     "output_type": "stream",
     "text": [
      "Epoch 0: 100%|██████████| 11536/11536 [01:28<00:00, 130.37it/s, v_num=5, train_loss=5.5e-6]  "
     ]
    },
    {
     "name": "stderr",
     "output_type": "stream",
     "text": [
      "2024-10-24 09:23:42.665 | INFO     | fault_management_uds.config:<module>:11 - PROJ_ROOT path is: /Users/arond.jacobsen/Documents/GitHub/fault_management_uds\n"
     ]
    },
    {
     "name": "stdout",
     "output_type": "stream",
     "text": [
      "Epoch 1:   0%|          | 0/11536 [00:00<?, ?it/s, v_num=5, train_loss=5.5e-6, val_loss=0.000169]             "
     ]
    },
    {
     "name": "stderr",
     "output_type": "stream",
     "text": [
      "2024-10-24 09:23:55.677 | INFO     | fault_management_uds.config:<module>:11 - PROJ_ROOT path is: /Users/arond.jacobsen/Documents/GitHub/fault_management_uds\n"
     ]
    },
    {
     "name": "stdout",
     "output_type": "stream",
     "text": [
      "Epoch 1: 100%|██████████| 11536/11536 [01:32<00:00, 124.57it/s, v_num=5, train_loss=0.000224, val_loss=0.000169]"
     ]
    },
    {
     "name": "stderr",
     "output_type": "stream",
     "text": [
      "2024-10-24 09:25:28.334 | INFO     | fault_management_uds.config:<module>:11 - PROJ_ROOT path is: /Users/arond.jacobsen/Documents/GitHub/fault_management_uds\n"
     ]
    },
    {
     "name": "stdout",
     "output_type": "stream",
     "text": [
      "Epoch 1: 100%|██████████| 11536/11536 [01:45<00:00, 109.50it/s, v_num=5, train_loss=0.000224, val_loss=0.000167]"
     ]
    },
    {
     "name": "stderr",
     "output_type": "stream",
     "text": [
      "`Trainer.fit` stopped: `max_epochs=2` reached.\n"
     ]
    },
    {
     "name": "stdout",
     "output_type": "stream",
     "text": [
      "Epoch 1: 100%|██████████| 11536/11536 [01:45<00:00, 109.43it/s, v_num=5, train_loss=0.000224, val_loss=0.000167]\n"
     ]
    }
   ],
   "source": [
    "\n",
    "num_epochs = 2\n",
    "check_val_every_n_epoch = 1\n",
    "log_every_n_steps = 50\n",
    "# Initialize the Trainer (can be customized with various options)\n",
    "trainer = pl.Trainer(max_epochs=num_epochs, check_val_every_n_epoch=check_val_every_n_epoch, log_every_n_steps=log_every_n_steps,\n",
    "    accelerator='mps', default_root_dir=models_log_dir,\n",
    "    callbacks=[checkpoint_callback],\n",
    "    #fast_dev_run=True,\n",
    "    )\n",
    "\n",
    "# Train the model\n",
    "trainer.fit(model, train_loader, val_loader)\n"
   ]
  },
  {
   "cell_type": "markdown",
   "metadata": {},
   "source": [
    "#### Load the model"
   ]
  },
  {
   "cell_type": "code",
   "execution_count": null,
   "metadata": {},
   "outputs": [],
   "source": [
    "# TODO: version\n",
    "# load the best model\n",
    "best_model_path = models_log_dir / 'best-val-loss.ckpt'"
   ]
  },
  {
   "cell_type": "markdown",
   "metadata": {},
   "source": [
    "## Evaluate"
   ]
  },
  {
   "cell_type": "code",
   "execution_count": 59,
   "metadata": {},
   "outputs": [
    {
     "data": {
      "text/html": [
       "<div>\n",
       "<style scoped>\n",
       "    .dataframe tbody tr th:only-of-type {\n",
       "        vertical-align: middle;\n",
       "    }\n",
       "\n",
       "    .dataframe tbody tr th {\n",
       "        vertical-align: top;\n",
       "    }\n",
       "\n",
       "    .dataframe thead th {\n",
       "        text-align: right;\n",
       "    }\n",
       "</style>\n",
       "<table border=\"1\" class=\"dataframe\">\n",
       "  <thead>\n",
       "    <tr style=\"text-align: right;\">\n",
       "      <th></th>\n",
       "      <th>epoch</th>\n",
       "      <th>step</th>\n",
       "      <th>train_loss</th>\n",
       "      <th>val_loss</th>\n",
       "    </tr>\n",
       "  </thead>\n",
       "  <tbody>\n",
       "    <tr>\n",
       "      <th>0</th>\n",
       "      <td>0</td>\n",
       "      <td>49</td>\n",
       "      <td>0.077615</td>\n",
       "      <td>NaN</td>\n",
       "    </tr>\n",
       "    <tr>\n",
       "      <th>1</th>\n",
       "      <td>0</td>\n",
       "      <td>99</td>\n",
       "      <td>0.012908</td>\n",
       "      <td>NaN</td>\n",
       "    </tr>\n",
       "    <tr>\n",
       "      <th>2</th>\n",
       "      <td>0</td>\n",
       "      <td>149</td>\n",
       "      <td>0.001447</td>\n",
       "      <td>NaN</td>\n",
       "    </tr>\n",
       "    <tr>\n",
       "      <th>3</th>\n",
       "      <td>0</td>\n",
       "      <td>199</td>\n",
       "      <td>0.003742</td>\n",
       "      <td>NaN</td>\n",
       "    </tr>\n",
       "    <tr>\n",
       "      <th>4</th>\n",
       "      <td>0</td>\n",
       "      <td>249</td>\n",
       "      <td>0.000783</td>\n",
       "      <td>NaN</td>\n",
       "    </tr>\n",
       "  </tbody>\n",
       "</table>\n",
       "</div>"
      ],
      "text/plain": [
       "   epoch  step  train_loss  val_loss\n",
       "0      0    49    0.077615       NaN\n",
       "1      0    99    0.012908       NaN\n",
       "2      0   149    0.001447       NaN\n",
       "3      0   199    0.003742       NaN\n",
       "4      0   249    0.000783       NaN"
      ]
     },
     "execution_count": 59,
     "metadata": {},
     "output_type": "execute_result"
    }
   ],
   "source": [
    "version = 3\n",
    "metrics_df = pd.read_csv(models_log_dir / 'lightning_logs' / f'version_{version}' / 'metrics.csv')\n",
    "metrics_df.head()"
   ]
  },
  {
   "cell_type": "code",
   "execution_count": 66,
   "metadata": {},
   "outputs": [
    {
     "data": {
      "image/png": "[encoded data removed]",
      "text/plain": [
       "<Figure size 1500x750 with 1 Axes>"
      ]
     },
     "metadata": {},
     "output_type": "display_data"
    }
   ],
   "source": [
    "# Plot training and validation loss\n",
    "plt.figure(figsize=(10, 5), dpi=150)\n",
    "plt.plot(metrics_df['step'], metrics_df['train_loss'], label='Train Loss')\n",
    "plt.plot(metrics_df['step'], metrics_df['val_loss'], label='Validation Loss')\n",
    "plt.xlabel('Steps')\n",
    "plt.ylabel('Loss')\n",
    "plt.title('Training and Validation Loss Over Epochs')\n",
    "plt.legend()\n",
    "plt.show()"
   ]
  },
  {
   "cell_type": "markdown",
   "metadata": {},
   "source": [
    "#### Evaluate the model on the test set"
   ]
  },
  {
   "cell_type": "code",
   "execution_count": 68,
   "metadata": {},
   "outputs": [
    {
     "data": {
      "text/plain": [
       "<pytorch_lightning.trainer.trainer.Trainer at 0x32c5a7830>"
      ]
     },
     "execution_count": 68,
     "metadata": {},
     "output_type": "execute_result"
    }
   ],
   "source": [
    "trainer"
   ]
  },
  {
   "cell_type": "markdown",
   "metadata": {},
   "source": [
    "#### Baseline comparison"
   ]
  },
  {
   "cell_type": "code",
   "execution_count": 64,
   "metadata": {},
   "outputs": [],
   "source": [
    "from sklearn.linear_model import LinearRegression\n",
    "from sklearn.metrics import mean_squared_error"
   ]
  },
  {
   "cell_type": "code",
   "execution_count": null,
   "metadata": {},
   "outputs": [],
   "source": [
    "mean_sensor_train = np.mean(x_train[:, :, idx_sensor], axis=0)\n",
    "\n",
    "# Use mean for prediction\n",
    "y_pred_mean = np.tile(mean_sensor_train, (x_test.shape[0], 1, 1))\n",
    "\n",
    "# Evaluate\n",
    "mse_mean = mean_squared_error(y_test[:, :, idx_sensor], y_pred_mean)\n",
    "print(f'Mean Predictor MSE: {mse_mean}')"
   ]
  },
  {
   "cell_type": "code",
   "execution_count": 65,
   "metadata": {},
   "outputs": [
    {
     "ename": "NameError",
     "evalue": "name 'x_train' is not defined",
     "output_type": "error",
     "traceback": [
      "\u001b[0;31m---------------------------------------------------------------------------\u001b[0m",
      "\u001b[0;31mNameError\u001b[0m                                 Traceback (most recent call last)",
      "Cell \u001b[0;32mIn[65], line 3\u001b[0m\n\u001b[1;32m      1\u001b[0m \u001b[38;5;66;03m# Prepare data (assuming x_train, y_train, x_test, y_test are prepared and scaled)\u001b[39;00m\n\u001b[1;32m      2\u001b[0m model_lr \u001b[38;5;241m=\u001b[39m LinearRegression()\n\u001b[0;32m----> 3\u001b[0m model_lr\u001b[38;5;241m.\u001b[39mfit(\u001b[43mx_train\u001b[49m[:, :, idx_sensor], y_train[:, :, idx_sensor])\n\u001b[1;32m      5\u001b[0m \u001b[38;5;66;03m# Predictions\u001b[39;00m\n\u001b[1;32m      6\u001b[0m y_pred_lr \u001b[38;5;241m=\u001b[39m model_lr\u001b[38;5;241m.\u001b[39mpredict(x_test[:, :, idx_sensor])\n",
      "\u001b[0;31mNameError\u001b[0m: name 'x_train' is not defined"
     ]
    }
   ],
   "source": [
    "\n",
    "# Prepare data (assuming x_train, y_train, x_test, y_test are prepared and scaled)\n",
    "model_lr = LinearRegression()\n",
    "model_lr.fit(x_train[:, :, idx_sensor], y_train[:, :, idx_sensor])\n",
    "\n",
    "# Predictions\n",
    "y_pred_lr = model_lr.predict(x_test[:, :, idx_sensor])\n",
    "\n",
    "# Evaluate\n",
    "mse_lr = mean_squared_error(y_test[:, :, idx_sensor], y_pred_lr)\n",
    "print(f'Linear Regression MSE: {mse_lr}')"
   ]
  },
  {
   "cell_type": "code",
   "execution_count": null,
   "metadata": {},
   "outputs": [],
   "source": [
    "# Test the model on the test set\n",
    "trainer.test(test_dataloaders=test_loader)\n",
    "\n",
    "\n"
   ]
  },
  {
   "cell_type": "code",
   "execution_count": null,
   "metadata": {},
   "outputs": [],
   "source": []
  },
  {
   "cell_type": "markdown",
   "metadata": {},
   "source": [
    "TODO:\n",
    "- check with a baseline\n",
    "- visualize reconstruction\n",
    "- visualize the latent space\n",
    "    - additional, color with synthetic?\n",
    "\n",
    "improve\n",
    "- lstm"
   ]
  },
  {
   "cell_type": "code",
   "execution_count": null,
   "metadata": {},
   "outputs": [],
   "source": []
  },
  {
   "cell_type": "code",
   "execution_count": null,
   "metadata": {},
   "outputs": [],
   "source": []
  },
  {
   "cell_type": "code",
   "execution_count": null,
   "metadata": {},
   "outputs": [],
   "source": []
  },
  {
   "cell_type": "markdown",
   "metadata": {},
   "source": [
    "# TODO:\n",
    "\n",
    "- what about the low value data?\n",
    "- something about transforming the rain variable?"
   ]
  },
  {
   "cell_type": "code",
   "execution_count": null,
   "metadata": {},
   "outputs": [],
   "source": []
  },
  {
   "cell_type": "code",
   "execution_count": null,
   "metadata": {},
   "outputs": [],
   "source": []
  },
  {
   "cell_type": "code",
   "execution_count": null,
   "metadata": {},
   "outputs": [],
   "source": []
  }
 ],
 "metadata": {
  "kernelspec": {
   "display_name": "thesis",
   "language": "python",
   "name": "python3"
  },
  "language_info": {
   "codemirror_mode": {
    "name": "ipython",
    "version": 3
   },
   "file_extension": ".py",
   "mimetype": "text/x-python",
   "name": "python",
   "nbconvert_exporter": "python",
   "pygments_lexer": "ipython3",
   "version": "3.12.6"
  }
 },
 "nbformat": 4,
 "nbformat_minor": 2
}
