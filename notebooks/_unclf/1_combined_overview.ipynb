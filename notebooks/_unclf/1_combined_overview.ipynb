{
 "cells": [
  {
   "cell_type": "markdown",
   "metadata": {},
   "source": [
    "# Combined Series Analysis"
   ]
  },
  {
   "cell_type": "code",
   "execution_count": 1,
   "metadata": {},
   "outputs": [
    {
     "name": "stderr",
     "output_type": "stream",
     "text": [
      "2024-10-14 08:55:15.489 | INFO     | fault_management_uds.config:<module>:11 - PROJ_ROOT path is: /Users/arond.jacobsen/Documents/GitHub/fault_management_uds\n"
     ]
    }
   ],
   "source": [
    "import os\n",
    "\n",
    "import pandas as pd\n",
    "import numpy as np\n",
    "import sys\n",
    "import matplotlib.pyplot as plt\n",
    "from matplotlib.colors import ListedColormap, BoundaryNorm\n",
    "from matplotlib.patches import Patch\n",
    "import h5py\n",
    "from anytree import Node, RenderTree\n",
    "import nexusformat.nexus as nx\n",
    "import pickle\n",
    "\n",
    "import plotly.graph_objects as go\n",
    "import plotly.express as px\n",
    "import plotly.io as pio\n",
    "import matplotlib.cm as cm\n",
    "from mlxtend.plotting import scatterplotmatrix\n",
    "\n",
    "\n",
    "\n",
    "\n",
    "from fault_management_uds.data.data_utilities import print_tree\n",
    "from fault_management_uds.data.load_save_data import load_dataframe, save_dataframe, overwrite_dataset, save_filtered_data\n",
    "from fault_management_uds.data.load_save_data import save_metadata, load_metadata, import_metadata\n",
    "from fault_management_uds.plots import set_meaningful_xaxis_timestamps, get_segment_start_end_color\n",
    "\n",
    "\n",
    "from fault_management_uds.config import PROJ_ROOT\n",
    "from fault_management_uds.config import DATA_DIR, RAW_DATA_DIR, INTERIM_DATA_DIR, PROCESSED_DATA_DIR, EXTERNAL_DATA_DIR\n",
    "from fault_management_uds.config import MODELS_DIR, REPORTS_DIR, FIGURES_DIR\n",
    "from fault_management_uds.config import rain_gauges, natural_structure_order, natural_sensor_order, series_order"
   ]
  },
  {
   "cell_type": "code",
   "execution_count": 2,
   "metadata": {},
   "outputs": [],
   "source": [
    "np.random.seed(11)"
   ]
  },
  {
   "cell_type": "markdown",
   "metadata": {},
   "source": [
    "#### Load subset"
   ]
  },
  {
   "cell_type": "code",
   "execution_count": 3,
   "metadata": {},
   "outputs": [
    {
     "name": "stdout",
     "output_type": "stream",
     "text": [
      "root\n",
      "├── dummy\n",
      "└── processed\n",
      "    ├── combined_data\n",
      "    │   ├── cleaned\n",
      "    │   │   ├── columns\n",
      "    │   │   ├── data\n",
      "    │   │   └── timestamps\n",
      "    │   ├── interpolated\n",
      "    │   │   ├── columns\n",
      "    │   │   ├── data\n",
      "    │   │   └── timestamps\n",
      "    │   ├── is_error\n",
      "    │   │   ├── columns\n",
      "    │   │   ├── data\n",
      "    │   │   └── timestamps\n",
      "    │   ├── no_data\n",
      "    │   │   ├── columns\n",
      "    │   │   ├── data\n",
      "    │   │   └── timestamps\n",
      "    │   └── raw\n",
      "    │       ├── columns\n",
      "    │       ├── data\n",
      "    │       └── timestamps\n",
      "    └── single_series\n",
      "        ├── 5425\n",
      "        │   ├── columns\n",
      "        │   ├── data\n",
      "        │   └── timestamps\n",
      "        ├── 5427\n",
      "        │   ├── columns\n",
      "        │   ├── data\n",
      "        │   └── timestamps\n",
      "        ├── G71F04R_Level1\n",
      "        │   ├── columns\n",
      "        │   ├── data\n",
      "        │   └── timestamps\n",
      "        ├── G71F04R_Level2\n",
      "        │   ├── columns\n",
      "        │   ├── data\n",
      "        │   └── timestamps\n",
      "        ├── G71F05R_LevelBasin\n",
      "        │   ├── columns\n",
      "        │   ├── data\n",
      "        │   └── timestamps\n",
      "        ├── G71F05R_LevelInlet\n",
      "        │   ├── columns\n",
      "        │   ├── data\n",
      "        │   └── timestamps\n",
      "        ├── G71F05R_position\n",
      "        │   ├── columns\n",
      "        │   ├── data\n",
      "        │   └── timestamps\n",
      "        ├── G71F06R_LevelInlet\n",
      "        │   ├── columns\n",
      "        │   ├── data\n",
      "        │   └── timestamps\n",
      "        ├── G71F68Y_LevelPS\n",
      "        │   ├── columns\n",
      "        │   ├── data\n",
      "        │   └── timestamps\n",
      "        ├── G71F68Yp1\n",
      "        │   ├── columns\n",
      "        │   ├── data\n",
      "        │   └── timestamps\n",
      "        ├── G72F040\n",
      "        │   ├── columns\n",
      "        │   ├── data\n",
      "        │   └── timestamps\n",
      "        ├── G73F010\n",
      "        │   ├── columns\n",
      "        │   ├── data\n",
      "        │   └── timestamps\n",
      "        ├── G80F11B_Level1\n",
      "        │   ├── columns\n",
      "        │   ├── data\n",
      "        │   └── timestamps\n",
      "        ├── G80F11B_Level2\n",
      "        │   ├── columns\n",
      "        │   ├── data\n",
      "        │   └── timestamps\n",
      "        ├── G80F13P_LevelPS\n",
      "        │   ├── columns\n",
      "        │   ├── data\n",
      "        │   └── timestamps\n",
      "        ├── G80F66Y_Level1\n",
      "        │   ├── columns\n",
      "        │   ├── data\n",
      "        │   └── timestamps\n",
      "        └── G80F66Y_Level2\n",
      "            ├── columns\n",
      "            ├── data\n",
      "            └── timestamps\n"
     ]
    }
   ],
   "source": [
    "data_file_path = PROCESSED_DATA_DIR / 'Bellinge.h5'\n",
    "f = print_tree(data_file_path)"
   ]
  },
  {
   "cell_type": "code",
   "execution_count": 37,
   "metadata": {},
   "outputs": [
    {
     "name": "stdout",
     "output_type": "stream",
     "text": [
      "Start time: 2010-01-01 00:00:00 - End time: 2021-08-19 00:00:00\n"
     ]
    }
   ],
   "source": [
    "# load the timestamps\n",
    "timestamps = f['processed']['combined_data']['raw']['timestamps'][:]\n",
    "timestamps = pd.to_datetime(timestamps)\n",
    "starttime = timestamps[0]\n",
    "endtime = timestamps[-1]\n",
    "print(f\"Start time: {starttime} - End time: {endtime}\")"
   ]
  },
  {
   "cell_type": "code",
   "execution_count": 38,
   "metadata": {},
   "outputs": [],
   "source": [
    "\n",
    "raw_path = '/processed/combined_data/raw'\n",
    "is_error_path = '/processed/combined_data/is_error'\n",
    "no_data_path = '/processed/combined_data/no_data'\n",
    "\n",
    "# starttime = \"01-01-2019 00:00:00\"\n",
    "# endtime = \"01-01-2020 00:00:00\"\n",
    "\n",
    "return_type = \"df\""
   ]
  },
  {
   "cell_type": "code",
   "execution_count": 39,
   "metadata": {},
   "outputs": [
    {
     "name": "stdout",
     "output_type": "stream",
     "text": [
      "        Data loaded from group '/processed/combined_data/raw'\n",
      "        Data loaded from group '/processed/combined_data/is_error'\n",
      "        Data loaded from group '/processed/combined_data/no_data'\n"
     ]
    }
   ],
   "source": [
    "# load\n",
    "\n",
    "raw, timestamps, columns, start_idx, end_idx, column_indices = load_dataframe(\n",
    "    data_file_path, raw_path, \n",
    "    return_type=return_type, starttime=starttime, endtime=endtime\n",
    "    )\n",
    "    \n",
    "is_error, timestamps, columns, start_idx, end_idx, column_indices = load_dataframe(\n",
    "    data_file_path, is_error_path, \n",
    "    return_type=return_type, starttime=starttime, endtime=endtime\n",
    "    )\n",
    "\n",
    "no_data, timestamps, columns, start_idx, end_idx, column_indices = load_dataframe(\n",
    "    data_file_path, no_data_path, \n",
    "    return_type=return_type, starttime=starttime, endtime=endtime\n",
    "    )\n",
    "\n",
    "\n",
    "# fill na with 0\n",
    "raw = raw.fillna(0)\n",
    "is_error = is_error.fillna(0)\n",
    "no_data = no_data.fillna(0)\n",
    "\n",
    "# readjust the order of the columns\n",
    "raw = raw[series_order]\n",
    "is_error = is_error[series_order]\n",
    "no_data = no_data[series_order]"
   ]
  },
  {
   "cell_type": "markdown",
   "metadata": {},
   "source": [
    "# Overview"
   ]
  },
  {
   "cell_type": "code",
   "execution_count": 40,
   "metadata": {},
   "outputs": [],
   "source": [
    "indicator_metadata = {\n",
    "    # Plotting order\n",
    "    'No Data': {\n",
    "        'color': 'linen',\n",
    "        'value': 2\n",
    "    },\n",
    "    'Data': {\n",
    "        'color': 'forestgreen',\n",
    "        'value': 1\n",
    "    },\n",
    "    'Zero Valued': {\n",
    "        'color': 'lightgreen',\n",
    "        'value': 0\n",
    "    },\n",
    "    'Error': {\n",
    "        'color': 'firebrick',\n",
    "        'value': 3\n",
    "    }\n",
    "}\n",
    "\n",
    "# create the index to color mapping\n",
    "indicator_2_color = {v['value']: v['color'] for k, v in indicator_metadata.items()}\n",
    "indicator_2_name = {v['value']: k for k, v in indicator_metadata.items()}\n",
    "name_2_color = {k: v['color'] for k, v in indicator_metadata.items()}\n",
    "color_2_name = {v['color']: k for k, v in indicator_metadata.items()}\n"
   ]
  },
  {
   "cell_type": "code",
   "execution_count": 41,
   "metadata": {},
   "outputs": [],
   "source": [
    "def create_combined_I(raw, is_error, no_data):\n",
    "\n",
    "    timestamps_df = pd.DataFrame(raw.index, columns=['time'])\n",
    "    I = np.zeros_like(raw) # 0 where there is zero value data\n",
    "    I[(raw > 0).values] = 1 # 1 where there is data\n",
    "    I[(no_data > 0).values] = 2 # 2 where there is no data\n",
    "    I[(is_error > 0).values] = 3 # 3 where there is an error\n",
    "\n",
    "    return I, timestamps_df"
   ]
  },
  {
   "cell_type": "code",
   "execution_count": 42,
   "metadata": {},
   "outputs": [],
   "source": [
    "\n",
    "I, timestamps_df = create_combined_I(raw, is_error, no_data)\n",
    "\n",
    "#I = I.transpose()\n",
    "\n",
    "series = list(raw.columns)\n",
    "\n",
    "# for i, serie in enumerate(series):\n",
    "#     print(series[i])\n",
    "#     # check that the data is correct\n",
    "\n",
    "#     # check that where I is 0, the raw data is also 0\n",
    "#     assert np.all(raw[serie][I[i] == 0] == 0), f'Zero value data is not ok'\n",
    "#     print(f'   Zero value data (ok): {np.all(raw[serie][I[i] == 0] == 0)}   |   {np.sum(I[i] == 0)}')\n",
    "\n",
    "#     # check that where I is 1, the raw data is not 0\n",
    "#     assert np.all(raw[serie][I[i] == 1] != 0), f'Data is not ok'\n",
    "#     print(f'   Data (ok): {np.all(raw[serie][I[i] == 1] != 0)}   |   {np.sum(I[i] == 1)}')\n",
    "\n",
    "#     # check that where I is 2, the no_data is 1\n",
    "#     assert np.all(no_data[serie][I[i] == 2] == 1), f'No data is not ok'\n",
    "#     print(f'   No data (ok): {np.all(no_data[serie][I[i] == 2] == 1)}   |   {np.sum(I[i] == 2)}')\n",
    "\n",
    "#     # check that where I is 3, the is_error is 1\n",
    "#     assert np.all(is_error[serie][I[i] == 3] == 1), f'Error is not ok'\n",
    "#     print(f'   Error (ok): {np.all(is_error[serie][I[i] == 3] == 1)}   |   {np.sum(I[i] == 3)}')\n",
    "    \n",
    "#     print('-------------------')\n"
   ]
  },
  {
   "cell_type": "code",
   "execution_count": 43,
   "metadata": {},
   "outputs": [
    {
     "name": "stdout",
     "output_type": "stream",
     "text": [
      "Number of missing timestamps: 0 out of 6117121\n"
     ]
    },
    {
     "data": {
      "text/plain": [
       "DatetimeIndex([], dtype='datetime64[ns]', freq='min')"
      ]
     },
     "execution_count": 43,
     "metadata": {},
     "output_type": "execute_result"
    }
   ],
   "source": [
    "# check that \n",
    "def evaluate_consistency(data, time_column):\n",
    "    # Check for missing timestamps\n",
    "    start_date = data[time_column].min()\n",
    "    end_date = data[time_column].max()\n",
    "    full_range = pd.date_range(start=start_date, end=end_date, freq='1min')\n",
    "    missing_data = full_range.difference(data[time_column])\n",
    "    print(f\"Number of missing timestamps: {len(missing_data)} out of {len(full_range)}\")    \n",
    "    return missing_data\n",
    "\n",
    "missing_data = evaluate_consistency(timestamps_df, 'time')\n",
    "missing_data"
   ]
  },
  {
   "cell_type": "markdown",
   "metadata": {},
   "source": [
    "Test plot"
   ]
  },
  {
   "cell_type": "code",
   "execution_count": 44,
   "metadata": {},
   "outputs": [
    {
     "data": {
      "image/png": "[encoded data removed]",
      "text/plain": [
       "<Figure size 600x100 with 1 Axes>"
      ]
     },
     "metadata": {},
     "output_type": "display_data"
    }
   ],
   "source": [
    "# Set up the figure and axes\n",
    "fig, ax = plt.subplots(figsize=(6, 1))#, dpi=300)\n",
    "\n",
    "row = np.array([0,0,0,1,1,1,2,2,2])\n",
    "colors = {0: 'blue', 1: 'green', 2: 'red', 3: 'black'}  \n",
    "# Iterate over each row in the 2D array I to plot segments\n",
    "# Find the start and end of each segment\n",
    "segment_starts = np.flatnonzero(np.diff(row)) + 1  # segment start\n",
    "segment_starts = np.insert(segment_starts, 0, 0)\n",
    "segment_ends = np.append(segment_starts[1:], len(row)) \n",
    "# Plot segments in one go using vectorized operations\n",
    "segments = np.column_stack((segment_starts, segment_ends - segment_starts))\n",
    "\n",
    "# get the color for each starting segment\n",
    "segment_color = np.vectorize(colors.get)(row[segment_starts])\n",
    "# plot the segments\n",
    "ax.broken_barh(segments, (0 - 0.4, 0.8), facecolors=segment_color)\n",
    "\n",
    "plt.show()"
   ]
  },
  {
   "cell_type": "markdown",
   "metadata": {},
   "source": [
    "Data availability"
   ]
  },
  {
   "cell_type": "code",
   "execution_count": 57,
   "metadata": {},
   "outputs": [],
   "source": [
    "def visualize_combined_timeline(I, timestamps_df, series, indicator_2_color, name_2_color, figsize=(16, 4)):\n",
    "\n",
    "    # Reshape I\n",
    "    I = I.transpose()\n",
    "\n",
    "    # Set up the figure and axes\n",
    "    fig, ax = plt.subplots(figsize=figsize, dpi=400)\n",
    "\n",
    "    bar_width = 0.8\n",
    "\n",
    "    # Iterate over each row in the 2D array I to plot segments\n",
    "    for i, row in enumerate(I):\n",
    "        segment_starts, segment_ends, segment_color = get_segment_start_end_color(row, indicator_2_color)\n",
    "        segments = np.column_stack((segment_starts, segment_ends - segment_starts))\n",
    "        # plot the segments\n",
    "        #ax.broken_barh(segments, (i - bar_width/2, bar_width), facecolors=segment_color)\n",
    "        ax.broken_barh(segments, (i - 0.4, 0.6), facecolors=segment_color)\n",
    "\n",
    "\n",
    "    # Set the legend\n",
    "    legend_elements = [Patch(facecolor=color, label=name) for name, color in name_2_color.items()]\n",
    "    # Add legend: at the bottom of the plot, centered horizontally and stretched to the width of the plot\n",
    "    ax.legend(handles=legend_elements, loc='lower center', ncol=len(legend_elements), frameon=False, bbox_to_anchor=(0.5, -0.17), fontsize=12)\n",
    "\n",
    "    #ax.legend(handles=legend_elements, loc='upper right', bbox_to_anchor=(1.15, 1))\n",
    "\n",
    "\n",
    "\n",
    "\n",
    "    # Set the y-ticks and labels\n",
    "    ax.set_yticks(np.arange(I.shape[0]))\n",
    "    ax.set_yticklabels(series)\n",
    "    ax.invert_yaxis()\n",
    "\n",
    "    # Set the x-axis\n",
    "    ax = set_meaningful_xaxis_timestamps(ax, timestamps_df)\n",
    "\n",
    "    # # add vertical lines for the years\n",
    "    # for year in year_start_idx:\n",
    "    #     ax.axvline(x=year, color='lightgray', linestyle='--', linewidth=0.5)\n",
    "    # remove outer frame\n",
    "    ax.spines['top'].set_visible(False); ax.spines['right'].set_visible(False); ax.spines['left'].set_visible(False); ax.spines['bottom'].set_visible(False)\n",
    "    # Show the plot\n",
    "    plt.tight_layout()\n",
    "    plt.show()"
   ]
  },
  {
   "cell_type": "code",
   "execution_count": 58,
   "metadata": {},
   "outputs": [
    {
     "data": {
      "image/png": "[encoded data removed]",
      "text/plain": [
       "<Figure size 6400x2000 with 1 Axes>"
      ]
     },
     "metadata": {},
     "output_type": "display_data"
    }
   ],
   "source": [
    "visualize_combined_timeline(I, timestamps_df, series, indicator_2_color, name_2_color, figsize=(16, 5))"
   ]
  },
  {
   "cell_type": "markdown",
   "metadata": {},
   "source": [
    "- Rain is generally zero"
   ]
  },
  {
   "cell_type": "markdown",
   "metadata": {},
   "source": [
    "## Biases"
   ]
  },
  {
   "cell_type": "code",
   "execution_count": 34,
   "metadata": {},
   "outputs": [
    {
     "data": {
      "text/html": [
       "<div>\n",
       "<style scoped>\n",
       "    .dataframe tbody tr th:only-of-type {\n",
       "        vertical-align: middle;\n",
       "    }\n",
       "\n",
       "    .dataframe tbody tr th {\n",
       "        vertical-align: top;\n",
       "    }\n",
       "\n",
       "    .dataframe thead th {\n",
       "        text-align: right;\n",
       "    }\n",
       "</style>\n",
       "<table border=\"1\" class=\"dataframe\">\n",
       "  <thead>\n",
       "    <tr style=\"text-align: right;\">\n",
       "      <th></th>\n",
       "      <th>5425</th>\n",
       "      <th>5427</th>\n",
       "      <th>G80F11B_Level1</th>\n",
       "      <th>G80F11B_Level2</th>\n",
       "      <th>G80F66Y_Level1</th>\n",
       "      <th>G80F66Y_Level2</th>\n",
       "      <th>G80F13P_LevelPS</th>\n",
       "      <th>G73F010</th>\n",
       "      <th>G72F040</th>\n",
       "      <th>G71F05R_LevelInlet</th>\n",
       "      <th>G71F05R_LevelBasin</th>\n",
       "      <th>G71F05R_position</th>\n",
       "      <th>G71F04R_Level1</th>\n",
       "      <th>G71F04R_Level2</th>\n",
       "      <th>G71F06R_LevelInlet</th>\n",
       "      <th>G71F68Y_LevelPS</th>\n",
       "      <th>G71F68Yp1</th>\n",
       "    </tr>\n",
       "  </thead>\n",
       "  <tbody>\n",
       "    <tr>\n",
       "      <th>0.0</th>\n",
       "      <td>991005.0</td>\n",
       "      <td>985437.0</td>\n",
       "      <td>217650.0</td>\n",
       "      <td>110231.0</td>\n",
       "      <td>1614</td>\n",
       "      <td>1755</td>\n",
       "      <td>1629.0</td>\n",
       "      <td>1107</td>\n",
       "      <td>0.0</td>\n",
       "      <td>1</td>\n",
       "      <td>763409</td>\n",
       "      <td>126600.0</td>\n",
       "      <td>1</td>\n",
       "      <td>1</td>\n",
       "      <td>1</td>\n",
       "      <td>1909</td>\n",
       "      <td>997881</td>\n",
       "    </tr>\n",
       "    <tr>\n",
       "      <th>1.0</th>\n",
       "      <td>61636.0</td>\n",
       "      <td>67204.0</td>\n",
       "      <td>409455.0</td>\n",
       "      <td>516874.0</td>\n",
       "      <td>625461</td>\n",
       "      <td>625317</td>\n",
       "      <td>1050965.0</td>\n",
       "      <td>397771</td>\n",
       "      <td>53740.0</td>\n",
       "      <td>1034666</td>\n",
       "      <td>274265</td>\n",
       "      <td>912403.0</td>\n",
       "      <td>611464</td>\n",
       "      <td>844410</td>\n",
       "      <td>1034694</td>\n",
       "      <td>1036527</td>\n",
       "      <td>40138</td>\n",
       "    </tr>\n",
       "    <tr>\n",
       "      <th>2.0</th>\n",
       "      <td>0.0</td>\n",
       "      <td>0.0</td>\n",
       "      <td>425536.0</td>\n",
       "      <td>425536.0</td>\n",
       "      <td>425532</td>\n",
       "      <td>425532</td>\n",
       "      <td>0.0</td>\n",
       "      <td>653760</td>\n",
       "      <td>998798.0</td>\n",
       "      <td>13638</td>\n",
       "      <td>13638</td>\n",
       "      <td>13638.0</td>\n",
       "      <td>13318</td>\n",
       "      <td>13318</td>\n",
       "      <td>13638</td>\n",
       "      <td>14062</td>\n",
       "      <td>14099</td>\n",
       "    </tr>\n",
       "    <tr>\n",
       "      <th>3.0</th>\n",
       "      <td>0.0</td>\n",
       "      <td>0.0</td>\n",
       "      <td>0.0</td>\n",
       "      <td>0.0</td>\n",
       "      <td>34</td>\n",
       "      <td>37</td>\n",
       "      <td>47.0</td>\n",
       "      <td>3</td>\n",
       "      <td>103.0</td>\n",
       "      <td>4336</td>\n",
       "      <td>1329</td>\n",
       "      <td>0.0</td>\n",
       "      <td>427858</td>\n",
       "      <td>194912</td>\n",
       "      <td>4308</td>\n",
       "      <td>143</td>\n",
       "      <td>523</td>\n",
       "    </tr>\n",
       "  </tbody>\n",
       "</table>\n",
       "</div>"
      ],
      "text/plain": [
       "         5425      5427  G80F11B_Level1  G80F11B_Level2  G80F66Y_Level1  \\\n",
       "0.0  991005.0  985437.0        217650.0        110231.0            1614   \n",
       "1.0   61636.0   67204.0        409455.0        516874.0          625461   \n",
       "2.0       0.0       0.0        425536.0        425536.0          425532   \n",
       "3.0       0.0       0.0             0.0             0.0              34   \n",
       "\n",
       "     G80F66Y_Level2  G80F13P_LevelPS  G73F010   G72F040  G71F05R_LevelInlet  \\\n",
       "0.0            1755           1629.0     1107       0.0                   1   \n",
       "1.0          625317        1050965.0   397771   53740.0             1034666   \n",
       "2.0          425532              0.0   653760  998798.0               13638   \n",
       "3.0              37             47.0        3     103.0                4336   \n",
       "\n",
       "     G71F05R_LevelBasin  G71F05R_position  G71F04R_Level1  G71F04R_Level2  \\\n",
       "0.0              763409          126600.0               1               1   \n",
       "1.0              274265          912403.0          611464          844410   \n",
       "2.0               13638           13638.0           13318           13318   \n",
       "3.0                1329               0.0          427858          194912   \n",
       "\n",
       "     G71F06R_LevelInlet  G71F68Y_LevelPS  G71F68Yp1  \n",
       "0.0                   1             1909     997881  \n",
       "1.0             1034694          1036527      40138  \n",
       "2.0               13638            14062      14099  \n",
       "3.0                4308              143        523  "
      ]
     },
     "execution_count": 34,
     "metadata": {},
     "output_type": "execute_result"
    }
   ],
   "source": [
    "# zero value\n",
    "I_df = pd.DataFrame(I, columns=series)\n",
    "# aggregate the data, group by the unique values of I and count the number of occurences\n",
    "I_agg = {}\n",
    "for serie in series:\n",
    "    I_agg[serie] = I_df[serie].value_counts().sort_index()\n",
    "I_agg_df = pd.DataFrame(I_agg).fillna(0)#.transpose()\n",
    "\n",
    "I_agg_df"
   ]
  },
  {
   "cell_type": "code",
   "execution_count": 35,
   "metadata": {},
   "outputs": [
    {
     "data": {
      "text/plain": [
       "0.0    4200231.0\n",
       "1.0    9596990.0\n",
       "2.0    3464043.0\n",
       "3.0     633633.0\n",
       "dtype: float64"
      ]
     },
     "execution_count": 35,
     "metadata": {},
     "output_type": "execute_result"
    }
   ],
   "source": [
    "C_agg_df = I_agg_df.sum(axis=1)  \n",
    "C_agg_df  "
   ]
  },
  {
   "cell_type": "code",
   "execution_count": 60,
   "metadata": {},
   "outputs": [
    {
     "data": {
      "text/html": [
       "<div>\n",
       "<style scoped>\n",
       "    .dataframe tbody tr th:only-of-type {\n",
       "        vertical-align: middle;\n",
       "    }\n",
       "\n",
       "    .dataframe tbody tr th {\n",
       "        vertical-align: top;\n",
       "    }\n",
       "\n",
       "    .dataframe thead th {\n",
       "        text-align: right;\n",
       "    }\n",
       "</style>\n",
       "<table border=\"1\" class=\"dataframe\">\n",
       "  <thead>\n",
       "    <tr style=\"text-align: right;\">\n",
       "      <th></th>\n",
       "      <th>Indicator</th>\n",
       "      <th>Count</th>\n",
       "      <th>Name</th>\n",
       "    </tr>\n",
       "  </thead>\n",
       "  <tbody>\n",
       "    <tr>\n",
       "      <th>2</th>\n",
       "      <td>2.0</td>\n",
       "      <td>3464043.0</td>\n",
       "      <td>No Data</td>\n",
       "    </tr>\n",
       "    <tr>\n",
       "      <th>1</th>\n",
       "      <td>1.0</td>\n",
       "      <td>9596990.0</td>\n",
       "      <td>Data</td>\n",
       "    </tr>\n",
       "    <tr>\n",
       "      <th>0</th>\n",
       "      <td>0.0</td>\n",
       "      <td>4200231.0</td>\n",
       "      <td>Zero Valued</td>\n",
       "    </tr>\n",
       "    <tr>\n",
       "      <th>3</th>\n",
       "      <td>3.0</td>\n",
       "      <td>633633.0</td>\n",
       "      <td>Error</td>\n",
       "    </tr>\n",
       "  </tbody>\n",
       "</table>\n",
       "</div>"
      ],
      "text/plain": [
       "   Indicator      Count         Name\n",
       "2        2.0  3464043.0      No Data\n",
       "1        1.0  9596990.0         Data\n",
       "0        0.0  4200231.0  Zero Valued\n",
       "3        3.0   633633.0        Error"
      ]
     },
     "execution_count": 60,
     "metadata": {},
     "output_type": "execute_result"
    }
   ],
   "source": [
    "C_agg_df = I_agg_df.sum(axis=1)  \n",
    "\n",
    "C_agg_df = C_agg_df.to_frame().reset_index().rename(columns={'index': 'Indicator', 0: 'Count'})\n",
    "C_agg_df['Name'] = C_agg_df['Indicator'].map(indicator_2_name)\n",
    "# add the missing indicators\n",
    "for indicator, name in indicator_2_name.items():\n",
    "    if indicator not in C_agg_df['Indicator'].values:\n",
    "        C_agg_df = pd.concat([C_agg_df, pd.DataFrame({'Name': [name], 'Indicator': [indicator], 'Count': [0]})])\n",
    "C_agg_df = C_agg_df.fillna(0)\n",
    "# sort by indicator value\n",
    "C_agg_df = C_agg_df.sort_values(by='Indicator')\n",
    "# reset the index\n",
    "C_agg_df = C_agg_df.reset_index(drop=True)\n",
    "C_agg_df = C_agg_df.loc[list(indicator_2_name.keys())]\n",
    "C_agg_df"
   ]
  },
  {
   "cell_type": "code",
   "execution_count": 61,
   "metadata": {},
   "outputs": [
    {
     "data": {
      "application/vnd.plotly.v1+json": {
       "config": {
        "plotlyServerURL": "https://plot.ly"
       },
       "data": [
        {
         "alignmentgroup": "True",
         "hovertemplate": "Count: %{y}<extra></extra>",
         "legendgroup": "No Data",
         "marker": {
          "color": "linen",
          "pattern": {
           "shape": ""
          }
         },
         "name": "No Data",
         "offsetgroup": "No Data",
         "orientation": "v",
         "showlegend": true,
         "text": [
          3464043
         ],
         "textposition": "auto",
         "type": "bar",
         "x": [
          "No Data"
         ],
         "xaxis": "x",
         "y": [
          3464043
         ],
         "yaxis": "y"
        },
        {
         "alignmentgroup": "True",
         "hovertemplate": "Count: %{y}<extra></extra>",
         "legendgroup": "Data",
         "marker": {
          "color": "forestgreen",
          "pattern": {
           "shape": ""
          }
         },
         "name": "Data",
         "offsetgroup": "Data",
         "orientation": "v",
         "showlegend": true,
         "text": [
          9596990
         ],
         "textposition": "auto",
         "type": "bar",
         "x": [
          "Data"
         ],
         "xaxis": "x",
         "y": [
          9596990
         ],
         "yaxis": "y"
        },
        {
         "alignmentgroup": "True",
         "hovertemplate": "Count: %{y}<extra></extra>",
         "legendgroup": "Zero Valued",
         "marker": {
          "color": "lightgreen",
          "pattern": {
           "shape": ""
          }
         },
         "name": "Zero Valued",
         "offsetgroup": "Zero Valued",
         "orientation": "v",
         "showlegend": true,
         "text": [
          4200231
         ],
         "textposition": "auto",
         "type": "bar",
         "x": [
          "Zero Valued"
         ],
         "xaxis": "x",
         "y": [
          4200231
         ],
         "yaxis": "y"
        },
        {
         "alignmentgroup": "True",
         "hovertemplate": "Count: %{y}<extra></extra>",
         "legendgroup": "Error",
         "marker": {
          "color": "firebrick",
          "pattern": {
           "shape": ""
          }
         },
         "name": "Error",
         "offsetgroup": "Error",
         "orientation": "v",
         "showlegend": true,
         "text": [
          633633
         ],
         "textposition": "auto",
         "type": "bar",
         "x": [
          "Error"
         ],
         "xaxis": "x",
         "y": [
          633633
         ],
         "yaxis": "y"
        }
       ],
       "layout": {
        "barmode": "relative",
        "height": 300,
        "legend": {
         "title": {
          "text": ""
         },
         "tracegroupgap": 0
        },
        "margin": {
         "t": 60
        },
        "template": {
         "data": {
          "bar": [
           {
            "error_x": {
             "color": "#2a3f5f"
            },
            "error_y": {
             "color": "#2a3f5f"
            },
            "marker": {
             "line": {
              "color": "#E5ECF6",
              "width": 0.5
             },
             "pattern": {
              "fillmode": "overlay",
              "size": 10,
              "solidity": 0.2
             }
            },
            "type": "bar"
           }
          ],
          "barpolar": [
           {
            "marker": {
             "line": {
              "color": "#E5ECF6",
              "width": 0.5
             },
             "pattern": {
              "fillmode": "overlay",
              "size": 10,
              "solidity": 0.2
             }
            },
            "type": "barpolar"
           }
          ],
          "carpet": [
           {
            "aaxis": {
             "endlinecolor": "#2a3f5f",
             "gridcolor": "white",
             "linecolor": "white",
             "minorgridcolor": "white",
             "startlinecolor": "#2a3f5f"
            },
            "baxis": {
             "endlinecolor": "#2a3f5f",
             "gridcolor": "white",
             "linecolor": "white",
             "minorgridcolor": "white",
             "startlinecolor": "#2a3f5f"
            },
            "type": "carpet"
           }
          ],
          "choropleth": [
           {
            "colorbar": {
             "outlinewidth": 0,
             "ticks": ""
            },
            "type": "choropleth"
           }
          ],
          "contour": [
           {
            "colorbar": {
             "outlinewidth": 0,
             "ticks": ""
            },
            "colorscale": [
             [
              0,
              "#0d0887"
             ],
             [
              0.1111111111111111,
              "#46039f"
             ],
             [
              0.2222222222222222,
              "#7201a8"
             ],
             [
              0.3333333333333333,
              "#9c179e"
             ],
             [
              0.4444444444444444,
              "#bd3786"
             ],
             [
              0.5555555555555556,
              "#d8576b"
             ],
             [
              0.6666666666666666,
              "#ed7953"
             ],
             [
              0.7777777777777778,
              "#fb9f3a"
             ],
             [
              0.8888888888888888,
              "#fdca26"
             ],
             [
              1,
              "#f0f921"
             ]
            ],
            "type": "contour"
           }
          ],
          "contourcarpet": [
           {
            "colorbar": {
             "outlinewidth": 0,
             "ticks": ""
            },
            "type": "contourcarpet"
           }
          ],
          "heatmap": [
           {
            "colorbar": {
             "outlinewidth": 0,
             "ticks": ""
            },
            "colorscale": [
             [
              0,
              "#0d0887"
             ],
             [
              0.1111111111111111,
              "#46039f"
             ],
             [
              0.2222222222222222,
              "#7201a8"
             ],
             [
              0.3333333333333333,
              "#9c179e"
             ],
             [
              0.4444444444444444,
              "#bd3786"
             ],
             [
              0.5555555555555556,
              "#d8576b"
             ],
             [
              0.6666666666666666,
              "#ed7953"
             ],
             [
              0.7777777777777778,
              "#fb9f3a"
             ],
             [
              0.8888888888888888,
              "#fdca26"
             ],
             [
              1,
              "#f0f921"
             ]
            ],
            "type": "heatmap"
           }
          ],
          "heatmapgl": [
           {
            "colorbar": {
             "outlinewidth": 0,
             "ticks": ""
            },
            "colorscale": [
             [
              0,
              "#0d0887"
             ],
             [
              0.1111111111111111,
              "#46039f"
             ],
             [
              0.2222222222222222,
              "#7201a8"
             ],
             [
              0.3333333333333333,
              "#9c179e"
             ],
             [
              0.4444444444444444,
              "#bd3786"
             ],
             [
              0.5555555555555556,
              "#d8576b"
             ],
             [
              0.6666666666666666,
              "#ed7953"
             ],
             [
              0.7777777777777778,
              "#fb9f3a"
             ],
             [
              0.8888888888888888,
              "#fdca26"
             ],
             [
              1,
              "#f0f921"
             ]
            ],
            "type": "heatmapgl"
           }
          ],
          "histogram": [
           {
            "marker": {
             "pattern": {
              "fillmode": "overlay",
              "size": 10,
              "solidity": 0.2
             }
            },
            "type": "histogram"
           }
          ],
          "histogram2d": [
           {
            "colorbar": {
             "outlinewidth": 0,
             "ticks": ""
            },
            "colorscale": [
             [
              0,
              "#0d0887"
             ],
             [
              0.1111111111111111,
              "#46039f"
             ],
             [
              0.2222222222222222,
              "#7201a8"
             ],
             [
              0.3333333333333333,
              "#9c179e"
             ],
             [
              0.4444444444444444,
              "#bd3786"
             ],
             [
              0.5555555555555556,
              "#d8576b"
             ],
             [
              0.6666666666666666,
              "#ed7953"
             ],
             [
              0.7777777777777778,
              "#fb9f3a"
             ],
             [
              0.8888888888888888,
              "#fdca26"
             ],
             [
              1,
              "#f0f921"
             ]
            ],
            "type": "histogram2d"
           }
          ],
          "histogram2dcontour": [
           {
            "colorbar": {
             "outlinewidth": 0,
             "ticks": ""
            },
            "colorscale": [
             [
              0,
              "#0d0887"
             ],
             [
              0.1111111111111111,
              "#46039f"
             ],
             [
              0.2222222222222222,
              "#7201a8"
             ],
             [
              0.3333333333333333,
              "#9c179e"
             ],
             [
              0.4444444444444444,
              "#bd3786"
             ],
             [
              0.5555555555555556,
              "#d8576b"
             ],
             [
              0.6666666666666666,
              "#ed7953"
             ],
             [
              0.7777777777777778,
              "#fb9f3a"
             ],
             [
              0.8888888888888888,
              "#fdca26"
             ],
             [
              1,
              "#f0f921"
             ]
            ],
            "type": "histogram2dcontour"
           }
          ],
          "mesh3d": [
           {
            "colorbar": {
             "outlinewidth": 0,
             "ticks": ""
            },
            "type": "mesh3d"
           }
          ],
          "parcoords": [
           {
            "line": {
             "colorbar": {
              "outlinewidth": 0,
              "ticks": ""
             }
            },
            "type": "parcoords"
           }
          ],
          "pie": [
           {
            "automargin": true,
            "type": "pie"
           }
          ],
          "scatter": [
           {
            "fillpattern": {
             "fillmode": "overlay",
             "size": 10,
             "solidity": 0.2
            },
            "type": "scatter"
           }
          ],
          "scatter3d": [
           {
            "line": {
             "colorbar": {
              "outlinewidth": 0,
              "ticks": ""
             }
            },
            "marker": {
             "colorbar": {
              "outlinewidth": 0,
              "ticks": ""
             }
            },
            "type": "scatter3d"
           }
          ],
          "scattercarpet": [
           {
            "marker": {
             "colorbar": {
              "outlinewidth": 0,
              "ticks": ""
             }
            },
            "type": "scattercarpet"
           }
          ],
          "scattergeo": [
           {
            "marker": {
             "colorbar": {
              "outlinewidth": 0,
              "ticks": ""
             }
            },
            "type": "scattergeo"
           }
          ],
          "scattergl": [
           {
            "marker": {
             "colorbar": {
              "outlinewidth": 0,
              "ticks": ""
             }
            },
            "type": "scattergl"
           }
          ],
          "scattermapbox": [
           {
            "marker": {
             "colorbar": {
              "outlinewidth": 0,
              "ticks": ""
             }
            },
            "type": "scattermapbox"
           }
          ],
          "scatterpolar": [
           {
            "marker": {
             "colorbar": {
              "outlinewidth": 0,
              "ticks": ""
             }
            },
            "type": "scatterpolar"
           }
          ],
          "scatterpolargl": [
           {
            "marker": {
             "colorbar": {
              "outlinewidth": 0,
              "ticks": ""
             }
            },
            "type": "scatterpolargl"
           }
          ],
          "scatterternary": [
           {
            "marker": {
             "colorbar": {
              "outlinewidth": 0,
              "ticks": ""
             }
            },
            "type": "scatterternary"
           }
          ],
          "surface": [
           {
            "colorbar": {
             "outlinewidth": 0,
             "ticks": ""
            },
            "colorscale": [
             [
              0,
              "#0d0887"
             ],
             [
              0.1111111111111111,
              "#46039f"
             ],
             [
              0.2222222222222222,
              "#7201a8"
             ],
             [
              0.3333333333333333,
              "#9c179e"
             ],
             [
              0.4444444444444444,
              "#bd3786"
             ],
             [
              0.5555555555555556,
              "#d8576b"
             ],
             [
              0.6666666666666666,
              "#ed7953"
             ],
             [
              0.7777777777777778,
              "#fb9f3a"
             ],
             [
              0.8888888888888888,
              "#fdca26"
             ],
             [
              1,
              "#f0f921"
             ]
            ],
            "type": "surface"
           }
          ],
          "table": [
           {
            "cells": {
             "fill": {
              "color": "#EBF0F8"
             },
             "line": {
              "color": "white"
             }
            },
            "header": {
             "fill": {
              "color": "#C8D4E3"
             },
             "line": {
              "color": "white"
             }
            },
            "type": "table"
           }
          ]
         },
         "layout": {
          "annotationdefaults": {
           "arrowcolor": "#2a3f5f",
           "arrowhead": 0,
           "arrowwidth": 1
          },
          "autotypenumbers": "strict",
          "coloraxis": {
           "colorbar": {
            "outlinewidth": 0,
            "ticks": ""
           }
          },
          "colorscale": {
           "diverging": [
            [
             0,
             "#8e0152"
            ],
            [
             0.1,
             "#c51b7d"
            ],
            [
             0.2,
             "#de77ae"
            ],
            [
             0.3,
             "#f1b6da"
            ],
            [
             0.4,
             "#fde0ef"
            ],
            [
             0.5,
             "#f7f7f7"
            ],
            [
             0.6,
             "#e6f5d0"
            ],
            [
             0.7,
             "#b8e186"
            ],
            [
             0.8,
             "#7fbc41"
            ],
            [
             0.9,
             "#4d9221"
            ],
            [
             1,
             "#276419"
            ]
           ],
           "sequential": [
            [
             0,
             "#0d0887"
            ],
            [
             0.1111111111111111,
             "#46039f"
            ],
            [
             0.2222222222222222,
             "#7201a8"
            ],
            [
             0.3333333333333333,
             "#9c179e"
            ],
            [
             0.4444444444444444,
             "#bd3786"
            ],
            [
             0.5555555555555556,
             "#d8576b"
            ],
            [
             0.6666666666666666,
             "#ed7953"
            ],
            [
             0.7777777777777778,
             "#fb9f3a"
            ],
            [
             0.8888888888888888,
             "#fdca26"
            ],
            [
             1,
             "#f0f921"
            ]
           ],
           "sequentialminus": [
            [
             0,
             "#0d0887"
            ],
            [
             0.1111111111111111,
             "#46039f"
            ],
            [
             0.2222222222222222,
             "#7201a8"
            ],
            [
             0.3333333333333333,
             "#9c179e"
            ],
            [
             0.4444444444444444,
             "#bd3786"
            ],
            [
             0.5555555555555556,
             "#d8576b"
            ],
            [
             0.6666666666666666,
             "#ed7953"
            ],
            [
             0.7777777777777778,
             "#fb9f3a"
            ],
            [
             0.8888888888888888,
             "#fdca26"
            ],
            [
             1,
             "#f0f921"
            ]
           ]
          },
          "colorway": [
           "#636efa",
           "#EF553B",
           "#00cc96",
           "#ab63fa",
           "#FFA15A",
           "#19d3f3",
           "#FF6692",
           "#B6E880",
           "#FF97FF",
           "#FECB52"
          ],
          "font": {
           "color": "#2a3f5f"
          },
          "geo": {
           "bgcolor": "white",
           "lakecolor": "white",
           "landcolor": "#E5ECF6",
           "showlakes": true,
           "showland": true,
           "subunitcolor": "white"
          },
          "hoverlabel": {
           "align": "left"
          },
          "hovermode": "closest",
          "mapbox": {
           "style": "light"
          },
          "paper_bgcolor": "white",
          "plot_bgcolor": "#E5ECF6",
          "polar": {
           "angularaxis": {
            "gridcolor": "white",
            "linecolor": "white",
            "ticks": ""
           },
           "bgcolor": "#E5ECF6",
           "radialaxis": {
            "gridcolor": "white",
            "linecolor": "white",
            "ticks": ""
           }
          },
          "scene": {
           "xaxis": {
            "backgroundcolor": "#E5ECF6",
            "gridcolor": "white",
            "gridwidth": 2,
            "linecolor": "white",
            "showbackground": true,
            "ticks": "",
            "zerolinecolor": "white"
           },
           "yaxis": {
            "backgroundcolor": "#E5ECF6",
            "gridcolor": "white",
            "gridwidth": 2,
            "linecolor": "white",
            "showbackground": true,
            "ticks": "",
            "zerolinecolor": "white"
           },
           "zaxis": {
            "backgroundcolor": "#E5ECF6",
            "gridcolor": "white",
            "gridwidth": 2,
            "linecolor": "white",
            "showbackground": true,
            "ticks": "",
            "zerolinecolor": "white"
           }
          },
          "shapedefaults": {
           "line": {
            "color": "#2a3f5f"
           }
          },
          "ternary": {
           "aaxis": {
            "gridcolor": "white",
            "linecolor": "white",
            "ticks": ""
           },
           "baxis": {
            "gridcolor": "white",
            "linecolor": "white",
            "ticks": ""
           },
           "bgcolor": "#E5ECF6",
           "caxis": {
            "gridcolor": "white",
            "linecolor": "white",
            "ticks": ""
           }
          },
          "title": {
           "x": 0.05
          },
          "xaxis": {
           "automargin": true,
           "gridcolor": "white",
           "linecolor": "white",
           "ticks": "",
           "title": {
            "standoff": 15
           },
           "zerolinecolor": "white",
           "zerolinewidth": 2
          },
          "yaxis": {
           "automargin": true,
           "gridcolor": "white",
           "linecolor": "white",
           "ticks": "",
           "title": {
            "standoff": 15
           },
           "zerolinecolor": "white",
           "zerolinewidth": 2
          }
         }
        },
        "width": 800,
        "xaxis": {
         "anchor": "y",
         "categoryarray": [
          "No Data",
          "Data",
          "Zero Valued",
          "Error"
         ],
         "categoryorder": "array",
         "domain": [
          0,
          1
         ],
         "title": {
          "text": ""
         }
        },
        "yaxis": {
         "anchor": "x",
         "domain": [
          0,
          1
         ],
         "title": {
          "text": "Count"
         }
        }
       }
      }
     },
     "metadata": {},
     "output_type": "display_data"
    }
   ],
   "source": [
    "\n",
    "\n",
    "fig = px.bar(C_agg_df, x='Name', y='Count', color='Name', \n",
    "    color_discrete_map=name_2_color,\n",
    "    labels={'Name': ''},\n",
    "    # add count on top of the bars\n",
    "    text='Count',\n",
    "    height=300,\n",
    "    width=800,  \n",
    "    )\n",
    "\n",
    "# update the hover\n",
    "fig.update_traces(hovertemplate='Count: %{y}<extra></extra>')\n",
    "fig.show()"
   ]
  },
  {
   "cell_type": "code",
   "execution_count": 68,
   "metadata": {},
   "outputs": [
    {
     "data": {
      "text/html": [
       "<div>\n",
       "<style scoped>\n",
       "    .dataframe tbody tr th:only-of-type {\n",
       "        vertical-align: middle;\n",
       "    }\n",
       "\n",
       "    .dataframe tbody tr th {\n",
       "        vertical-align: top;\n",
       "    }\n",
       "\n",
       "    .dataframe thead th {\n",
       "        text-align: right;\n",
       "    }\n",
       "</style>\n",
       "<table border=\"1\" class=\"dataframe\">\n",
       "  <thead>\n",
       "    <tr style=\"text-align: right;\">\n",
       "      <th></th>\n",
       "      <th>Indicator</th>\n",
       "      <th>Count</th>\n",
       "      <th>Name</th>\n",
       "    </tr>\n",
       "  </thead>\n",
       "  <tbody>\n",
       "    <tr>\n",
       "      <th>2</th>\n",
       "      <td>2.0</td>\n",
       "      <td>3464043.0</td>\n",
       "      <td>No Data</td>\n",
       "    </tr>\n",
       "    <tr>\n",
       "      <th>1</th>\n",
       "      <td>1.0</td>\n",
       "      <td>9596990.0</td>\n",
       "      <td>Data</td>\n",
       "    </tr>\n",
       "    <tr>\n",
       "      <th>0</th>\n",
       "      <td>0.0</td>\n",
       "      <td>4200231.0</td>\n",
       "      <td>Zero Valued</td>\n",
       "    </tr>\n",
       "    <tr>\n",
       "      <th>3</th>\n",
       "      <td>3.0</td>\n",
       "      <td>633633.0</td>\n",
       "      <td>Error</td>\n",
       "    </tr>\n",
       "  </tbody>\n",
       "</table>\n",
       "</div>"
      ],
      "text/plain": [
       "   Indicator      Count         Name\n",
       "2        2.0  3464043.0      No Data\n",
       "1        1.0  9596990.0         Data\n",
       "0        0.0  4200231.0  Zero Valued\n",
       "3        3.0   633633.0        Error"
      ]
     },
     "execution_count": 68,
     "metadata": {},
     "output_type": "execute_result"
    }
   ],
   "source": [
    "C_agg_df"
   ]
  },
  {
   "cell_type": "code",
   "execution_count": 69,
   "metadata": {},
   "outputs": [
    {
     "data": {
      "text/html": [
       "<div>\n",
       "<style scoped>\n",
       "    .dataframe tbody tr th:only-of-type {\n",
       "        vertical-align: middle;\n",
       "    }\n",
       "\n",
       "    .dataframe tbody tr th {\n",
       "        vertical-align: top;\n",
       "    }\n",
       "\n",
       "    .dataframe thead th {\n",
       "        text-align: right;\n",
       "    }\n",
       "</style>\n",
       "<table border=\"1\" class=\"dataframe\">\n",
       "  <thead>\n",
       "    <tr style=\"text-align: right;\">\n",
       "      <th></th>\n",
       "      <th>Indicator</th>\n",
       "      <th>Count</th>\n",
       "      <th>Name</th>\n",
       "    </tr>\n",
       "  </thead>\n",
       "  <tbody>\n",
       "    <tr>\n",
       "      <th>0</th>\n",
       "      <td>2.0</td>\n",
       "      <td>4097676.0</td>\n",
       "      <td>No Data</td>\n",
       "    </tr>\n",
       "    <tr>\n",
       "      <th>1</th>\n",
       "      <td>1.0</td>\n",
       "      <td>13797221.0</td>\n",
       "      <td>Data</td>\n",
       "    </tr>\n",
       "  </tbody>\n",
       "</table>\n",
       "</div>"
      ],
      "text/plain": [
       "   Indicator       Count     Name\n",
       "0        2.0   4097676.0  No Data\n",
       "1        1.0  13797221.0     Data"
      ]
     },
     "execution_count": 69,
     "metadata": {},
     "output_type": "execute_result"
    }
   ],
   "source": [
    "sub_agg_df = C_agg_df.copy()\n",
    "# combine Indicator 3 with 2, and Indicator 0 with 1\n",
    "sub_agg_df.loc[2, 'Count'] += sub_agg_df.loc[3, 'Count']\n",
    "sub_agg_df.loc[1, 'Count'] += sub_agg_df.loc[0, 'Count']\n",
    "sub_agg_df = sub_agg_df.drop([0, 3])\n",
    "sub_agg_df = sub_agg_df.reset_index(drop=True)\n",
    "sub_agg_df"
   ]
  },
  {
   "cell_type": "code",
   "execution_count": 70,
   "metadata": {},
   "outputs": [
    {
     "data": {
      "application/vnd.plotly.v1+json": {
       "config": {
        "plotlyServerURL": "https://plot.ly"
       },
       "data": [
        {
         "alignmentgroup": "True",
         "hovertemplate": "Count: %{y}<extra></extra>",
         "legendgroup": "No Data",
         "marker": {
          "color": "linen",
          "pattern": {
           "shape": ""
          }
         },
         "name": "No Data",
         "offsetgroup": "No Data",
         "orientation": "v",
         "showlegend": true,
         "text": [
          4097676
         ],
         "textposition": "auto",
         "type": "bar",
         "x": [
          "No Data"
         ],
         "xaxis": "x",
         "y": [
          4097676
         ],
         "yaxis": "y"
        },
        {
         "alignmentgroup": "True",
         "hovertemplate": "Count: %{y}<extra></extra>",
         "legendgroup": "Data",
         "marker": {
          "color": "forestgreen",
          "pattern": {
           "shape": ""
          }
         },
         "name": "Data",
         "offsetgroup": "Data",
         "orientation": "v",
         "showlegend": true,
         "text": [
          13797221
         ],
         "textposition": "auto",
         "type": "bar",
         "x": [
          "Data"
         ],
         "xaxis": "x",
         "y": [
          13797221
         ],
         "yaxis": "y"
        }
       ],
       "layout": {
        "barmode": "relative",
        "height": 300,
        "legend": {
         "title": {
          "text": ""
         },
         "tracegroupgap": 0
        },
        "margin": {
         "t": 60
        },
        "template": {
         "data": {
          "bar": [
           {
            "error_x": {
             "color": "#2a3f5f"
            },
            "error_y": {
             "color": "#2a3f5f"
            },
            "marker": {
             "line": {
              "color": "#E5ECF6",
              "width": 0.5
             },
             "pattern": {
              "fillmode": "overlay",
              "size": 10,
              "solidity": 0.2
             }
            },
            "type": "bar"
           }
          ],
          "barpolar": [
           {
            "marker": {
             "line": {
              "color": "#E5ECF6",
              "width": 0.5
             },
             "pattern": {
              "fillmode": "overlay",
              "size": 10,
              "solidity": 0.2
             }
            },
            "type": "barpolar"
           }
          ],
          "carpet": [
           {
            "aaxis": {
             "endlinecolor": "#2a3f5f",
             "gridcolor": "white",
             "linecolor": "white",
             "minorgridcolor": "white",
             "startlinecolor": "#2a3f5f"
            },
            "baxis": {
             "endlinecolor": "#2a3f5f",
             "gridcolor": "white",
             "linecolor": "white",
             "minorgridcolor": "white",
             "startlinecolor": "#2a3f5f"
            },
            "type": "carpet"
           }
          ],
          "choropleth": [
           {
            "colorbar": {
             "outlinewidth": 0,
             "ticks": ""
            },
            "type": "choropleth"
           }
          ],
          "contour": [
           {
            "colorbar": {
             "outlinewidth": 0,
             "ticks": ""
            },
            "colorscale": [
             [
              0,
              "#0d0887"
             ],
             [
              0.1111111111111111,
              "#46039f"
             ],
             [
              0.2222222222222222,
              "#7201a8"
             ],
             [
              0.3333333333333333,
              "#9c179e"
             ],
             [
              0.4444444444444444,
              "#bd3786"
             ],
             [
              0.5555555555555556,
              "#d8576b"
             ],
             [
              0.6666666666666666,
              "#ed7953"
             ],
             [
              0.7777777777777778,
              "#fb9f3a"
             ],
             [
              0.8888888888888888,
              "#fdca26"
             ],
             [
              1,
              "#f0f921"
             ]
            ],
            "type": "contour"
           }
          ],
          "contourcarpet": [
           {
            "colorbar": {
             "outlinewidth": 0,
             "ticks": ""
            },
            "type": "contourcarpet"
           }
          ],
          "heatmap": [
           {
            "colorbar": {
             "outlinewidth": 0,
             "ticks": ""
            },
            "colorscale": [
             [
              0,
              "#0d0887"
             ],
             [
              0.1111111111111111,
              "#46039f"
             ],
             [
              0.2222222222222222,
              "#7201a8"
             ],
             [
              0.3333333333333333,
              "#9c179e"
             ],
             [
              0.4444444444444444,
              "#bd3786"
             ],
             [
              0.5555555555555556,
              "#d8576b"
             ],
             [
              0.6666666666666666,
              "#ed7953"
             ],
             [
              0.7777777777777778,
              "#fb9f3a"
             ],
             [
              0.8888888888888888,
              "#fdca26"
             ],
             [
              1,
              "#f0f921"
             ]
            ],
            "type": "heatmap"
           }
          ],
          "heatmapgl": [
           {
            "colorbar": {
             "outlinewidth": 0,
             "ticks": ""
            },
            "colorscale": [
             [
              0,
              "#0d0887"
             ],
             [
              0.1111111111111111,
              "#46039f"
             ],
             [
              0.2222222222222222,
              "#7201a8"
             ],
             [
              0.3333333333333333,
              "#9c179e"
             ],
             [
              0.4444444444444444,
              "#bd3786"
             ],
             [
              0.5555555555555556,
              "#d8576b"
             ],
             [
              0.6666666666666666,
              "#ed7953"
             ],
             [
              0.7777777777777778,
              "#fb9f3a"
             ],
             [
              0.8888888888888888,
              "#fdca26"
             ],
             [
              1,
              "#f0f921"
             ]
            ],
            "type": "heatmapgl"
           }
          ],
          "histogram": [
           {
            "marker": {
             "pattern": {
              "fillmode": "overlay",
              "size": 10,
              "solidity": 0.2
             }
            },
            "type": "histogram"
           }
          ],
          "histogram2d": [
           {
            "colorbar": {
             "outlinewidth": 0,
             "ticks": ""
            },
            "colorscale": [
             [
              0,
              "#0d0887"
             ],
             [
              0.1111111111111111,
              "#46039f"
             ],
             [
              0.2222222222222222,
              "#7201a8"
             ],
             [
              0.3333333333333333,
              "#9c179e"
             ],
             [
              0.4444444444444444,
              "#bd3786"
             ],
             [
              0.5555555555555556,
              "#d8576b"
             ],
             [
              0.6666666666666666,
              "#ed7953"
             ],
             [
              0.7777777777777778,
              "#fb9f3a"
             ],
             [
              0.8888888888888888,
              "#fdca26"
             ],
             [
              1,
              "#f0f921"
             ]
            ],
            "type": "histogram2d"
           }
          ],
          "histogram2dcontour": [
           {
            "colorbar": {
             "outlinewidth": 0,
             "ticks": ""
            },
            "colorscale": [
             [
              0,
              "#0d0887"
             ],
             [
              0.1111111111111111,
              "#46039f"
             ],
             [
              0.2222222222222222,
              "#7201a8"
             ],
             [
              0.3333333333333333,
              "#9c179e"
             ],
             [
              0.4444444444444444,
              "#bd3786"
             ],
             [
              0.5555555555555556,
              "#d8576b"
             ],
             [
              0.6666666666666666,
              "#ed7953"
             ],
             [
              0.7777777777777778,
              "#fb9f3a"
             ],
             [
              0.8888888888888888,
              "#fdca26"
             ],
             [
              1,
              "#f0f921"
             ]
            ],
            "type": "histogram2dcontour"
           }
          ],
          "mesh3d": [
           {
            "colorbar": {
             "outlinewidth": 0,
             "ticks": ""
            },
            "type": "mesh3d"
           }
          ],
          "parcoords": [
           {
            "line": {
             "colorbar": {
              "outlinewidth": 0,
              "ticks": ""
             }
            },
            "type": "parcoords"
           }
          ],
          "pie": [
           {
            "automargin": true,
            "type": "pie"
           }
          ],
          "scatter": [
           {
            "fillpattern": {
             "fillmode": "overlay",
             "size": 10,
             "solidity": 0.2
            },
            "type": "scatter"
           }
          ],
          "scatter3d": [
           {
            "line": {
             "colorbar": {
              "outlinewidth": 0,
              "ticks": ""
             }
            },
            "marker": {
             "colorbar": {
              "outlinewidth": 0,
              "ticks": ""
             }
            },
            "type": "scatter3d"
           }
          ],
          "scattercarpet": [
           {
            "marker": {
             "colorbar": {
              "outlinewidth": 0,
              "ticks": ""
             }
            },
            "type": "scattercarpet"
           }
          ],
          "scattergeo": [
           {
            "marker": {
             "colorbar": {
              "outlinewidth": 0,
              "ticks": ""
             }
            },
            "type": "scattergeo"
           }
          ],
          "scattergl": [
           {
            "marker": {
             "colorbar": {
              "outlinewidth": 0,
              "ticks": ""
             }
            },
            "type": "scattergl"
           }
          ],
          "scattermapbox": [
           {
            "marker": {
             "colorbar": {
              "outlinewidth": 0,
              "ticks": ""
             }
            },
            "type": "scattermapbox"
           }
          ],
          "scatterpolar": [
           {
            "marker": {
             "colorbar": {
              "outlinewidth": 0,
              "ticks": ""
             }
            },
            "type": "scatterpolar"
           }
          ],
          "scatterpolargl": [
           {
            "marker": {
             "colorbar": {
              "outlinewidth": 0,
              "ticks": ""
             }
            },
            "type": "scatterpolargl"
           }
          ],
          "scatterternary": [
           {
            "marker": {
             "colorbar": {
              "outlinewidth": 0,
              "ticks": ""
             }
            },
            "type": "scatterternary"
           }
          ],
          "surface": [
           {
            "colorbar": {
             "outlinewidth": 0,
             "ticks": ""
            },
            "colorscale": [
             [
              0,
              "#0d0887"
             ],
             [
              0.1111111111111111,
              "#46039f"
             ],
             [
              0.2222222222222222,
              "#7201a8"
             ],
             [
              0.3333333333333333,
              "#9c179e"
             ],
             [
              0.4444444444444444,
              "#bd3786"
             ],
             [
              0.5555555555555556,
              "#d8576b"
             ],
             [
              0.6666666666666666,
              "#ed7953"
             ],
             [
              0.7777777777777778,
              "#fb9f3a"
             ],
             [
              0.8888888888888888,
              "#fdca26"
             ],
             [
              1,
              "#f0f921"
             ]
            ],
            "type": "surface"
           }
          ],
          "table": [
           {
            "cells": {
             "fill": {
              "color": "#EBF0F8"
             },
             "line": {
              "color": "white"
             }
            },
            "header": {
             "fill": {
              "color": "#C8D4E3"
             },
             "line": {
              "color": "white"
             }
            },
            "type": "table"
           }
          ]
         },
         "layout": {
          "annotationdefaults": {
           "arrowcolor": "#2a3f5f",
           "arrowhead": 0,
           "arrowwidth": 1
          },
          "autotypenumbers": "strict",
          "coloraxis": {
           "colorbar": {
            "outlinewidth": 0,
            "ticks": ""
           }
          },
          "colorscale": {
           "diverging": [
            [
             0,
             "#8e0152"
            ],
            [
             0.1,
             "#c51b7d"
            ],
            [
             0.2,
             "#de77ae"
            ],
            [
             0.3,
             "#f1b6da"
            ],
            [
             0.4,
             "#fde0ef"
            ],
            [
             0.5,
             "#f7f7f7"
            ],
            [
             0.6,
             "#e6f5d0"
            ],
            [
             0.7,
             "#b8e186"
            ],
            [
             0.8,
             "#7fbc41"
            ],
            [
             0.9,
             "#4d9221"
            ],
            [
             1,
             "#276419"
            ]
           ],
           "sequential": [
            [
             0,
             "#0d0887"
            ],
            [
             0.1111111111111111,
             "#46039f"
            ],
            [
             0.2222222222222222,
             "#7201a8"
            ],
            [
             0.3333333333333333,
             "#9c179e"
            ],
            [
             0.4444444444444444,
             "#bd3786"
            ],
            [
             0.5555555555555556,
             "#d8576b"
            ],
            [
             0.6666666666666666,
             "#ed7953"
            ],
            [
             0.7777777777777778,
             "#fb9f3a"
            ],
            [
             0.8888888888888888,
             "#fdca26"
            ],
            [
             1,
             "#f0f921"
            ]
           ],
           "sequentialminus": [
            [
             0,
             "#0d0887"
            ],
            [
             0.1111111111111111,
             "#46039f"
            ],
            [
             0.2222222222222222,
             "#7201a8"
            ],
            [
             0.3333333333333333,
             "#9c179e"
            ],
            [
             0.4444444444444444,
             "#bd3786"
            ],
            [
             0.5555555555555556,
             "#d8576b"
            ],
            [
             0.6666666666666666,
             "#ed7953"
            ],
            [
             0.7777777777777778,
             "#fb9f3a"
            ],
            [
             0.8888888888888888,
             "#fdca26"
            ],
            [
             1,
             "#f0f921"
            ]
           ]
          },
          "colorway": [
           "#636efa",
           "#EF553B",
           "#00cc96",
           "#ab63fa",
           "#FFA15A",
           "#19d3f3",
           "#FF6692",
           "#B6E880",
           "#FF97FF",
           "#FECB52"
          ],
          "font": {
           "color": "#2a3f5f"
          },
          "geo": {
           "bgcolor": "white",
           "lakecolor": "white",
           "landcolor": "#E5ECF6",
           "showlakes": true,
           "showland": true,
           "subunitcolor": "white"
          },
          "hoverlabel": {
           "align": "left"
          },
          "hovermode": "closest",
          "mapbox": {
           "style": "light"
          },
          "paper_bgcolor": "white",
          "plot_bgcolor": "#E5ECF6",
          "polar": {
           "angularaxis": {
            "gridcolor": "white",
            "linecolor": "white",
            "ticks": ""
           },
           "bgcolor": "#E5ECF6",
           "radialaxis": {
            "gridcolor": "white",
            "linecolor": "white",
            "ticks": ""
           }
          },
          "scene": {
           "xaxis": {
            "backgroundcolor": "#E5ECF6",
            "gridcolor": "white",
            "gridwidth": 2,
            "linecolor": "white",
            "showbackground": true,
            "ticks": "",
            "zerolinecolor": "white"
           },
           "yaxis": {
            "backgroundcolor": "#E5ECF6",
            "gridcolor": "white",
            "gridwidth": 2,
            "linecolor": "white",
            "showbackground": true,
            "ticks": "",
            "zerolinecolor": "white"
           },
           "zaxis": {
            "backgroundcolor": "#E5ECF6",
            "gridcolor": "white",
            "gridwidth": 2,
            "linecolor": "white",
            "showbackground": true,
            "ticks": "",
            "zerolinecolor": "white"
           }
          },
          "shapedefaults": {
           "line": {
            "color": "#2a3f5f"
           }
          },
          "ternary": {
           "aaxis": {
            "gridcolor": "white",
            "linecolor": "white",
            "ticks": ""
           },
           "baxis": {
            "gridcolor": "white",
            "linecolor": "white",
            "ticks": ""
           },
           "bgcolor": "#E5ECF6",
           "caxis": {
            "gridcolor": "white",
            "linecolor": "white",
            "ticks": ""
           }
          },
          "title": {
           "x": 0.05
          },
          "xaxis": {
           "automargin": true,
           "gridcolor": "white",
           "linecolor": "white",
           "ticks": "",
           "title": {
            "standoff": 15
           },
           "zerolinecolor": "white",
           "zerolinewidth": 2
          },
          "yaxis": {
           "automargin": true,
           "gridcolor": "white",
           "linecolor": "white",
           "ticks": "",
           "title": {
            "standoff": 15
           },
           "zerolinecolor": "white",
           "zerolinewidth": 2
          }
         }
        },
        "width": 800,
        "xaxis": {
         "anchor": "y",
         "categoryarray": [
          "No Data",
          "Data"
         ],
         "categoryorder": "array",
         "domain": [
          0,
          1
         ],
         "title": {
          "text": ""
         }
        },
        "yaxis": {
         "anchor": "x",
         "domain": [
          0,
          1
         ],
         "title": {
          "text": "Count"
         }
        }
       }
      }
     },
     "metadata": {},
     "output_type": "display_data"
    }
   ],
   "source": [
    "fig = px.bar(sub_agg_df, x='Name', y='Count', color='Name', \n",
    "    color_discrete_map=name_2_color,\n",
    "    labels={'Name': ''},\n",
    "    # add count on top of the bars\n",
    "    text='Count',\n",
    "    height=300,\n",
    "    width=800,  \n",
    "    )\n",
    "\n",
    "# update the hover\n",
    "fig.update_traces(hovertemplate='Count: %{y}<extra></extra>')\n",
    "fig.show()"
   ]
  },
  {
   "cell_type": "code",
   "execution_count": 74,
   "metadata": {},
   "outputs": [
    {
     "data": {
      "text/html": [
       "<div>\n",
       "<style scoped>\n",
       "    .dataframe tbody tr th:only-of-type {\n",
       "        vertical-align: middle;\n",
       "    }\n",
       "\n",
       "    .dataframe tbody tr th {\n",
       "        vertical-align: top;\n",
       "    }\n",
       "\n",
       "    .dataframe thead th {\n",
       "        text-align: right;\n",
       "    }\n",
       "</style>\n",
       "<table border=\"1\" class=\"dataframe\">\n",
       "  <thead>\n",
       "    <tr style=\"text-align: right;\">\n",
       "      <th></th>\n",
       "      <th>Indicator</th>\n",
       "      <th>Count</th>\n",
       "      <th>Name</th>\n",
       "    </tr>\n",
       "  </thead>\n",
       "  <tbody>\n",
       "    <tr>\n",
       "      <th>0</th>\n",
       "      <td>1.0</td>\n",
       "      <td>9596990.0</td>\n",
       "      <td>Data</td>\n",
       "    </tr>\n",
       "    <tr>\n",
       "      <th>1</th>\n",
       "      <td>0.0</td>\n",
       "      <td>8297907.0</td>\n",
       "      <td>Zero Valued</td>\n",
       "    </tr>\n",
       "  </tbody>\n",
       "</table>\n",
       "</div>"
      ],
      "text/plain": [
       "   Indicator      Count         Name\n",
       "0        1.0  9596990.0         Data\n",
       "1        0.0  8297907.0  Zero Valued"
      ]
     },
     "execution_count": 74,
     "metadata": {},
     "output_type": "execute_result"
    }
   ],
   "source": [
    "sub_agg_df = C_agg_df.copy()\n",
    "# combine Indicator 3 with 2, and Indicator 0 with 1\n",
    "sub_agg_df.loc[0, 'Count'] += sub_agg_df.loc[3, 'Count']\n",
    "sub_agg_df.loc[0, 'Count'] += sub_agg_df.loc[2, 'Count']\n",
    "sub_agg_df = sub_agg_df.drop([2, 3])\n",
    "sub_agg_df = sub_agg_df.reset_index(drop=True)\n",
    "sub_agg_df"
   ]
  },
  {
   "cell_type": "code",
   "execution_count": 75,
   "metadata": {},
   "outputs": [
    {
     "data": {
      "application/vnd.plotly.v1+json": {
       "config": {
        "plotlyServerURL": "https://plot.ly"
       },
       "data": [
        {
         "alignmentgroup": "True",
         "hovertemplate": "Count: %{y}<extra></extra>",
         "legendgroup": "Data",
         "marker": {
          "color": "forestgreen",
          "pattern": {
           "shape": ""
          }
         },
         "name": "Data",
         "offsetgroup": "Data",
         "orientation": "v",
         "showlegend": true,
         "text": [
          9596990
         ],
         "textposition": "auto",
         "type": "bar",
         "x": [
          "Data"
         ],
         "xaxis": "x",
         "y": [
          9596990
         ],
         "yaxis": "y"
        },
        {
         "alignmentgroup": "True",
         "hovertemplate": "Count: %{y}<extra></extra>",
         "legendgroup": "Zero Valued",
         "marker": {
          "color": "lightgreen",
          "pattern": {
           "shape": ""
          }
         },
         "name": "Zero Valued",
         "offsetgroup": "Zero Valued",
         "orientation": "v",
         "showlegend": true,
         "text": [
          8297907
         ],
         "textposition": "auto",
         "type": "bar",
         "x": [
          "Zero Valued"
         ],
         "xaxis": "x",
         "y": [
          8297907
         ],
         "yaxis": "y"
        }
       ],
       "layout": {
        "barmode": "relative",
        "height": 300,
        "legend": {
         "title": {
          "text": ""
         },
         "tracegroupgap": 0
        },
        "margin": {
         "t": 60
        },
        "template": {
         "data": {
          "bar": [
           {
            "error_x": {
             "color": "#2a3f5f"
            },
            "error_y": {
             "color": "#2a3f5f"
            },
            "marker": {
             "line": {
              "color": "#E5ECF6",
              "width": 0.5
             },
             "pattern": {
              "fillmode": "overlay",
              "size": 10,
              "solidity": 0.2
             }
            },
            "type": "bar"
           }
          ],
          "barpolar": [
           {
            "marker": {
             "line": {
              "color": "#E5ECF6",
              "width": 0.5
             },
             "pattern": {
              "fillmode": "overlay",
              "size": 10,
              "solidity": 0.2
             }
            },
            "type": "barpolar"
           }
          ],
          "carpet": [
           {
            "aaxis": {
             "endlinecolor": "#2a3f5f",
             "gridcolor": "white",
             "linecolor": "white",
             "minorgridcolor": "white",
             "startlinecolor": "#2a3f5f"
            },
            "baxis": {
             "endlinecolor": "#2a3f5f",
             "gridcolor": "white",
             "linecolor": "white",
             "minorgridcolor": "white",
             "startlinecolor": "#2a3f5f"
            },
            "type": "carpet"
           }
          ],
          "choropleth": [
           {
            "colorbar": {
             "outlinewidth": 0,
             "ticks": ""
            },
            "type": "choropleth"
           }
          ],
          "contour": [
           {
            "colorbar": {
             "outlinewidth": 0,
             "ticks": ""
            },
            "colorscale": [
             [
              0,
              "#0d0887"
             ],
             [
              0.1111111111111111,
              "#46039f"
             ],
             [
              0.2222222222222222,
              "#7201a8"
             ],
             [
              0.3333333333333333,
              "#9c179e"
             ],
             [
              0.4444444444444444,
              "#bd3786"
             ],
             [
              0.5555555555555556,
              "#d8576b"
             ],
             [
              0.6666666666666666,
              "#ed7953"
             ],
             [
              0.7777777777777778,
              "#fb9f3a"
             ],
             [
              0.8888888888888888,
              "#fdca26"
             ],
             [
              1,
              "#f0f921"
             ]
            ],
            "type": "contour"
           }
          ],
          "contourcarpet": [
           {
            "colorbar": {
             "outlinewidth": 0,
             "ticks": ""
            },
            "type": "contourcarpet"
           }
          ],
          "heatmap": [
           {
            "colorbar": {
             "outlinewidth": 0,
             "ticks": ""
            },
            "colorscale": [
             [
              0,
              "#0d0887"
             ],
             [
              0.1111111111111111,
              "#46039f"
             ],
             [
              0.2222222222222222,
              "#7201a8"
             ],
             [
              0.3333333333333333,
              "#9c179e"
             ],
             [
              0.4444444444444444,
              "#bd3786"
             ],
             [
              0.5555555555555556,
              "#d8576b"
             ],
             [
              0.6666666666666666,
              "#ed7953"
             ],
             [
              0.7777777777777778,
              "#fb9f3a"
             ],
             [
              0.8888888888888888,
              "#fdca26"
             ],
             [
              1,
              "#f0f921"
             ]
            ],
            "type": "heatmap"
           }
          ],
          "heatmapgl": [
           {
            "colorbar": {
             "outlinewidth": 0,
             "ticks": ""
            },
            "colorscale": [
             [
              0,
              "#0d0887"
             ],
             [
              0.1111111111111111,
              "#46039f"
             ],
             [
              0.2222222222222222,
              "#7201a8"
             ],
             [
              0.3333333333333333,
              "#9c179e"
             ],
             [
              0.4444444444444444,
              "#bd3786"
             ],
             [
              0.5555555555555556,
              "#d8576b"
             ],
             [
              0.6666666666666666,
              "#ed7953"
             ],
             [
              0.7777777777777778,
              "#fb9f3a"
             ],
             [
              0.8888888888888888,
              "#fdca26"
             ],
             [
              1,
              "#f0f921"
             ]
            ],
            "type": "heatmapgl"
           }
          ],
          "histogram": [
           {
            "marker": {
             "pattern": {
              "fillmode": "overlay",
              "size": 10,
              "solidity": 0.2
             }
            },
            "type": "histogram"
           }
          ],
          "histogram2d": [
           {
            "colorbar": {
             "outlinewidth": 0,
             "ticks": ""
            },
            "colorscale": [
             [
              0,
              "#0d0887"
             ],
             [
              0.1111111111111111,
              "#46039f"
             ],
             [
              0.2222222222222222,
              "#7201a8"
             ],
             [
              0.3333333333333333,
              "#9c179e"
             ],
             [
              0.4444444444444444,
              "#bd3786"
             ],
             [
              0.5555555555555556,
              "#d8576b"
             ],
             [
              0.6666666666666666,
              "#ed7953"
             ],
             [
              0.7777777777777778,
              "#fb9f3a"
             ],
             [
              0.8888888888888888,
              "#fdca26"
             ],
             [
              1,
              "#f0f921"
             ]
            ],
            "type": "histogram2d"
           }
          ],
          "histogram2dcontour": [
           {
            "colorbar": {
             "outlinewidth": 0,
             "ticks": ""
            },
            "colorscale": [
             [
              0,
              "#0d0887"
             ],
             [
              0.1111111111111111,
              "#46039f"
             ],
             [
              0.2222222222222222,
              "#7201a8"
             ],
             [
              0.3333333333333333,
              "#9c179e"
             ],
             [
              0.4444444444444444,
              "#bd3786"
             ],
             [
              0.5555555555555556,
              "#d8576b"
             ],
             [
              0.6666666666666666,
              "#ed7953"
             ],
             [
              0.7777777777777778,
              "#fb9f3a"
             ],
             [
              0.8888888888888888,
              "#fdca26"
             ],
             [
              1,
              "#f0f921"
             ]
            ],
            "type": "histogram2dcontour"
           }
          ],
          "mesh3d": [
           {
            "colorbar": {
             "outlinewidth": 0,
             "ticks": ""
            },
            "type": "mesh3d"
           }
          ],
          "parcoords": [
           {
            "line": {
             "colorbar": {
              "outlinewidth": 0,
              "ticks": ""
             }
            },
            "type": "parcoords"
           }
          ],
          "pie": [
           {
            "automargin": true,
            "type": "pie"
           }
          ],
          "scatter": [
           {
            "fillpattern": {
             "fillmode": "overlay",
             "size": 10,
             "solidity": 0.2
            },
            "type": "scatter"
           }
          ],
          "scatter3d": [
           {
            "line": {
             "colorbar": {
              "outlinewidth": 0,
              "ticks": ""
             }
            },
            "marker": {
             "colorbar": {
              "outlinewidth": 0,
              "ticks": ""
             }
            },
            "type": "scatter3d"
           }
          ],
          "scattercarpet": [
           {
            "marker": {
             "colorbar": {
              "outlinewidth": 0,
              "ticks": ""
             }
            },
            "type": "scattercarpet"
           }
          ],
          "scattergeo": [
           {
            "marker": {
             "colorbar": {
              "outlinewidth": 0,
              "ticks": ""
             }
            },
            "type": "scattergeo"
           }
          ],
          "scattergl": [
           {
            "marker": {
             "colorbar": {
              "outlinewidth": 0,
              "ticks": ""
             }
            },
            "type": "scattergl"
           }
          ],
          "scattermapbox": [
           {
            "marker": {
             "colorbar": {
              "outlinewidth": 0,
              "ticks": ""
             }
            },
            "type": "scattermapbox"
           }
          ],
          "scatterpolar": [
           {
            "marker": {
             "colorbar": {
              "outlinewidth": 0,
              "ticks": ""
             }
            },
            "type": "scatterpolar"
           }
          ],
          "scatterpolargl": [
           {
            "marker": {
             "colorbar": {
              "outlinewidth": 0,
              "ticks": ""
             }
            },
            "type": "scatterpolargl"
           }
          ],
          "scatterternary": [
           {
            "marker": {
             "colorbar": {
              "outlinewidth": 0,
              "ticks": ""
             }
            },
            "type": "scatterternary"
           }
          ],
          "surface": [
           {
            "colorbar": {
             "outlinewidth": 0,
             "ticks": ""
            },
            "colorscale": [
             [
              0,
              "#0d0887"
             ],
             [
              0.1111111111111111,
              "#46039f"
             ],
             [
              0.2222222222222222,
              "#7201a8"
             ],
             [
              0.3333333333333333,
              "#9c179e"
             ],
             [
              0.4444444444444444,
              "#bd3786"
             ],
             [
              0.5555555555555556,
              "#d8576b"
             ],
             [
              0.6666666666666666,
              "#ed7953"
             ],
             [
              0.7777777777777778,
              "#fb9f3a"
             ],
             [
              0.8888888888888888,
              "#fdca26"
             ],
             [
              1,
              "#f0f921"
             ]
            ],
            "type": "surface"
           }
          ],
          "table": [
           {
            "cells": {
             "fill": {
              "color": "#EBF0F8"
             },
             "line": {
              "color": "white"
             }
            },
            "header": {
             "fill": {
              "color": "#C8D4E3"
             },
             "line": {
              "color": "white"
             }
            },
            "type": "table"
           }
          ]
         },
         "layout": {
          "annotationdefaults": {
           "arrowcolor": "#2a3f5f",
           "arrowhead": 0,
           "arrowwidth": 1
          },
          "autotypenumbers": "strict",
          "coloraxis": {
           "colorbar": {
            "outlinewidth": 0,
            "ticks": ""
           }
          },
          "colorscale": {
           "diverging": [
            [
             0,
             "#8e0152"
            ],
            [
             0.1,
             "#c51b7d"
            ],
            [
             0.2,
             "#de77ae"
            ],
            [
             0.3,
             "#f1b6da"
            ],
            [
             0.4,
             "#fde0ef"
            ],
            [
             0.5,
             "#f7f7f7"
            ],
            [
             0.6,
             "#e6f5d0"
            ],
            [
             0.7,
             "#b8e186"
            ],
            [
             0.8,
             "#7fbc41"
            ],
            [
             0.9,
             "#4d9221"
            ],
            [
             1,
             "#276419"
            ]
           ],
           "sequential": [
            [
             0,
             "#0d0887"
            ],
            [
             0.1111111111111111,
             "#46039f"
            ],
            [
             0.2222222222222222,
             "#7201a8"
            ],
            [
             0.3333333333333333,
             "#9c179e"
            ],
            [
             0.4444444444444444,
             "#bd3786"
            ],
            [
             0.5555555555555556,
             "#d8576b"
            ],
            [
             0.6666666666666666,
             "#ed7953"
            ],
            [
             0.7777777777777778,
             "#fb9f3a"
            ],
            [
             0.8888888888888888,
             "#fdca26"
            ],
            [
             1,
             "#f0f921"
            ]
           ],
           "sequentialminus": [
            [
             0,
             "#0d0887"
            ],
            [
             0.1111111111111111,
             "#46039f"
            ],
            [
             0.2222222222222222,
             "#7201a8"
            ],
            [
             0.3333333333333333,
             "#9c179e"
            ],
            [
             0.4444444444444444,
             "#bd3786"
            ],
            [
             0.5555555555555556,
             "#d8576b"
            ],
            [
             0.6666666666666666,
             "#ed7953"
            ],
            [
             0.7777777777777778,
             "#fb9f3a"
            ],
            [
             0.8888888888888888,
             "#fdca26"
            ],
            [
             1,
             "#f0f921"
            ]
           ]
          },
          "colorway": [
           "#636efa",
           "#EF553B",
           "#00cc96",
           "#ab63fa",
           "#FFA15A",
           "#19d3f3",
           "#FF6692",
           "#B6E880",
           "#FF97FF",
           "#FECB52"
          ],
          "font": {
           "color": "#2a3f5f"
          },
          "geo": {
           "bgcolor": "white",
           "lakecolor": "white",
           "landcolor": "#E5ECF6",
           "showlakes": true,
           "showland": true,
           "subunitcolor": "white"
          },
          "hoverlabel": {
           "align": "left"
          },
          "hovermode": "closest",
          "mapbox": {
           "style": "light"
          },
          "paper_bgcolor": "white",
          "plot_bgcolor": "#E5ECF6",
          "polar": {
           "angularaxis": {
            "gridcolor": "white",
            "linecolor": "white",
            "ticks": ""
           },
           "bgcolor": "#E5ECF6",
           "radialaxis": {
            "gridcolor": "white",
            "linecolor": "white",
            "ticks": ""
           }
          },
          "scene": {
           "xaxis": {
            "backgroundcolor": "#E5ECF6",
            "gridcolor": "white",
            "gridwidth": 2,
            "linecolor": "white",
            "showbackground": true,
            "ticks": "",
            "zerolinecolor": "white"
           },
           "yaxis": {
            "backgroundcolor": "#E5ECF6",
            "gridcolor": "white",
            "gridwidth": 2,
            "linecolor": "white",
            "showbackground": true,
            "ticks": "",
            "zerolinecolor": "white"
           },
           "zaxis": {
            "backgroundcolor": "#E5ECF6",
            "gridcolor": "white",
            "gridwidth": 2,
            "linecolor": "white",
            "showbackground": true,
            "ticks": "",
            "zerolinecolor": "white"
           }
          },
          "shapedefaults": {
           "line": {
            "color": "#2a3f5f"
           }
          },
          "ternary": {
           "aaxis": {
            "gridcolor": "white",
            "linecolor": "white",
            "ticks": ""
           },
           "baxis": {
            "gridcolor": "white",
            "linecolor": "white",
            "ticks": ""
           },
           "bgcolor": "#E5ECF6",
           "caxis": {
            "gridcolor": "white",
            "linecolor": "white",
            "ticks": ""
           }
          },
          "title": {
           "x": 0.05
          },
          "xaxis": {
           "automargin": true,
           "gridcolor": "white",
           "linecolor": "white",
           "ticks": "",
           "title": {
            "standoff": 15
           },
           "zerolinecolor": "white",
           "zerolinewidth": 2
          },
          "yaxis": {
           "automargin": true,
           "gridcolor": "white",
           "linecolor": "white",
           "ticks": "",
           "title": {
            "standoff": 15
           },
           "zerolinecolor": "white",
           "zerolinewidth": 2
          }
         }
        },
        "width": 800,
        "xaxis": {
         "anchor": "y",
         "categoryarray": [
          "Data",
          "Zero Valued"
         ],
         "categoryorder": "array",
         "domain": [
          0,
          1
         ],
         "title": {
          "text": ""
         }
        },
        "yaxis": {
         "anchor": "x",
         "domain": [
          0,
          1
         ],
         "title": {
          "text": "Count"
         }
        }
       }
      }
     },
     "metadata": {},
     "output_type": "display_data"
    }
   ],
   "source": [
    "fig = px.bar(sub_agg_df, x='Name', y='Count', color='Name', \n",
    "    color_discrete_map=name_2_color,\n",
    "    labels={'Name': ''},\n",
    "    # add count on top of the bars\n",
    "    text='Count',\n",
    "    height=300,\n",
    "    width=800,  \n",
    "    )\n",
    "\n",
    "# update the hover\n",
    "fig.update_traces(hovertemplate='Count: %{y}<extra></extra>')\n",
    "fig.show()"
   ]
  },
  {
   "cell_type": "code",
   "execution_count": 53,
   "metadata": {},
   "outputs": [
    {
     "data": {
      "application/vnd.plotly.v1+json": {
       "config": {
        "plotlyServerURL": "https://plot.ly"
       },
       "data": [
        {
         "hovertemplate": "%{y:.2f}",
         "marker": {
          "color": "linen"
         },
         "name": "No Data",
         "type": "bar",
         "x": [
          "5425",
          "5427",
          "G80F11B_Level1",
          "G80F11B_Level2",
          "G80F66Y_Level1",
          "G80F66Y_Level2",
          "G80F13P_LevelPS",
          "G73F010",
          "G72F040",
          "G71F05R_LevelInlet",
          "G71F05R_LevelBasin",
          "G71F05R_position",
          "G71F04R_Level1",
          "G71F04R_Level2",
          "G71F06R_LevelInlet",
          "G71F68Y_LevelPS",
          "G71F68Yp1"
         ],
         "y": [
          0,
          0,
          425536,
          425536,
          425532,
          425532,
          0,
          653760,
          998798,
          13638,
          13638,
          13638,
          13318,
          13318,
          13638,
          14062,
          14099
         ]
        },
        {
         "hovertemplate": "%{y:.2f}",
         "marker": {
          "color": "forestgreen"
         },
         "name": "Data",
         "type": "bar",
         "x": [
          "5425",
          "5427",
          "G80F11B_Level1",
          "G80F11B_Level2",
          "G80F66Y_Level1",
          "G80F66Y_Level2",
          "G80F13P_LevelPS",
          "G73F010",
          "G72F040",
          "G71F05R_LevelInlet",
          "G71F05R_LevelBasin",
          "G71F05R_position",
          "G71F04R_Level1",
          "G71F04R_Level2",
          "G71F06R_LevelInlet",
          "G71F68Y_LevelPS",
          "G71F68Yp1"
         ],
         "y": [
          61636,
          67204,
          409455,
          516874,
          625461,
          625317,
          1050965,
          397771,
          53740,
          1034666,
          274265,
          912403,
          611464,
          844410,
          1034694,
          1036527,
          40138
         ]
        },
        {
         "hovertemplate": "%{y:.2f}",
         "marker": {
          "color": "lightgreen"
         },
         "name": "Zero Valued",
         "type": "bar",
         "x": [
          "5425",
          "5427",
          "G80F11B_Level1",
          "G80F11B_Level2",
          "G80F66Y_Level1",
          "G80F66Y_Level2",
          "G80F13P_LevelPS",
          "G73F010",
          "G72F040",
          "G71F05R_LevelInlet",
          "G71F05R_LevelBasin",
          "G71F05R_position",
          "G71F04R_Level1",
          "G71F04R_Level2",
          "G71F06R_LevelInlet",
          "G71F68Y_LevelPS",
          "G71F68Yp1"
         ],
         "y": [
          991005,
          985437,
          217650,
          110231,
          1614,
          1755,
          1629,
          1107,
          0,
          1,
          763409,
          126600,
          1,
          1,
          1,
          1909,
          997881
         ]
        },
        {
         "hovertemplate": "%{y:.2f}",
         "marker": {
          "color": "firebrick"
         },
         "name": "Error",
         "type": "bar",
         "x": [
          "5425",
          "5427",
          "G80F11B_Level1",
          "G80F11B_Level2",
          "G80F66Y_Level1",
          "G80F66Y_Level2",
          "G80F13P_LevelPS",
          "G73F010",
          "G72F040",
          "G71F05R_LevelInlet",
          "G71F05R_LevelBasin",
          "G71F05R_position",
          "G71F04R_Level1",
          "G71F04R_Level2",
          "G71F06R_LevelInlet",
          "G71F68Y_LevelPS",
          "G71F68Yp1"
         ],
         "y": [
          0,
          0,
          0,
          0,
          34,
          37,
          47,
          3,
          103,
          4336,
          1329,
          0,
          427858,
          194912,
          4308,
          143,
          523
         ]
        }
       ],
       "layout": {
        "barnorm": "percent",
        "height": 400,
        "legend": {
         "traceorder": "normal"
        },
        "template": {
         "data": {
          "bar": [
           {
            "error_x": {
             "color": "#2a3f5f"
            },
            "error_y": {
             "color": "#2a3f5f"
            },
            "marker": {
             "line": {
              "color": "#E5ECF6",
              "width": 0.5
             },
             "pattern": {
              "fillmode": "overlay",
              "size": 10,
              "solidity": 0.2
             }
            },
            "type": "bar"
           }
          ],
          "barpolar": [
           {
            "marker": {
             "line": {
              "color": "#E5ECF6",
              "width": 0.5
             },
             "pattern": {
              "fillmode": "overlay",
              "size": 10,
              "solidity": 0.2
             }
            },
            "type": "barpolar"
           }
          ],
          "carpet": [
           {
            "aaxis": {
             "endlinecolor": "#2a3f5f",
             "gridcolor": "white",
             "linecolor": "white",
             "minorgridcolor": "white",
             "startlinecolor": "#2a3f5f"
            },
            "baxis": {
             "endlinecolor": "#2a3f5f",
             "gridcolor": "white",
             "linecolor": "white",
             "minorgridcolor": "white",
             "startlinecolor": "#2a3f5f"
            },
            "type": "carpet"
           }
          ],
          "choropleth": [
           {
            "colorbar": {
             "outlinewidth": 0,
             "ticks": ""
            },
            "type": "choropleth"
           }
          ],
          "contour": [
           {
            "colorbar": {
             "outlinewidth": 0,
             "ticks": ""
            },
            "colorscale": [
             [
              0,
              "#0d0887"
             ],
             [
              0.1111111111111111,
              "#46039f"
             ],
             [
              0.2222222222222222,
              "#7201a8"
             ],
             [
              0.3333333333333333,
              "#9c179e"
             ],
             [
              0.4444444444444444,
              "#bd3786"
             ],
             [
              0.5555555555555556,
              "#d8576b"
             ],
             [
              0.6666666666666666,
              "#ed7953"
             ],
             [
              0.7777777777777778,
              "#fb9f3a"
             ],
             [
              0.8888888888888888,
              "#fdca26"
             ],
             [
              1,
              "#f0f921"
             ]
            ],
            "type": "contour"
           }
          ],
          "contourcarpet": [
           {
            "colorbar": {
             "outlinewidth": 0,
             "ticks": ""
            },
            "type": "contourcarpet"
           }
          ],
          "heatmap": [
           {
            "colorbar": {
             "outlinewidth": 0,
             "ticks": ""
            },
            "colorscale": [
             [
              0,
              "#0d0887"
             ],
             [
              0.1111111111111111,
              "#46039f"
             ],
             [
              0.2222222222222222,
              "#7201a8"
             ],
             [
              0.3333333333333333,
              "#9c179e"
             ],
             [
              0.4444444444444444,
              "#bd3786"
             ],
             [
              0.5555555555555556,
              "#d8576b"
             ],
             [
              0.6666666666666666,
              "#ed7953"
             ],
             [
              0.7777777777777778,
              "#fb9f3a"
             ],
             [
              0.8888888888888888,
              "#fdca26"
             ],
             [
              1,
              "#f0f921"
             ]
            ],
            "type": "heatmap"
           }
          ],
          "heatmapgl": [
           {
            "colorbar": {
             "outlinewidth": 0,
             "ticks": ""
            },
            "colorscale": [
             [
              0,
              "#0d0887"
             ],
             [
              0.1111111111111111,
              "#46039f"
             ],
             [
              0.2222222222222222,
              "#7201a8"
             ],
             [
              0.3333333333333333,
              "#9c179e"
             ],
             [
              0.4444444444444444,
              "#bd3786"
             ],
             [
              0.5555555555555556,
              "#d8576b"
             ],
             [
              0.6666666666666666,
              "#ed7953"
             ],
             [
              0.7777777777777778,
              "#fb9f3a"
             ],
             [
              0.8888888888888888,
              "#fdca26"
             ],
             [
              1,
              "#f0f921"
             ]
            ],
            "type": "heatmapgl"
           }
          ],
          "histogram": [
           {
            "marker": {
             "pattern": {
              "fillmode": "overlay",
              "size": 10,
              "solidity": 0.2
             }
            },
            "type": "histogram"
           }
          ],
          "histogram2d": [
           {
            "colorbar": {
             "outlinewidth": 0,
             "ticks": ""
            },
            "colorscale": [
             [
              0,
              "#0d0887"
             ],
             [
              0.1111111111111111,
              "#46039f"
             ],
             [
              0.2222222222222222,
              "#7201a8"
             ],
             [
              0.3333333333333333,
              "#9c179e"
             ],
             [
              0.4444444444444444,
              "#bd3786"
             ],
             [
              0.5555555555555556,
              "#d8576b"
             ],
             [
              0.6666666666666666,
              "#ed7953"
             ],
             [
              0.7777777777777778,
              "#fb9f3a"
             ],
             [
              0.8888888888888888,
              "#fdca26"
             ],
             [
              1,
              "#f0f921"
             ]
            ],
            "type": "histogram2d"
           }
          ],
          "histogram2dcontour": [
           {
            "colorbar": {
             "outlinewidth": 0,
             "ticks": ""
            },
            "colorscale": [
             [
              0,
              "#0d0887"
             ],
             [
              0.1111111111111111,
              "#46039f"
             ],
             [
              0.2222222222222222,
              "#7201a8"
             ],
             [
              0.3333333333333333,
              "#9c179e"
             ],
             [
              0.4444444444444444,
              "#bd3786"
             ],
             [
              0.5555555555555556,
              "#d8576b"
             ],
             [
              0.6666666666666666,
              "#ed7953"
             ],
             [
              0.7777777777777778,
              "#fb9f3a"
             ],
             [
              0.8888888888888888,
              "#fdca26"
             ],
             [
              1,
              "#f0f921"
             ]
            ],
            "type": "histogram2dcontour"
           }
          ],
          "mesh3d": [
           {
            "colorbar": {
             "outlinewidth": 0,
             "ticks": ""
            },
            "type": "mesh3d"
           }
          ],
          "parcoords": [
           {
            "line": {
             "colorbar": {
              "outlinewidth": 0,
              "ticks": ""
             }
            },
            "type": "parcoords"
           }
          ],
          "pie": [
           {
            "automargin": true,
            "type": "pie"
           }
          ],
          "scatter": [
           {
            "fillpattern": {
             "fillmode": "overlay",
             "size": 10,
             "solidity": 0.2
            },
            "type": "scatter"
           }
          ],
          "scatter3d": [
           {
            "line": {
             "colorbar": {
              "outlinewidth": 0,
              "ticks": ""
             }
            },
            "marker": {
             "colorbar": {
              "outlinewidth": 0,
              "ticks": ""
             }
            },
            "type": "scatter3d"
           }
          ],
          "scattercarpet": [
           {
            "marker": {
             "colorbar": {
              "outlinewidth": 0,
              "ticks": ""
             }
            },
            "type": "scattercarpet"
           }
          ],
          "scattergeo": [
           {
            "marker": {
             "colorbar": {
              "outlinewidth": 0,
              "ticks": ""
             }
            },
            "type": "scattergeo"
           }
          ],
          "scattergl": [
           {
            "marker": {
             "colorbar": {
              "outlinewidth": 0,
              "ticks": ""
             }
            },
            "type": "scattergl"
           }
          ],
          "scattermapbox": [
           {
            "marker": {
             "colorbar": {
              "outlinewidth": 0,
              "ticks": ""
             }
            },
            "type": "scattermapbox"
           }
          ],
          "scatterpolar": [
           {
            "marker": {
             "colorbar": {
              "outlinewidth": 0,
              "ticks": ""
             }
            },
            "type": "scatterpolar"
           }
          ],
          "scatterpolargl": [
           {
            "marker": {
             "colorbar": {
              "outlinewidth": 0,
              "ticks": ""
             }
            },
            "type": "scatterpolargl"
           }
          ],
          "scatterternary": [
           {
            "marker": {
             "colorbar": {
              "outlinewidth": 0,
              "ticks": ""
             }
            },
            "type": "scatterternary"
           }
          ],
          "surface": [
           {
            "colorbar": {
             "outlinewidth": 0,
             "ticks": ""
            },
            "colorscale": [
             [
              0,
              "#0d0887"
             ],
             [
              0.1111111111111111,
              "#46039f"
             ],
             [
              0.2222222222222222,
              "#7201a8"
             ],
             [
              0.3333333333333333,
              "#9c179e"
             ],
             [
              0.4444444444444444,
              "#bd3786"
             ],
             [
              0.5555555555555556,
              "#d8576b"
             ],
             [
              0.6666666666666666,
              "#ed7953"
             ],
             [
              0.7777777777777778,
              "#fb9f3a"
             ],
             [
              0.8888888888888888,
              "#fdca26"
             ],
             [
              1,
              "#f0f921"
             ]
            ],
            "type": "surface"
           }
          ],
          "table": [
           {
            "cells": {
             "fill": {
              "color": "#EBF0F8"
             },
             "line": {
              "color": "white"
             }
            },
            "header": {
             "fill": {
              "color": "#C8D4E3"
             },
             "line": {
              "color": "white"
             }
            },
            "type": "table"
           }
          ]
         },
         "layout": {
          "annotationdefaults": {
           "arrowcolor": "#2a3f5f",
           "arrowhead": 0,
           "arrowwidth": 1
          },
          "autotypenumbers": "strict",
          "coloraxis": {
           "colorbar": {
            "outlinewidth": 0,
            "ticks": ""
           }
          },
          "colorscale": {
           "diverging": [
            [
             0,
             "#8e0152"
            ],
            [
             0.1,
             "#c51b7d"
            ],
            [
             0.2,
             "#de77ae"
            ],
            [
             0.3,
             "#f1b6da"
            ],
            [
             0.4,
             "#fde0ef"
            ],
            [
             0.5,
             "#f7f7f7"
            ],
            [
             0.6,
             "#e6f5d0"
            ],
            [
             0.7,
             "#b8e186"
            ],
            [
             0.8,
             "#7fbc41"
            ],
            [
             0.9,
             "#4d9221"
            ],
            [
             1,
             "#276419"
            ]
           ],
           "sequential": [
            [
             0,
             "#0d0887"
            ],
            [
             0.1111111111111111,
             "#46039f"
            ],
            [
             0.2222222222222222,
             "#7201a8"
            ],
            [
             0.3333333333333333,
             "#9c179e"
            ],
            [
             0.4444444444444444,
             "#bd3786"
            ],
            [
             0.5555555555555556,
             "#d8576b"
            ],
            [
             0.6666666666666666,
             "#ed7953"
            ],
            [
             0.7777777777777778,
             "#fb9f3a"
            ],
            [
             0.8888888888888888,
             "#fdca26"
            ],
            [
             1,
             "#f0f921"
            ]
           ],
           "sequentialminus": [
            [
             0,
             "#0d0887"
            ],
            [
             0.1111111111111111,
             "#46039f"
            ],
            [
             0.2222222222222222,
             "#7201a8"
            ],
            [
             0.3333333333333333,
             "#9c179e"
            ],
            [
             0.4444444444444444,
             "#bd3786"
            ],
            [
             0.5555555555555556,
             "#d8576b"
            ],
            [
             0.6666666666666666,
             "#ed7953"
            ],
            [
             0.7777777777777778,
             "#fb9f3a"
            ],
            [
             0.8888888888888888,
             "#fdca26"
            ],
            [
             1,
             "#f0f921"
            ]
           ]
          },
          "colorway": [
           "#636efa",
           "#EF553B",
           "#00cc96",
           "#ab63fa",
           "#FFA15A",
           "#19d3f3",
           "#FF6692",
           "#B6E880",
           "#FF97FF",
           "#FECB52"
          ],
          "font": {
           "color": "#2a3f5f"
          },
          "geo": {
           "bgcolor": "white",
           "lakecolor": "white",
           "landcolor": "#E5ECF6",
           "showlakes": true,
           "showland": true,
           "subunitcolor": "white"
          },
          "hoverlabel": {
           "align": "left"
          },
          "hovermode": "closest",
          "mapbox": {
           "style": "light"
          },
          "paper_bgcolor": "white",
          "plot_bgcolor": "#E5ECF6",
          "polar": {
           "angularaxis": {
            "gridcolor": "white",
            "linecolor": "white",
            "ticks": ""
           },
           "bgcolor": "#E5ECF6",
           "radialaxis": {
            "gridcolor": "white",
            "linecolor": "white",
            "ticks": ""
           }
          },
          "scene": {
           "xaxis": {
            "backgroundcolor": "#E5ECF6",
            "gridcolor": "white",
            "gridwidth": 2,
            "linecolor": "white",
            "showbackground": true,
            "ticks": "",
            "zerolinecolor": "white"
           },
           "yaxis": {
            "backgroundcolor": "#E5ECF6",
            "gridcolor": "white",
            "gridwidth": 2,
            "linecolor": "white",
            "showbackground": true,
            "ticks": "",
            "zerolinecolor": "white"
           },
           "zaxis": {
            "backgroundcolor": "#E5ECF6",
            "gridcolor": "white",
            "gridwidth": 2,
            "linecolor": "white",
            "showbackground": true,
            "ticks": "",
            "zerolinecolor": "white"
           }
          },
          "shapedefaults": {
           "line": {
            "color": "#2a3f5f"
           }
          },
          "ternary": {
           "aaxis": {
            "gridcolor": "white",
            "linecolor": "white",
            "ticks": ""
           },
           "baxis": {
            "gridcolor": "white",
            "linecolor": "white",
            "ticks": ""
           },
           "bgcolor": "#E5ECF6",
           "caxis": {
            "gridcolor": "white",
            "linecolor": "white",
            "ticks": ""
           }
          },
          "title": {
           "x": 0.05
          },
          "xaxis": {
           "automargin": true,
           "gridcolor": "white",
           "linecolor": "white",
           "ticks": "",
           "title": {
            "standoff": 15
           },
           "zerolinecolor": "white",
           "zerolinewidth": 2
          },
          "yaxis": {
           "automargin": true,
           "gridcolor": "white",
           "linecolor": "white",
           "ticks": "",
           "title": {
            "standoff": 15
           },
           "zerolinecolor": "white",
           "zerolinewidth": 2
          }
         }
        },
        "width": 1000,
        "xaxis": {
         "tickangle": -45
        }
       }
      }
     },
     "metadata": {},
     "output_type": "display_data"
    }
   ],
   "source": [
    "\n",
    "# stacked plotly bar chart\n",
    "fig = go.Figure()\n",
    "data = []\n",
    "#for name in list(indicator_metadata.keys())[::-1]:\n",
    "for name in indicator_metadata:\n",
    "    i = indicator_metadata[name]['value']\n",
    "    row = I_agg_df.loc[i].values\n",
    "    data.append(go.Bar(\n",
    "        x=I_agg_df.columns,\n",
    "        y=row,\n",
    "        name=indicator_2_name[i],\n",
    "        marker_color=indicator_2_color[i],\n",
    "        # add hoverinfo, percentage of the total\n",
    "        #hoverinfo='y', \n",
    "        hovertemplate='%{y:.2f}',\n",
    "        ))\n",
    "\n",
    "fig.add_traces(data)\n",
    "\n",
    "fig.update_layout(\n",
    "    #barmode='stack', \n",
    "    xaxis_tickangle=-45,\n",
    "    height=400, \n",
    "    width=1000,\n",
    "    barnorm='percent',\n",
    "    legend=dict(traceorder='normal'),  # Reverse the order of the legend items\n",
    "\n",
    ")\n",
    "fig.show()\n",
    "\n"
   ]
  },
  {
   "cell_type": "code",
   "execution_count": 51,
   "metadata": {},
   "outputs": [
    {
     "data": {
      "application/vnd.plotly.v1+json": {
       "config": {
        "plotlyServerURL": "https://plot.ly"
       },
       "data": [
        {
         "hoverinfo": "y",
         "hovertemplate": "%{y:.2f}%",
         "marker": {
          "color": "linen"
         },
         "name": "No Data",
         "type": "bar",
         "x": [
          "5425",
          "5427",
          "G80F11B_Level1",
          "G80F11B_Level2",
          "G80F66Y_Level1",
          "G80F66Y_Level2",
          "G80F13P_LevelPS",
          "G73F010",
          "G72F040",
          "G71F05R_LevelInlet",
          "G71F05R_LevelBasin",
          "G71F05R_position",
          "G71F04R_Level1",
          "G71F04R_Level2",
          "G71F06R_LevelInlet",
          "G71F68Y_LevelPS",
          "G71F68Yp1"
         ],
         "y": [
          0,
          0,
          425536,
          425536,
          425532,
          425532,
          0,
          653760,
          998798,
          13638,
          13638,
          13638,
          13318,
          13318,
          13638,
          14062,
          14099
         ]
        },
        {
         "hoverinfo": "y",
         "hovertemplate": "%{y:.2f}%",
         "marker": {
          "color": "forestgreen"
         },
         "name": "Data",
         "type": "bar",
         "x": [
          "5425",
          "5427",
          "G80F11B_Level1",
          "G80F11B_Level2",
          "G80F66Y_Level1",
          "G80F66Y_Level2",
          "G80F13P_LevelPS",
          "G73F010",
          "G72F040",
          "G71F05R_LevelInlet",
          "G71F05R_LevelBasin",
          "G71F05R_position",
          "G71F04R_Level1",
          "G71F04R_Level2",
          "G71F06R_LevelInlet",
          "G71F68Y_LevelPS",
          "G71F68Yp1"
         ],
         "y": [
          61636,
          67204,
          409455,
          516874,
          625461,
          625317,
          1050965,
          397771,
          53740,
          1034666,
          274265,
          912403,
          611464,
          844410,
          1034694,
          1036527,
          40138
         ]
        },
        {
         "hoverinfo": "y",
         "hovertemplate": "%{y:.2f}%",
         "marker": {
          "color": "lightgreen"
         },
         "name": "Zero Valued",
         "type": "bar",
         "x": [
          "5425",
          "5427",
          "G80F11B_Level1",
          "G80F11B_Level2",
          "G80F66Y_Level1",
          "G80F66Y_Level2",
          "G80F13P_LevelPS",
          "G73F010",
          "G72F040",
          "G71F05R_LevelInlet",
          "G71F05R_LevelBasin",
          "G71F05R_position",
          "G71F04R_Level1",
          "G71F04R_Level2",
          "G71F06R_LevelInlet",
          "G71F68Y_LevelPS",
          "G71F68Yp1"
         ],
         "y": [
          991005,
          985437,
          217650,
          110231,
          1614,
          1755,
          1629,
          1107,
          0,
          1,
          763409,
          126600,
          1,
          1,
          1,
          1909,
          997881
         ]
        },
        {
         "hoverinfo": "y",
         "hovertemplate": "%{y:.2f}%",
         "marker": {
          "color": "firebrick"
         },
         "name": "Error",
         "type": "bar",
         "x": [
          "5425",
          "5427",
          "G80F11B_Level1",
          "G80F11B_Level2",
          "G80F66Y_Level1",
          "G80F66Y_Level2",
          "G80F13P_LevelPS",
          "G73F010",
          "G72F040",
          "G71F05R_LevelInlet",
          "G71F05R_LevelBasin",
          "G71F05R_position",
          "G71F04R_Level1",
          "G71F04R_Level2",
          "G71F06R_LevelInlet",
          "G71F68Y_LevelPS",
          "G71F68Yp1"
         ],
         "y": [
          0,
          0,
          0,
          0,
          34,
          37,
          47,
          3,
          103,
          4336,
          1329,
          0,
          427858,
          194912,
          4308,
          143,
          523
         ]
        }
       ],
       "layout": {
        "barmode": "stack",
        "barnorm": "percent",
        "height": 400,
        "legend": {
         "traceorder": "normal"
        },
        "template": {
         "data": {
          "bar": [
           {
            "error_x": {
             "color": "#2a3f5f"
            },
            "error_y": {
             "color": "#2a3f5f"
            },
            "marker": {
             "line": {
              "color": "#E5ECF6",
              "width": 0.5
             },
             "pattern": {
              "fillmode": "overlay",
              "size": 10,
              "solidity": 0.2
             }
            },
            "type": "bar"
           }
          ],
          "barpolar": [
           {
            "marker": {
             "line": {
              "color": "#E5ECF6",
              "width": 0.5
             },
             "pattern": {
              "fillmode": "overlay",
              "size": 10,
              "solidity": 0.2
             }
            },
            "type": "barpolar"
           }
          ],
          "carpet": [
           {
            "aaxis": {
             "endlinecolor": "#2a3f5f",
             "gridcolor": "white",
             "linecolor": "white",
             "minorgridcolor": "white",
             "startlinecolor": "#2a3f5f"
            },
            "baxis": {
             "endlinecolor": "#2a3f5f",
             "gridcolor": "white",
             "linecolor": "white",
             "minorgridcolor": "white",
             "startlinecolor": "#2a3f5f"
            },
            "type": "carpet"
           }
          ],
          "choropleth": [
           {
            "colorbar": {
             "outlinewidth": 0,
             "ticks": ""
            },
            "type": "choropleth"
           }
          ],
          "contour": [
           {
            "colorbar": {
             "outlinewidth": 0,
             "ticks": ""
            },
            "colorscale": [
             [
              0,
              "#0d0887"
             ],
             [
              0.1111111111111111,
              "#46039f"
             ],
             [
              0.2222222222222222,
              "#7201a8"
             ],
             [
              0.3333333333333333,
              "#9c179e"
             ],
             [
              0.4444444444444444,
              "#bd3786"
             ],
             [
              0.5555555555555556,
              "#d8576b"
             ],
             [
              0.6666666666666666,
              "#ed7953"
             ],
             [
              0.7777777777777778,
              "#fb9f3a"
             ],
             [
              0.8888888888888888,
              "#fdca26"
             ],
             [
              1,
              "#f0f921"
             ]
            ],
            "type": "contour"
           }
          ],
          "contourcarpet": [
           {
            "colorbar": {
             "outlinewidth": 0,
             "ticks": ""
            },
            "type": "contourcarpet"
           }
          ],
          "heatmap": [
           {
            "colorbar": {
             "outlinewidth": 0,
             "ticks": ""
            },
            "colorscale": [
             [
              0,
              "#0d0887"
             ],
             [
              0.1111111111111111,
              "#46039f"
             ],
             [
              0.2222222222222222,
              "#7201a8"
             ],
             [
              0.3333333333333333,
              "#9c179e"
             ],
             [
              0.4444444444444444,
              "#bd3786"
             ],
             [
              0.5555555555555556,
              "#d8576b"
             ],
             [
              0.6666666666666666,
              "#ed7953"
             ],
             [
              0.7777777777777778,
              "#fb9f3a"
             ],
             [
              0.8888888888888888,
              "#fdca26"
             ],
             [
              1,
              "#f0f921"
             ]
            ],
            "type": "heatmap"
           }
          ],
          "heatmapgl": [
           {
            "colorbar": {
             "outlinewidth": 0,
             "ticks": ""
            },
            "colorscale": [
             [
              0,
              "#0d0887"
             ],
             [
              0.1111111111111111,
              "#46039f"
             ],
             [
              0.2222222222222222,
              "#7201a8"
             ],
             [
              0.3333333333333333,
              "#9c179e"
             ],
             [
              0.4444444444444444,
              "#bd3786"
             ],
             [
              0.5555555555555556,
              "#d8576b"
             ],
             [
              0.6666666666666666,
              "#ed7953"
             ],
             [
              0.7777777777777778,
              "#fb9f3a"
             ],
             [
              0.8888888888888888,
              "#fdca26"
             ],
             [
              1,
              "#f0f921"
             ]
            ],
            "type": "heatmapgl"
           }
          ],
          "histogram": [
           {
            "marker": {
             "pattern": {
              "fillmode": "overlay",
              "size": 10,
              "solidity": 0.2
             }
            },
            "type": "histogram"
           }
          ],
          "histogram2d": [
           {
            "colorbar": {
             "outlinewidth": 0,
             "ticks": ""
            },
            "colorscale": [
             [
              0,
              "#0d0887"
             ],
             [
              0.1111111111111111,
              "#46039f"
             ],
             [
              0.2222222222222222,
              "#7201a8"
             ],
             [
              0.3333333333333333,
              "#9c179e"
             ],
             [
              0.4444444444444444,
              "#bd3786"
             ],
             [
              0.5555555555555556,
              "#d8576b"
             ],
             [
              0.6666666666666666,
              "#ed7953"
             ],
             [
              0.7777777777777778,
              "#fb9f3a"
             ],
             [
              0.8888888888888888,
              "#fdca26"
             ],
             [
              1,
              "#f0f921"
             ]
            ],
            "type": "histogram2d"
           }
          ],
          "histogram2dcontour": [
           {
            "colorbar": {
             "outlinewidth": 0,
             "ticks": ""
            },
            "colorscale": [
             [
              0,
              "#0d0887"
             ],
             [
              0.1111111111111111,
              "#46039f"
             ],
             [
              0.2222222222222222,
              "#7201a8"
             ],
             [
              0.3333333333333333,
              "#9c179e"
             ],
             [
              0.4444444444444444,
              "#bd3786"
             ],
             [
              0.5555555555555556,
              "#d8576b"
             ],
             [
              0.6666666666666666,
              "#ed7953"
             ],
             [
              0.7777777777777778,
              "#fb9f3a"
             ],
             [
              0.8888888888888888,
              "#fdca26"
             ],
             [
              1,
              "#f0f921"
             ]
            ],
            "type": "histogram2dcontour"
           }
          ],
          "mesh3d": [
           {
            "colorbar": {
             "outlinewidth": 0,
             "ticks": ""
            },
            "type": "mesh3d"
           }
          ],
          "parcoords": [
           {
            "line": {
             "colorbar": {
              "outlinewidth": 0,
              "ticks": ""
             }
            },
            "type": "parcoords"
           }
          ],
          "pie": [
           {
            "automargin": true,
            "type": "pie"
           }
          ],
          "scatter": [
           {
            "fillpattern": {
             "fillmode": "overlay",
             "size": 10,
             "solidity": 0.2
            },
            "type": "scatter"
           }
          ],
          "scatter3d": [
           {
            "line": {
             "colorbar": {
              "outlinewidth": 0,
              "ticks": ""
             }
            },
            "marker": {
             "colorbar": {
              "outlinewidth": 0,
              "ticks": ""
             }
            },
            "type": "scatter3d"
           }
          ],
          "scattercarpet": [
           {
            "marker": {
             "colorbar": {
              "outlinewidth": 0,
              "ticks": ""
             }
            },
            "type": "scattercarpet"
           }
          ],
          "scattergeo": [
           {
            "marker": {
             "colorbar": {
              "outlinewidth": 0,
              "ticks": ""
             }
            },
            "type": "scattergeo"
           }
          ],
          "scattergl": [
           {
            "marker": {
             "colorbar": {
              "outlinewidth": 0,
              "ticks": ""
             }
            },
            "type": "scattergl"
           }
          ],
          "scattermapbox": [
           {
            "marker": {
             "colorbar": {
              "outlinewidth": 0,
              "ticks": ""
             }
            },
            "type": "scattermapbox"
           }
          ],
          "scatterpolar": [
           {
            "marker": {
             "colorbar": {
              "outlinewidth": 0,
              "ticks": ""
             }
            },
            "type": "scatterpolar"
           }
          ],
          "scatterpolargl": [
           {
            "marker": {
             "colorbar": {
              "outlinewidth": 0,
              "ticks": ""
             }
            },
            "type": "scatterpolargl"
           }
          ],
          "scatterternary": [
           {
            "marker": {
             "colorbar": {
              "outlinewidth": 0,
              "ticks": ""
             }
            },
            "type": "scatterternary"
           }
          ],
          "surface": [
           {
            "colorbar": {
             "outlinewidth": 0,
             "ticks": ""
            },
            "colorscale": [
             [
              0,
              "#0d0887"
             ],
             [
              0.1111111111111111,
              "#46039f"
             ],
             [
              0.2222222222222222,
              "#7201a8"
             ],
             [
              0.3333333333333333,
              "#9c179e"
             ],
             [
              0.4444444444444444,
              "#bd3786"
             ],
             [
              0.5555555555555556,
              "#d8576b"
             ],
             [
              0.6666666666666666,
              "#ed7953"
             ],
             [
              0.7777777777777778,
              "#fb9f3a"
             ],
             [
              0.8888888888888888,
              "#fdca26"
             ],
             [
              1,
              "#f0f921"
             ]
            ],
            "type": "surface"
           }
          ],
          "table": [
           {
            "cells": {
             "fill": {
              "color": "#EBF0F8"
             },
             "line": {
              "color": "white"
             }
            },
            "header": {
             "fill": {
              "color": "#C8D4E3"
             },
             "line": {
              "color": "white"
             }
            },
            "type": "table"
           }
          ]
         },
         "layout": {
          "annotationdefaults": {
           "arrowcolor": "#2a3f5f",
           "arrowhead": 0,
           "arrowwidth": 1
          },
          "autotypenumbers": "strict",
          "coloraxis": {
           "colorbar": {
            "outlinewidth": 0,
            "ticks": ""
           }
          },
          "colorscale": {
           "diverging": [
            [
             0,
             "#8e0152"
            ],
            [
             0.1,
             "#c51b7d"
            ],
            [
             0.2,
             "#de77ae"
            ],
            [
             0.3,
             "#f1b6da"
            ],
            [
             0.4,
             "#fde0ef"
            ],
            [
             0.5,
             "#f7f7f7"
            ],
            [
             0.6,
             "#e6f5d0"
            ],
            [
             0.7,
             "#b8e186"
            ],
            [
             0.8,
             "#7fbc41"
            ],
            [
             0.9,
             "#4d9221"
            ],
            [
             1,
             "#276419"
            ]
           ],
           "sequential": [
            [
             0,
             "#0d0887"
            ],
            [
             0.1111111111111111,
             "#46039f"
            ],
            [
             0.2222222222222222,
             "#7201a8"
            ],
            [
             0.3333333333333333,
             "#9c179e"
            ],
            [
             0.4444444444444444,
             "#bd3786"
            ],
            [
             0.5555555555555556,
             "#d8576b"
            ],
            [
             0.6666666666666666,
             "#ed7953"
            ],
            [
             0.7777777777777778,
             "#fb9f3a"
            ],
            [
             0.8888888888888888,
             "#fdca26"
            ],
            [
             1,
             "#f0f921"
            ]
           ],
           "sequentialminus": [
            [
             0,
             "#0d0887"
            ],
            [
             0.1111111111111111,
             "#46039f"
            ],
            [
             0.2222222222222222,
             "#7201a8"
            ],
            [
             0.3333333333333333,
             "#9c179e"
            ],
            [
             0.4444444444444444,
             "#bd3786"
            ],
            [
             0.5555555555555556,
             "#d8576b"
            ],
            [
             0.6666666666666666,
             "#ed7953"
            ],
            [
             0.7777777777777778,
             "#fb9f3a"
            ],
            [
             0.8888888888888888,
             "#fdca26"
            ],
            [
             1,
             "#f0f921"
            ]
           ]
          },
          "colorway": [
           "#636efa",
           "#EF553B",
           "#00cc96",
           "#ab63fa",
           "#FFA15A",
           "#19d3f3",
           "#FF6692",
           "#B6E880",
           "#FF97FF",
           "#FECB52"
          ],
          "font": {
           "color": "#2a3f5f"
          },
          "geo": {
           "bgcolor": "white",
           "lakecolor": "white",
           "landcolor": "#E5ECF6",
           "showlakes": true,
           "showland": true,
           "subunitcolor": "white"
          },
          "hoverlabel": {
           "align": "left"
          },
          "hovermode": "closest",
          "mapbox": {
           "style": "light"
          },
          "paper_bgcolor": "white",
          "plot_bgcolor": "#E5ECF6",
          "polar": {
           "angularaxis": {
            "gridcolor": "white",
            "linecolor": "white",
            "ticks": ""
           },
           "bgcolor": "#E5ECF6",
           "radialaxis": {
            "gridcolor": "white",
            "linecolor": "white",
            "ticks": ""
           }
          },
          "scene": {
           "xaxis": {
            "backgroundcolor": "#E5ECF6",
            "gridcolor": "white",
            "gridwidth": 2,
            "linecolor": "white",
            "showbackground": true,
            "ticks": "",
            "zerolinecolor": "white"
           },
           "yaxis": {
            "backgroundcolor": "#E5ECF6",
            "gridcolor": "white",
            "gridwidth": 2,
            "linecolor": "white",
            "showbackground": true,
            "ticks": "",
            "zerolinecolor": "white"
           },
           "zaxis": {
            "backgroundcolor": "#E5ECF6",
            "gridcolor": "white",
            "gridwidth": 2,
            "linecolor": "white",
            "showbackground": true,
            "ticks": "",
            "zerolinecolor": "white"
           }
          },
          "shapedefaults": {
           "line": {
            "color": "#2a3f5f"
           }
          },
          "ternary": {
           "aaxis": {
            "gridcolor": "white",
            "linecolor": "white",
            "ticks": ""
           },
           "baxis": {
            "gridcolor": "white",
            "linecolor": "white",
            "ticks": ""
           },
           "bgcolor": "#E5ECF6",
           "caxis": {
            "gridcolor": "white",
            "linecolor": "white",
            "ticks": ""
           }
          },
          "title": {
           "x": 0.05
          },
          "xaxis": {
           "automargin": true,
           "gridcolor": "white",
           "linecolor": "white",
           "ticks": "",
           "title": {
            "standoff": 15
           },
           "zerolinecolor": "white",
           "zerolinewidth": 2
          },
          "yaxis": {
           "automargin": true,
           "gridcolor": "white",
           "linecolor": "white",
           "ticks": "",
           "title": {
            "standoff": 15
           },
           "zerolinecolor": "white",
           "zerolinewidth": 2
          }
         }
        },
        "width": 1000,
        "xaxis": {
         "tickangle": -45
        }
       }
      }
     },
     "metadata": {},
     "output_type": "display_data"
    }
   ],
   "source": [
    "\n",
    "# stacked plotly bar chart\n",
    "fig = go.Figure()\n",
    "data = []\n",
    "#for name in list(indicator_metadata.keys())[::-1]:\n",
    "for name in indicator_metadata:\n",
    "    i = indicator_metadata[name]['value']\n",
    "    row = I_agg_df.loc[i].values\n",
    "    data.append(go.Bar(\n",
    "        x=I_agg_df.columns,\n",
    "        y=row,\n",
    "        name=indicator_2_name[i],\n",
    "        marker_color=indicator_2_color[i],\n",
    "        # add hoverinfo, percentage of the total\n",
    "        hoverinfo='y', \n",
    "        hovertemplate='%{y:.2f}%',\n",
    "        ))\n",
    "\n",
    "fig.add_traces(data)\n",
    "\n",
    "fig.update_layout(\n",
    "    barmode='stack', \n",
    "    xaxis_tickangle=-45,\n",
    "    height=400, \n",
    "    width=1000,\n",
    "    barnorm='percent',\n",
    "    legend=dict(traceorder='normal'),  # Reverse the order of the legend items\n",
    "\n",
    ")\n",
    "fig.show()\n",
    "\n"
   ]
  },
  {
   "cell_type": "markdown",
   "metadata": {},
   "source": [
    "- Many different data biases across the series\n",
    "- how to effectively handle during modelling?"
   ]
  },
  {
   "cell_type": "code",
   "execution_count": 65,
   "metadata": {},
   "outputs": [
    {
     "data": {
      "text/html": [
       "<div>\n",
       "<style scoped>\n",
       "    .dataframe tbody tr th:only-of-type {\n",
       "        vertical-align: middle;\n",
       "    }\n",
       "\n",
       "    .dataframe tbody tr th {\n",
       "        vertical-align: top;\n",
       "    }\n",
       "\n",
       "    .dataframe thead th {\n",
       "        text-align: right;\n",
       "    }\n",
       "</style>\n",
       "<table border=\"1\" class=\"dataframe\">\n",
       "  <thead>\n",
       "    <tr style=\"text-align: right;\">\n",
       "      <th></th>\n",
       "      <th>5425</th>\n",
       "      <th>5427</th>\n",
       "      <th>G80F11B_Level1</th>\n",
       "      <th>G80F11B_Level2</th>\n",
       "      <th>G80F66Y_Level1</th>\n",
       "      <th>G80F66Y_Level2</th>\n",
       "      <th>G80F13P_LevelPS</th>\n",
       "      <th>G73F010</th>\n",
       "      <th>G72F040</th>\n",
       "      <th>G71F05R_LevelInlet</th>\n",
       "      <th>G71F05R_LevelBasin</th>\n",
       "      <th>G71F05R_position</th>\n",
       "      <th>G71F04R_Level1</th>\n",
       "      <th>G71F04R_Level2</th>\n",
       "      <th>G71F06R_LevelInlet</th>\n",
       "      <th>G71F68Y_LevelPS</th>\n",
       "      <th>G71F68Yp1</th>\n",
       "    </tr>\n",
       "  </thead>\n",
       "  <tbody>\n",
       "    <tr>\n",
       "      <th>0.0</th>\n",
       "      <td>991005.0</td>\n",
       "      <td>985437.0</td>\n",
       "      <td>217650.0</td>\n",
       "      <td>110231.0</td>\n",
       "      <td>1614</td>\n",
       "      <td>1755</td>\n",
       "      <td>1629.0</td>\n",
       "      <td>1107</td>\n",
       "      <td>0.0</td>\n",
       "      <td>1</td>\n",
       "      <td>763409</td>\n",
       "      <td>126600.0</td>\n",
       "      <td>1</td>\n",
       "      <td>1</td>\n",
       "      <td>1</td>\n",
       "      <td>1909</td>\n",
       "      <td>997881</td>\n",
       "    </tr>\n",
       "    <tr>\n",
       "      <th>1.0</th>\n",
       "      <td>61636.0</td>\n",
       "      <td>67204.0</td>\n",
       "      <td>409455.0</td>\n",
       "      <td>516874.0</td>\n",
       "      <td>625461</td>\n",
       "      <td>625317</td>\n",
       "      <td>1050965.0</td>\n",
       "      <td>397771</td>\n",
       "      <td>53740.0</td>\n",
       "      <td>1034666</td>\n",
       "      <td>274265</td>\n",
       "      <td>912403.0</td>\n",
       "      <td>611464</td>\n",
       "      <td>844410</td>\n",
       "      <td>1034694</td>\n",
       "      <td>1036527</td>\n",
       "      <td>40138</td>\n",
       "    </tr>\n",
       "    <tr>\n",
       "      <th>2.0</th>\n",
       "      <td>0.0</td>\n",
       "      <td>0.0</td>\n",
       "      <td>425536.0</td>\n",
       "      <td>425536.0</td>\n",
       "      <td>425532</td>\n",
       "      <td>425532</td>\n",
       "      <td>0.0</td>\n",
       "      <td>653760</td>\n",
       "      <td>998798.0</td>\n",
       "      <td>13638</td>\n",
       "      <td>13638</td>\n",
       "      <td>13638.0</td>\n",
       "      <td>13318</td>\n",
       "      <td>13318</td>\n",
       "      <td>13638</td>\n",
       "      <td>14062</td>\n",
       "      <td>14099</td>\n",
       "    </tr>\n",
       "    <tr>\n",
       "      <th>3.0</th>\n",
       "      <td>0.0</td>\n",
       "      <td>0.0</td>\n",
       "      <td>0.0</td>\n",
       "      <td>0.0</td>\n",
       "      <td>34</td>\n",
       "      <td>37</td>\n",
       "      <td>47.0</td>\n",
       "      <td>3</td>\n",
       "      <td>103.0</td>\n",
       "      <td>4336</td>\n",
       "      <td>1329</td>\n",
       "      <td>0.0</td>\n",
       "      <td>427858</td>\n",
       "      <td>194912</td>\n",
       "      <td>4308</td>\n",
       "      <td>143</td>\n",
       "      <td>523</td>\n",
       "    </tr>\n",
       "  </tbody>\n",
       "</table>\n",
       "</div>"
      ],
      "text/plain": [
       "         5425      5427  G80F11B_Level1  G80F11B_Level2  G80F66Y_Level1  \\\n",
       "0.0  991005.0  985437.0        217650.0        110231.0            1614   \n",
       "1.0   61636.0   67204.0        409455.0        516874.0          625461   \n",
       "2.0       0.0       0.0        425536.0        425536.0          425532   \n",
       "3.0       0.0       0.0             0.0             0.0              34   \n",
       "\n",
       "     G80F66Y_Level2  G80F13P_LevelPS  G73F010   G72F040  G71F05R_LevelInlet  \\\n",
       "0.0            1755           1629.0     1107       0.0                   1   \n",
       "1.0          625317        1050965.0   397771   53740.0             1034666   \n",
       "2.0          425532              0.0   653760  998798.0               13638   \n",
       "3.0              37             47.0        3     103.0                4336   \n",
       "\n",
       "     G71F05R_LevelBasin  G71F05R_position  G71F04R_Level1  G71F04R_Level2  \\\n",
       "0.0              763409          126600.0               1               1   \n",
       "1.0              274265          912403.0          611464          844410   \n",
       "2.0               13638           13638.0           13318           13318   \n",
       "3.0                1329               0.0          427858          194912   \n",
       "\n",
       "     G71F06R_LevelInlet  G71F68Y_LevelPS  G71F68Yp1  \n",
       "0.0                   1             1909     997881  \n",
       "1.0             1034694          1036527      40138  \n",
       "2.0               13638            14062      14099  \n",
       "3.0                4308              143        523  "
      ]
     },
     "execution_count": 65,
     "metadata": {},
     "output_type": "execute_result"
    }
   ],
   "source": [
    "I_agg_df"
   ]
  },
  {
   "cell_type": "code",
   "execution_count": 76,
   "metadata": {},
   "outputs": [
    {
     "data": {
      "text/html": [
       "<div>\n",
       "<style scoped>\n",
       "    .dataframe tbody tr th:only-of-type {\n",
       "        vertical-align: middle;\n",
       "    }\n",
       "\n",
       "    .dataframe tbody tr th {\n",
       "        vertical-align: top;\n",
       "    }\n",
       "\n",
       "    .dataframe thead th {\n",
       "        text-align: right;\n",
       "    }\n",
       "</style>\n",
       "<table border=\"1\" class=\"dataframe\">\n",
       "  <thead>\n",
       "    <tr style=\"text-align: right;\">\n",
       "      <th></th>\n",
       "      <th>5425</th>\n",
       "      <th>5427</th>\n",
       "      <th>G80F11B_Level1</th>\n",
       "      <th>G80F11B_Level2</th>\n",
       "      <th>G80F66Y_Level1</th>\n",
       "      <th>G80F66Y_Level2</th>\n",
       "      <th>G80F13P_LevelPS</th>\n",
       "      <th>G73F010</th>\n",
       "      <th>G72F040</th>\n",
       "      <th>G71F05R_LevelInlet</th>\n",
       "      <th>G71F05R_LevelBasin</th>\n",
       "      <th>G71F05R_position</th>\n",
       "      <th>G71F04R_Level1</th>\n",
       "      <th>G71F04R_Level2</th>\n",
       "      <th>G71F06R_LevelInlet</th>\n",
       "      <th>G71F68Y_LevelPS</th>\n",
       "      <th>G71F68Yp1</th>\n",
       "    </tr>\n",
       "  </thead>\n",
       "  <tbody>\n",
       "    <tr>\n",
       "      <th>0.0</th>\n",
       "      <td>991005.0</td>\n",
       "      <td>985437.0</td>\n",
       "      <td>217650.0</td>\n",
       "      <td>110231.0</td>\n",
       "      <td>1614</td>\n",
       "      <td>1755</td>\n",
       "      <td>1629.0</td>\n",
       "      <td>1107</td>\n",
       "      <td>0.0</td>\n",
       "      <td>1</td>\n",
       "      <td>763409</td>\n",
       "      <td>126600.0</td>\n",
       "      <td>1</td>\n",
       "      <td>1</td>\n",
       "      <td>1</td>\n",
       "      <td>1909</td>\n",
       "      <td>997881</td>\n",
       "    </tr>\n",
       "    <tr>\n",
       "      <th>1.0</th>\n",
       "      <td>61636.0</td>\n",
       "      <td>67204.0</td>\n",
       "      <td>409455.0</td>\n",
       "      <td>516874.0</td>\n",
       "      <td>625461</td>\n",
       "      <td>625317</td>\n",
       "      <td>1050965.0</td>\n",
       "      <td>397771</td>\n",
       "      <td>53740.0</td>\n",
       "      <td>1034666</td>\n",
       "      <td>274265</td>\n",
       "      <td>912403.0</td>\n",
       "      <td>611464</td>\n",
       "      <td>844410</td>\n",
       "      <td>1034694</td>\n",
       "      <td>1036527</td>\n",
       "      <td>40138</td>\n",
       "    </tr>\n",
       "    <tr>\n",
       "      <th>2.0</th>\n",
       "      <td>0.0</td>\n",
       "      <td>0.0</td>\n",
       "      <td>425536.0</td>\n",
       "      <td>425536.0</td>\n",
       "      <td>425532</td>\n",
       "      <td>425532</td>\n",
       "      <td>0.0</td>\n",
       "      <td>653760</td>\n",
       "      <td>998798.0</td>\n",
       "      <td>13638</td>\n",
       "      <td>13638</td>\n",
       "      <td>13638.0</td>\n",
       "      <td>13318</td>\n",
       "      <td>13318</td>\n",
       "      <td>13638</td>\n",
       "      <td>14062</td>\n",
       "      <td>14099</td>\n",
       "    </tr>\n",
       "    <tr>\n",
       "      <th>3.0</th>\n",
       "      <td>0.0</td>\n",
       "      <td>0.0</td>\n",
       "      <td>0.0</td>\n",
       "      <td>0.0</td>\n",
       "      <td>34</td>\n",
       "      <td>37</td>\n",
       "      <td>47.0</td>\n",
       "      <td>3</td>\n",
       "      <td>103.0</td>\n",
       "      <td>4336</td>\n",
       "      <td>1329</td>\n",
       "      <td>0.0</td>\n",
       "      <td>427858</td>\n",
       "      <td>194912</td>\n",
       "      <td>4308</td>\n",
       "      <td>143</td>\n",
       "      <td>523</td>\n",
       "    </tr>\n",
       "  </tbody>\n",
       "</table>\n",
       "</div>"
      ],
      "text/plain": [
       "         5425      5427  G80F11B_Level1  G80F11B_Level2  G80F66Y_Level1  \\\n",
       "0.0  991005.0  985437.0        217650.0        110231.0            1614   \n",
       "1.0   61636.0   67204.0        409455.0        516874.0          625461   \n",
       "2.0       0.0       0.0        425536.0        425536.0          425532   \n",
       "3.0       0.0       0.0             0.0             0.0              34   \n",
       "\n",
       "     G80F66Y_Level2  G80F13P_LevelPS  G73F010   G72F040  G71F05R_LevelInlet  \\\n",
       "0.0            1755           1629.0     1107       0.0                   1   \n",
       "1.0          625317        1050965.0   397771   53740.0             1034666   \n",
       "2.0          425532              0.0   653760  998798.0               13638   \n",
       "3.0              37             47.0        3     103.0                4336   \n",
       "\n",
       "     G71F05R_LevelBasin  G71F05R_position  G71F04R_Level1  G71F04R_Level2  \\\n",
       "0.0              763409          126600.0               1               1   \n",
       "1.0              274265          912403.0          611464          844410   \n",
       "2.0               13638           13638.0           13318           13318   \n",
       "3.0                1329               0.0          427858          194912   \n",
       "\n",
       "     G71F06R_LevelInlet  G71F68Y_LevelPS  G71F68Yp1  \n",
       "0.0                   1             1909     997881  \n",
       "1.0             1034694          1036527      40138  \n",
       "2.0               13638            14062      14099  \n",
       "3.0                4308              143        523  "
      ]
     },
     "execution_count": 76,
     "metadata": {},
     "output_type": "execute_result"
    }
   ],
   "source": [
    "I_agg_df"
   ]
  },
  {
   "cell_type": "code",
   "execution_count": 80,
   "metadata": {},
   "outputs": [
    {
     "data": {
      "text/html": [
       "<div>\n",
       "<style scoped>\n",
       "    .dataframe tbody tr th:only-of-type {\n",
       "        vertical-align: middle;\n",
       "    }\n",
       "\n",
       "    .dataframe tbody tr th {\n",
       "        vertical-align: top;\n",
       "    }\n",
       "\n",
       "    .dataframe thead th {\n",
       "        text-align: right;\n",
       "    }\n",
       "</style>\n",
       "<table border=\"1\" class=\"dataframe\">\n",
       "  <thead>\n",
       "    <tr style=\"text-align: right;\">\n",
       "      <th></th>\n",
       "      <th>5425</th>\n",
       "      <th>5427</th>\n",
       "      <th>G80F11B_Level1</th>\n",
       "      <th>G80F11B_Level2</th>\n",
       "      <th>G80F66Y_Level1</th>\n",
       "      <th>G80F66Y_Level2</th>\n",
       "      <th>G80F13P_LevelPS</th>\n",
       "      <th>G73F010</th>\n",
       "      <th>G72F040</th>\n",
       "      <th>G71F05R_LevelInlet</th>\n",
       "      <th>G71F05R_LevelBasin</th>\n",
       "      <th>G71F05R_position</th>\n",
       "      <th>G71F04R_Level1</th>\n",
       "      <th>G71F04R_Level2</th>\n",
       "      <th>G71F06R_LevelInlet</th>\n",
       "      <th>G71F68Y_LevelPS</th>\n",
       "      <th>G71F68Yp1</th>\n",
       "    </tr>\n",
       "  </thead>\n",
       "  <tbody>\n",
       "    <tr>\n",
       "      <th>1.0</th>\n",
       "      <td>1052641.0</td>\n",
       "      <td>1052641.0</td>\n",
       "      <td>627105.0</td>\n",
       "      <td>627105.0</td>\n",
       "      <td>627075</td>\n",
       "      <td>627072</td>\n",
       "      <td>1052594.0</td>\n",
       "      <td>398878</td>\n",
       "      <td>53740.0</td>\n",
       "      <td>1034667</td>\n",
       "      <td>1037674</td>\n",
       "      <td>1039003.0</td>\n",
       "      <td>611465</td>\n",
       "      <td>844411</td>\n",
       "      <td>1034695</td>\n",
       "      <td>1038436</td>\n",
       "      <td>1038019</td>\n",
       "    </tr>\n",
       "    <tr>\n",
       "      <th>2.0</th>\n",
       "      <td>0.0</td>\n",
       "      <td>0.0</td>\n",
       "      <td>425536.0</td>\n",
       "      <td>425536.0</td>\n",
       "      <td>425566</td>\n",
       "      <td>425569</td>\n",
       "      <td>47.0</td>\n",
       "      <td>653763</td>\n",
       "      <td>998901.0</td>\n",
       "      <td>17974</td>\n",
       "      <td>14967</td>\n",
       "      <td>13638.0</td>\n",
       "      <td>441176</td>\n",
       "      <td>208230</td>\n",
       "      <td>17946</td>\n",
       "      <td>14205</td>\n",
       "      <td>14622</td>\n",
       "    </tr>\n",
       "  </tbody>\n",
       "</table>\n",
       "</div>"
      ],
      "text/plain": [
       "          5425       5427  G80F11B_Level1  G80F11B_Level2  G80F66Y_Level1  \\\n",
       "1.0  1052641.0  1052641.0        627105.0        627105.0          627075   \n",
       "2.0        0.0        0.0        425536.0        425536.0          425566   \n",
       "\n",
       "     G80F66Y_Level2  G80F13P_LevelPS  G73F010   G72F040  G71F05R_LevelInlet  \\\n",
       "1.0          627072        1052594.0   398878   53740.0             1034667   \n",
       "2.0          425569             47.0   653763  998901.0               17974   \n",
       "\n",
       "     G71F05R_LevelBasin  G71F05R_position  G71F04R_Level1  G71F04R_Level2  \\\n",
       "1.0             1037674         1039003.0          611465          844411   \n",
       "2.0               14967           13638.0          441176          208230   \n",
       "\n",
       "     G71F06R_LevelInlet  G71F68Y_LevelPS  G71F68Yp1  \n",
       "1.0             1034695          1038436    1038019  \n",
       "2.0               17946            14205      14622  "
      ]
     },
     "execution_count": 80,
     "metadata": {},
     "output_type": "execute_result"
    }
   ],
   "source": [
    "sub_agg_df = I_agg_df.copy()\n",
    "for col in sub_agg_df.columns:\n",
    "    # combine Indicator 3 with 2, and Indicator 0 with 1\n",
    "    sub_agg_df.loc[2, col] += sub_agg_df.loc[3, col]\n",
    "    sub_agg_df.loc[1, col] += sub_agg_df.loc[0, col]\n",
    "sub_agg_df = sub_agg_df.drop([0, 3])\n",
    "#sub_agg_df = sub_agg_df.reset_index(drop=True)\n",
    "sub_agg_df"
   ]
  },
  {
   "cell_type": "code",
   "execution_count": 81,
   "metadata": {},
   "outputs": [
    {
     "data": {
      "application/vnd.plotly.v1+json": {
       "config": {
        "plotlyServerURL": "https://plot.ly"
       },
       "data": [
        {
         "hoverinfo": "y",
         "hovertemplate": "%{y:.2f}%",
         "marker": {
          "color": "forestgreen"
         },
         "name": "Data",
         "type": "bar",
         "x": [
          "5425",
          "5427",
          "G80F11B_Level1",
          "G80F11B_Level2",
          "G80F66Y_Level1",
          "G80F66Y_Level2",
          "G80F13P_LevelPS",
          "G73F010",
          "G72F040",
          "G71F05R_LevelInlet",
          "G71F05R_LevelBasin",
          "G71F05R_position",
          "G71F04R_Level1",
          "G71F04R_Level2",
          "G71F06R_LevelInlet",
          "G71F68Y_LevelPS",
          "G71F68Yp1"
         ],
         "y": [
          1052641,
          1052641,
          627105,
          627105,
          627075,
          627072,
          1052594,
          398878,
          53740,
          1034667,
          1037674,
          1039003,
          611465,
          844411,
          1034695,
          1038436,
          1038019
         ]
        },
        {
         "hoverinfo": "y",
         "hovertemplate": "%{y:.2f}%",
         "marker": {
          "color": "linen"
         },
         "name": "No Data",
         "type": "bar",
         "x": [
          "5425",
          "5427",
          "G80F11B_Level1",
          "G80F11B_Level2",
          "G80F66Y_Level1",
          "G80F66Y_Level2",
          "G80F13P_LevelPS",
          "G73F010",
          "G72F040",
          "G71F05R_LevelInlet",
          "G71F05R_LevelBasin",
          "G71F05R_position",
          "G71F04R_Level1",
          "G71F04R_Level2",
          "G71F06R_LevelInlet",
          "G71F68Y_LevelPS",
          "G71F68Yp1"
         ],
         "y": [
          0,
          0,
          425536,
          425536,
          425566,
          425569,
          47,
          653763,
          998901,
          17974,
          14967,
          13638,
          441176,
          208230,
          17946,
          14205,
          14622
         ]
        }
       ],
       "layout": {
        "barmode": "stack",
        "barnorm": "percent",
        "height": 400,
        "legend": {
         "traceorder": "normal"
        },
        "template": {
         "data": {
          "bar": [
           {
            "error_x": {
             "color": "#2a3f5f"
            },
            "error_y": {
             "color": "#2a3f5f"
            },
            "marker": {
             "line": {
              "color": "#E5ECF6",
              "width": 0.5
             },
             "pattern": {
              "fillmode": "overlay",
              "size": 10,
              "solidity": 0.2
             }
            },
            "type": "bar"
           }
          ],
          "barpolar": [
           {
            "marker": {
             "line": {
              "color": "#E5ECF6",
              "width": 0.5
             },
             "pattern": {
              "fillmode": "overlay",
              "size": 10,
              "solidity": 0.2
             }
            },
            "type": "barpolar"
           }
          ],
          "carpet": [
           {
            "aaxis": {
             "endlinecolor": "#2a3f5f",
             "gridcolor": "white",
             "linecolor": "white",
             "minorgridcolor": "white",
             "startlinecolor": "#2a3f5f"
            },
            "baxis": {
             "endlinecolor": "#2a3f5f",
             "gridcolor": "white",
             "linecolor": "white",
             "minorgridcolor": "white",
             "startlinecolor": "#2a3f5f"
            },
            "type": "carpet"
           }
          ],
          "choropleth": [
           {
            "colorbar": {
             "outlinewidth": 0,
             "ticks": ""
            },
            "type": "choropleth"
           }
          ],
          "contour": [
           {
            "colorbar": {
             "outlinewidth": 0,
             "ticks": ""
            },
            "colorscale": [
             [
              0,
              "#0d0887"
             ],
             [
              0.1111111111111111,
              "#46039f"
             ],
             [
              0.2222222222222222,
              "#7201a8"
             ],
             [
              0.3333333333333333,
              "#9c179e"
             ],
             [
              0.4444444444444444,
              "#bd3786"
             ],
             [
              0.5555555555555556,
              "#d8576b"
             ],
             [
              0.6666666666666666,
              "#ed7953"
             ],
             [
              0.7777777777777778,
              "#fb9f3a"
             ],
             [
              0.8888888888888888,
              "#fdca26"
             ],
             [
              1,
              "#f0f921"
             ]
            ],
            "type": "contour"
           }
          ],
          "contourcarpet": [
           {
            "colorbar": {
             "outlinewidth": 0,
             "ticks": ""
            },
            "type": "contourcarpet"
           }
          ],
          "heatmap": [
           {
            "colorbar": {
             "outlinewidth": 0,
             "ticks": ""
            },
            "colorscale": [
             [
              0,
              "#0d0887"
             ],
             [
              0.1111111111111111,
              "#46039f"
             ],
             [
              0.2222222222222222,
              "#7201a8"
             ],
             [
              0.3333333333333333,
              "#9c179e"
             ],
             [
              0.4444444444444444,
              "#bd3786"
             ],
             [
              0.5555555555555556,
              "#d8576b"
             ],
             [
              0.6666666666666666,
              "#ed7953"
             ],
             [
              0.7777777777777778,
              "#fb9f3a"
             ],
             [
              0.8888888888888888,
              "#fdca26"
             ],
             [
              1,
              "#f0f921"
             ]
            ],
            "type": "heatmap"
           }
          ],
          "heatmapgl": [
           {
            "colorbar": {
             "outlinewidth": 0,
             "ticks": ""
            },
            "colorscale": [
             [
              0,
              "#0d0887"
             ],
             [
              0.1111111111111111,
              "#46039f"
             ],
             [
              0.2222222222222222,
              "#7201a8"
             ],
             [
              0.3333333333333333,
              "#9c179e"
             ],
             [
              0.4444444444444444,
              "#bd3786"
             ],
             [
              0.5555555555555556,
              "#d8576b"
             ],
             [
              0.6666666666666666,
              "#ed7953"
             ],
             [
              0.7777777777777778,
              "#fb9f3a"
             ],
             [
              0.8888888888888888,
              "#fdca26"
             ],
             [
              1,
              "#f0f921"
             ]
            ],
            "type": "heatmapgl"
           }
          ],
          "histogram": [
           {
            "marker": {
             "pattern": {
              "fillmode": "overlay",
              "size": 10,
              "solidity": 0.2
             }
            },
            "type": "histogram"
           }
          ],
          "histogram2d": [
           {
            "colorbar": {
             "outlinewidth": 0,
             "ticks": ""
            },
            "colorscale": [
             [
              0,
              "#0d0887"
             ],
             [
              0.1111111111111111,
              "#46039f"
             ],
             [
              0.2222222222222222,
              "#7201a8"
             ],
             [
              0.3333333333333333,
              "#9c179e"
             ],
             [
              0.4444444444444444,
              "#bd3786"
             ],
             [
              0.5555555555555556,
              "#d8576b"
             ],
             [
              0.6666666666666666,
              "#ed7953"
             ],
             [
              0.7777777777777778,
              "#fb9f3a"
             ],
             [
              0.8888888888888888,
              "#fdca26"
             ],
             [
              1,
              "#f0f921"
             ]
            ],
            "type": "histogram2d"
           }
          ],
          "histogram2dcontour": [
           {
            "colorbar": {
             "outlinewidth": 0,
             "ticks": ""
            },
            "colorscale": [
             [
              0,
              "#0d0887"
             ],
             [
              0.1111111111111111,
              "#46039f"
             ],
             [
              0.2222222222222222,
              "#7201a8"
             ],
             [
              0.3333333333333333,
              "#9c179e"
             ],
             [
              0.4444444444444444,
              "#bd3786"
             ],
             [
              0.5555555555555556,
              "#d8576b"
             ],
             [
              0.6666666666666666,
              "#ed7953"
             ],
             [
              0.7777777777777778,
              "#fb9f3a"
             ],
             [
              0.8888888888888888,
              "#fdca26"
             ],
             [
              1,
              "#f0f921"
             ]
            ],
            "type": "histogram2dcontour"
           }
          ],
          "mesh3d": [
           {
            "colorbar": {
             "outlinewidth": 0,
             "ticks": ""
            },
            "type": "mesh3d"
           }
          ],
          "parcoords": [
           {
            "line": {
             "colorbar": {
              "outlinewidth": 0,
              "ticks": ""
             }
            },
            "type": "parcoords"
           }
          ],
          "pie": [
           {
            "automargin": true,
            "type": "pie"
           }
          ],
          "scatter": [
           {
            "fillpattern": {
             "fillmode": "overlay",
             "size": 10,
             "solidity": 0.2
            },
            "type": "scatter"
           }
          ],
          "scatter3d": [
           {
            "line": {
             "colorbar": {
              "outlinewidth": 0,
              "ticks": ""
             }
            },
            "marker": {
             "colorbar": {
              "outlinewidth": 0,
              "ticks": ""
             }
            },
            "type": "scatter3d"
           }
          ],
          "scattercarpet": [
           {
            "marker": {
             "colorbar": {
              "outlinewidth": 0,
              "ticks": ""
             }
            },
            "type": "scattercarpet"
           }
          ],
          "scattergeo": [
           {
            "marker": {
             "colorbar": {
              "outlinewidth": 0,
              "ticks": ""
             }
            },
            "type": "scattergeo"
           }
          ],
          "scattergl": [
           {
            "marker": {
             "colorbar": {
              "outlinewidth": 0,
              "ticks": ""
             }
            },
            "type": "scattergl"
           }
          ],
          "scattermapbox": [
           {
            "marker": {
             "colorbar": {
              "outlinewidth": 0,
              "ticks": ""
             }
            },
            "type": "scattermapbox"
           }
          ],
          "scatterpolar": [
           {
            "marker": {
             "colorbar": {
              "outlinewidth": 0,
              "ticks": ""
             }
            },
            "type": "scatterpolar"
           }
          ],
          "scatterpolargl": [
           {
            "marker": {
             "colorbar": {
              "outlinewidth": 0,
              "ticks": ""
             }
            },
            "type": "scatterpolargl"
           }
          ],
          "scatterternary": [
           {
            "marker": {
             "colorbar": {
              "outlinewidth": 0,
              "ticks": ""
             }
            },
            "type": "scatterternary"
           }
          ],
          "surface": [
           {
            "colorbar": {
             "outlinewidth": 0,
             "ticks": ""
            },
            "colorscale": [
             [
              0,
              "#0d0887"
             ],
             [
              0.1111111111111111,
              "#46039f"
             ],
             [
              0.2222222222222222,
              "#7201a8"
             ],
             [
              0.3333333333333333,
              "#9c179e"
             ],
             [
              0.4444444444444444,
              "#bd3786"
             ],
             [
              0.5555555555555556,
              "#d8576b"
             ],
             [
              0.6666666666666666,
              "#ed7953"
             ],
             [
              0.7777777777777778,
              "#fb9f3a"
             ],
             [
              0.8888888888888888,
              "#fdca26"
             ],
             [
              1,
              "#f0f921"
             ]
            ],
            "type": "surface"
           }
          ],
          "table": [
           {
            "cells": {
             "fill": {
              "color": "#EBF0F8"
             },
             "line": {
              "color": "white"
             }
            },
            "header": {
             "fill": {
              "color": "#C8D4E3"
             },
             "line": {
              "color": "white"
             }
            },
            "type": "table"
           }
          ]
         },
         "layout": {
          "annotationdefaults": {
           "arrowcolor": "#2a3f5f",
           "arrowhead": 0,
           "arrowwidth": 1
          },
          "autotypenumbers": "strict",
          "coloraxis": {
           "colorbar": {
            "outlinewidth": 0,
            "ticks": ""
           }
          },
          "colorscale": {
           "diverging": [
            [
             0,
             "#8e0152"
            ],
            [
             0.1,
             "#c51b7d"
            ],
            [
             0.2,
             "#de77ae"
            ],
            [
             0.3,
             "#f1b6da"
            ],
            [
             0.4,
             "#fde0ef"
            ],
            [
             0.5,
             "#f7f7f7"
            ],
            [
             0.6,
             "#e6f5d0"
            ],
            [
             0.7,
             "#b8e186"
            ],
            [
             0.8,
             "#7fbc41"
            ],
            [
             0.9,
             "#4d9221"
            ],
            [
             1,
             "#276419"
            ]
           ],
           "sequential": [
            [
             0,
             "#0d0887"
            ],
            [
             0.1111111111111111,
             "#46039f"
            ],
            [
             0.2222222222222222,
             "#7201a8"
            ],
            [
             0.3333333333333333,
             "#9c179e"
            ],
            [
             0.4444444444444444,
             "#bd3786"
            ],
            [
             0.5555555555555556,
             "#d8576b"
            ],
            [
             0.6666666666666666,
             "#ed7953"
            ],
            [
             0.7777777777777778,
             "#fb9f3a"
            ],
            [
             0.8888888888888888,
             "#fdca26"
            ],
            [
             1,
             "#f0f921"
            ]
           ],
           "sequentialminus": [
            [
             0,
             "#0d0887"
            ],
            [
             0.1111111111111111,
             "#46039f"
            ],
            [
             0.2222222222222222,
             "#7201a8"
            ],
            [
             0.3333333333333333,
             "#9c179e"
            ],
            [
             0.4444444444444444,
             "#bd3786"
            ],
            [
             0.5555555555555556,
             "#d8576b"
            ],
            [
             0.6666666666666666,
             "#ed7953"
            ],
            [
             0.7777777777777778,
             "#fb9f3a"
            ],
            [
             0.8888888888888888,
             "#fdca26"
            ],
            [
             1,
             "#f0f921"
            ]
           ]
          },
          "colorway": [
           "#636efa",
           "#EF553B",
           "#00cc96",
           "#ab63fa",
           "#FFA15A",
           "#19d3f3",
           "#FF6692",
           "#B6E880",
           "#FF97FF",
           "#FECB52"
          ],
          "font": {
           "color": "#2a3f5f"
          },
          "geo": {
           "bgcolor": "white",
           "lakecolor": "white",
           "landcolor": "#E5ECF6",
           "showlakes": true,
           "showland": true,
           "subunitcolor": "white"
          },
          "hoverlabel": {
           "align": "left"
          },
          "hovermode": "closest",
          "mapbox": {
           "style": "light"
          },
          "paper_bgcolor": "white",
          "plot_bgcolor": "#E5ECF6",
          "polar": {
           "angularaxis": {
            "gridcolor": "white",
            "linecolor": "white",
            "ticks": ""
           },
           "bgcolor": "#E5ECF6",
           "radialaxis": {
            "gridcolor": "white",
            "linecolor": "white",
            "ticks": ""
           }
          },
          "scene": {
           "xaxis": {
            "backgroundcolor": "#E5ECF6",
            "gridcolor": "white",
            "gridwidth": 2,
            "linecolor": "white",
            "showbackground": true,
            "ticks": "",
            "zerolinecolor": "white"
           },
           "yaxis": {
            "backgroundcolor": "#E5ECF6",
            "gridcolor": "white",
            "gridwidth": 2,
            "linecolor": "white",
            "showbackground": true,
            "ticks": "",
            "zerolinecolor": "white"
           },
           "zaxis": {
            "backgroundcolor": "#E5ECF6",
            "gridcolor": "white",
            "gridwidth": 2,
            "linecolor": "white",
            "showbackground": true,
            "ticks": "",
            "zerolinecolor": "white"
           }
          },
          "shapedefaults": {
           "line": {
            "color": "#2a3f5f"
           }
          },
          "ternary": {
           "aaxis": {
            "gridcolor": "white",
            "linecolor": "white",
            "ticks": ""
           },
           "baxis": {
            "gridcolor": "white",
            "linecolor": "white",
            "ticks": ""
           },
           "bgcolor": "#E5ECF6",
           "caxis": {
            "gridcolor": "white",
            "linecolor": "white",
            "ticks": ""
           }
          },
          "title": {
           "x": 0.05
          },
          "xaxis": {
           "automargin": true,
           "gridcolor": "white",
           "linecolor": "white",
           "ticks": "",
           "title": {
            "standoff": 15
           },
           "zerolinecolor": "white",
           "zerolinewidth": 2
          },
          "yaxis": {
           "automargin": true,
           "gridcolor": "white",
           "linecolor": "white",
           "ticks": "",
           "title": {
            "standoff": 15
           },
           "zerolinecolor": "white",
           "zerolinewidth": 2
          }
         }
        },
        "width": 1000,
        "xaxis": {
         "tickangle": -45
        }
       }
      }
     },
     "metadata": {},
     "output_type": "display_data"
    }
   ],
   "source": [
    "\n",
    "# stacked plotly bar chart\n",
    "fig = go.Figure()\n",
    "data = []\n",
    "#for name in list(indicator_metadata.keys())[::-1]:\n",
    "for i, row in sub_agg_df.iterrows():\n",
    "    # i = indicator_metadata[name]['value']\n",
    "    # row = sub_agg_df.loc[i].values\n",
    "    data.append(go.Bar(\n",
    "        x=sub_agg_df.columns,\n",
    "        y=row,\n",
    "        name=indicator_2_name[i],\n",
    "        marker_color=indicator_2_color[i],\n",
    "        # add hoverinfo, percentage of the total\n",
    "        hoverinfo='y', \n",
    "        hovertemplate='%{y:.2f}%',\n",
    "        ))\n",
    "\n",
    "fig.add_traces(data)\n",
    "\n",
    "fig.update_layout(\n",
    "    barmode='stack', \n",
    "    xaxis_tickangle=-45,\n",
    "    height=400, \n",
    "    width=1000,\n",
    "    barnorm='percent',\n",
    "    legend=dict(traceorder='normal'),  # Reverse the order of the legend items\n",
    "\n",
    ")\n",
    "fig.show()\n",
    "\n"
   ]
  },
  {
   "cell_type": "code",
   "execution_count": 82,
   "metadata": {},
   "outputs": [
    {
     "data": {
      "text/html": [
       "<div>\n",
       "<style scoped>\n",
       "    .dataframe tbody tr th:only-of-type {\n",
       "        vertical-align: middle;\n",
       "    }\n",
       "\n",
       "    .dataframe tbody tr th {\n",
       "        vertical-align: top;\n",
       "    }\n",
       "\n",
       "    .dataframe thead th {\n",
       "        text-align: right;\n",
       "    }\n",
       "</style>\n",
       "<table border=\"1\" class=\"dataframe\">\n",
       "  <thead>\n",
       "    <tr style=\"text-align: right;\">\n",
       "      <th></th>\n",
       "      <th>5425</th>\n",
       "      <th>5427</th>\n",
       "      <th>G80F11B_Level1</th>\n",
       "      <th>G80F11B_Level2</th>\n",
       "      <th>G80F66Y_Level1</th>\n",
       "      <th>G80F66Y_Level2</th>\n",
       "      <th>G80F13P_LevelPS</th>\n",
       "      <th>G73F010</th>\n",
       "      <th>G72F040</th>\n",
       "      <th>G71F05R_LevelInlet</th>\n",
       "      <th>G71F05R_LevelBasin</th>\n",
       "      <th>G71F05R_position</th>\n",
       "      <th>G71F04R_Level1</th>\n",
       "      <th>G71F04R_Level2</th>\n",
       "      <th>G71F06R_LevelInlet</th>\n",
       "      <th>G71F68Y_LevelPS</th>\n",
       "      <th>G71F68Yp1</th>\n",
       "    </tr>\n",
       "  </thead>\n",
       "  <tbody>\n",
       "    <tr>\n",
       "      <th>0.0</th>\n",
       "      <td>991005.0</td>\n",
       "      <td>985437.0</td>\n",
       "      <td>643186.0</td>\n",
       "      <td>535767.0</td>\n",
       "      <td>427180</td>\n",
       "      <td>427324</td>\n",
       "      <td>1676.0</td>\n",
       "      <td>654870</td>\n",
       "      <td>998901.0</td>\n",
       "      <td>17975</td>\n",
       "      <td>778376</td>\n",
       "      <td>140238.0</td>\n",
       "      <td>441177</td>\n",
       "      <td>208231</td>\n",
       "      <td>17947</td>\n",
       "      <td>16114</td>\n",
       "      <td>1012503</td>\n",
       "    </tr>\n",
       "    <tr>\n",
       "      <th>1.0</th>\n",
       "      <td>61636.0</td>\n",
       "      <td>67204.0</td>\n",
       "      <td>409455.0</td>\n",
       "      <td>516874.0</td>\n",
       "      <td>625461</td>\n",
       "      <td>625317</td>\n",
       "      <td>1050965.0</td>\n",
       "      <td>397771</td>\n",
       "      <td>53740.0</td>\n",
       "      <td>1034666</td>\n",
       "      <td>274265</td>\n",
       "      <td>912403.0</td>\n",
       "      <td>611464</td>\n",
       "      <td>844410</td>\n",
       "      <td>1034694</td>\n",
       "      <td>1036527</td>\n",
       "      <td>40138</td>\n",
       "    </tr>\n",
       "  </tbody>\n",
       "</table>\n",
       "</div>"
      ],
      "text/plain": [
       "         5425      5427  G80F11B_Level1  G80F11B_Level2  G80F66Y_Level1  \\\n",
       "0.0  991005.0  985437.0        643186.0        535767.0          427180   \n",
       "1.0   61636.0   67204.0        409455.0        516874.0          625461   \n",
       "\n",
       "     G80F66Y_Level2  G80F13P_LevelPS  G73F010   G72F040  G71F05R_LevelInlet  \\\n",
       "0.0          427324           1676.0   654870  998901.0               17975   \n",
       "1.0          625317        1050965.0   397771   53740.0             1034666   \n",
       "\n",
       "     G71F05R_LevelBasin  G71F05R_position  G71F04R_Level1  G71F04R_Level2  \\\n",
       "0.0              778376          140238.0          441177          208231   \n",
       "1.0              274265          912403.0          611464          844410   \n",
       "\n",
       "     G71F06R_LevelInlet  G71F68Y_LevelPS  G71F68Yp1  \n",
       "0.0               17947            16114    1012503  \n",
       "1.0             1034694          1036527      40138  "
      ]
     },
     "execution_count": 82,
     "metadata": {},
     "output_type": "execute_result"
    }
   ],
   "source": [
    "sub_agg_df = I_agg_df.copy()\n",
    "for col in sub_agg_df.columns:\n",
    "    # combine Indicator 3 with 2, and Indicator 0 with 1\n",
    "    sub_agg_df.loc[0, col] += sub_agg_df.loc[2, col]\n",
    "    sub_agg_df.loc[0, col] += sub_agg_df.loc[3, col]\n",
    "sub_agg_df = sub_agg_df.drop([2, 3])\n",
    "#sub_agg_df = sub_agg_df.reset_index(drop=True)\n",
    "sub_agg_df"
   ]
  },
  {
   "cell_type": "code",
   "execution_count": 83,
   "metadata": {},
   "outputs": [
    {
     "data": {
      "application/vnd.plotly.v1+json": {
       "config": {
        "plotlyServerURL": "https://plot.ly"
       },
       "data": [
        {
         "hoverinfo": "y",
         "hovertemplate": "%{y:.2f}%",
         "marker": {
          "color": "lightgreen"
         },
         "name": "Zero Valued",
         "type": "bar",
         "x": [
          "5425",
          "5427",
          "G80F11B_Level1",
          "G80F11B_Level2",
          "G80F66Y_Level1",
          "G80F66Y_Level2",
          "G80F13P_LevelPS",
          "G73F010",
          "G72F040",
          "G71F05R_LevelInlet",
          "G71F05R_LevelBasin",
          "G71F05R_position",
          "G71F04R_Level1",
          "G71F04R_Level2",
          "G71F06R_LevelInlet",
          "G71F68Y_LevelPS",
          "G71F68Yp1"
         ],
         "y": [
          991005,
          985437,
          643186,
          535767,
          427180,
          427324,
          1676,
          654870,
          998901,
          17975,
          778376,
          140238,
          441177,
          208231,
          17947,
          16114,
          1012503
         ]
        },
        {
         "hoverinfo": "y",
         "hovertemplate": "%{y:.2f}%",
         "marker": {
          "color": "forestgreen"
         },
         "name": "Data",
         "type": "bar",
         "x": [
          "5425",
          "5427",
          "G80F11B_Level1",
          "G80F11B_Level2",
          "G80F66Y_Level1",
          "G80F66Y_Level2",
          "G80F13P_LevelPS",
          "G73F010",
          "G72F040",
          "G71F05R_LevelInlet",
          "G71F05R_LevelBasin",
          "G71F05R_position",
          "G71F04R_Level1",
          "G71F04R_Level2",
          "G71F06R_LevelInlet",
          "G71F68Y_LevelPS",
          "G71F68Yp1"
         ],
         "y": [
          61636,
          67204,
          409455,
          516874,
          625461,
          625317,
          1050965,
          397771,
          53740,
          1034666,
          274265,
          912403,
          611464,
          844410,
          1034694,
          1036527,
          40138
         ]
        }
       ],
       "layout": {
        "barmode": "stack",
        "barnorm": "percent",
        "height": 400,
        "legend": {
         "traceorder": "normal"
        },
        "template": {
         "data": {
          "bar": [
           {
            "error_x": {
             "color": "#2a3f5f"
            },
            "error_y": {
             "color": "#2a3f5f"
            },
            "marker": {
             "line": {
              "color": "#E5ECF6",
              "width": 0.5
             },
             "pattern": {
              "fillmode": "overlay",
              "size": 10,
              "solidity": 0.2
             }
            },
            "type": "bar"
           }
          ],
          "barpolar": [
           {
            "marker": {
             "line": {
              "color": "#E5ECF6",
              "width": 0.5
             },
             "pattern": {
              "fillmode": "overlay",
              "size": 10,
              "solidity": 0.2
             }
            },
            "type": "barpolar"
           }
          ],
          "carpet": [
           {
            "aaxis": {
             "endlinecolor": "#2a3f5f",
             "gridcolor": "white",
             "linecolor": "white",
             "minorgridcolor": "white",
             "startlinecolor": "#2a3f5f"
            },
            "baxis": {
             "endlinecolor": "#2a3f5f",
             "gridcolor": "white",
             "linecolor": "white",
             "minorgridcolor": "white",
             "startlinecolor": "#2a3f5f"
            },
            "type": "carpet"
           }
          ],
          "choropleth": [
           {
            "colorbar": {
             "outlinewidth": 0,
             "ticks": ""
            },
            "type": "choropleth"
           }
          ],
          "contour": [
           {
            "colorbar": {
             "outlinewidth": 0,
             "ticks": ""
            },
            "colorscale": [
             [
              0,
              "#0d0887"
             ],
             [
              0.1111111111111111,
              "#46039f"
             ],
             [
              0.2222222222222222,
              "#7201a8"
             ],
             [
              0.3333333333333333,
              "#9c179e"
             ],
             [
              0.4444444444444444,
              "#bd3786"
             ],
             [
              0.5555555555555556,
              "#d8576b"
             ],
             [
              0.6666666666666666,
              "#ed7953"
             ],
             [
              0.7777777777777778,
              "#fb9f3a"
             ],
             [
              0.8888888888888888,
              "#fdca26"
             ],
             [
              1,
              "#f0f921"
             ]
            ],
            "type": "contour"
           }
          ],
          "contourcarpet": [
           {
            "colorbar": {
             "outlinewidth": 0,
             "ticks": ""
            },
            "type": "contourcarpet"
           }
          ],
          "heatmap": [
           {
            "colorbar": {
             "outlinewidth": 0,
             "ticks": ""
            },
            "colorscale": [
             [
              0,
              "#0d0887"
             ],
             [
              0.1111111111111111,
              "#46039f"
             ],
             [
              0.2222222222222222,
              "#7201a8"
             ],
             [
              0.3333333333333333,
              "#9c179e"
             ],
             [
              0.4444444444444444,
              "#bd3786"
             ],
             [
              0.5555555555555556,
              "#d8576b"
             ],
             [
              0.6666666666666666,
              "#ed7953"
             ],
             [
              0.7777777777777778,
              "#fb9f3a"
             ],
             [
              0.8888888888888888,
              "#fdca26"
             ],
             [
              1,
              "#f0f921"
             ]
            ],
            "type": "heatmap"
           }
          ],
          "heatmapgl": [
           {
            "colorbar": {
             "outlinewidth": 0,
             "ticks": ""
            },
            "colorscale": [
             [
              0,
              "#0d0887"
             ],
             [
              0.1111111111111111,
              "#46039f"
             ],
             [
              0.2222222222222222,
              "#7201a8"
             ],
             [
              0.3333333333333333,
              "#9c179e"
             ],
             [
              0.4444444444444444,
              "#bd3786"
             ],
             [
              0.5555555555555556,
              "#d8576b"
             ],
             [
              0.6666666666666666,
              "#ed7953"
             ],
             [
              0.7777777777777778,
              "#fb9f3a"
             ],
             [
              0.8888888888888888,
              "#fdca26"
             ],
             [
              1,
              "#f0f921"
             ]
            ],
            "type": "heatmapgl"
           }
          ],
          "histogram": [
           {
            "marker": {
             "pattern": {
              "fillmode": "overlay",
              "size": 10,
              "solidity": 0.2
             }
            },
            "type": "histogram"
           }
          ],
          "histogram2d": [
           {
            "colorbar": {
             "outlinewidth": 0,
             "ticks": ""
            },
            "colorscale": [
             [
              0,
              "#0d0887"
             ],
             [
              0.1111111111111111,
              "#46039f"
             ],
             [
              0.2222222222222222,
              "#7201a8"
             ],
             [
              0.3333333333333333,
              "#9c179e"
             ],
             [
              0.4444444444444444,
              "#bd3786"
             ],
             [
              0.5555555555555556,
              "#d8576b"
             ],
             [
              0.6666666666666666,
              "#ed7953"
             ],
             [
              0.7777777777777778,
              "#fb9f3a"
             ],
             [
              0.8888888888888888,
              "#fdca26"
             ],
             [
              1,
              "#f0f921"
             ]
            ],
            "type": "histogram2d"
           }
          ],
          "histogram2dcontour": [
           {
            "colorbar": {
             "outlinewidth": 0,
             "ticks": ""
            },
            "colorscale": [
             [
              0,
              "#0d0887"
             ],
             [
              0.1111111111111111,
              "#46039f"
             ],
             [
              0.2222222222222222,
              "#7201a8"
             ],
             [
              0.3333333333333333,
              "#9c179e"
             ],
             [
              0.4444444444444444,
              "#bd3786"
             ],
             [
              0.5555555555555556,
              "#d8576b"
             ],
             [
              0.6666666666666666,
              "#ed7953"
             ],
             [
              0.7777777777777778,
              "#fb9f3a"
             ],
             [
              0.8888888888888888,
              "#fdca26"
             ],
             [
              1,
              "#f0f921"
             ]
            ],
            "type": "histogram2dcontour"
           }
          ],
          "mesh3d": [
           {
            "colorbar": {
             "outlinewidth": 0,
             "ticks": ""
            },
            "type": "mesh3d"
           }
          ],
          "parcoords": [
           {
            "line": {
             "colorbar": {
              "outlinewidth": 0,
              "ticks": ""
             }
            },
            "type": "parcoords"
           }
          ],
          "pie": [
           {
            "automargin": true,
            "type": "pie"
           }
          ],
          "scatter": [
           {
            "fillpattern": {
             "fillmode": "overlay",
             "size": 10,
             "solidity": 0.2
            },
            "type": "scatter"
           }
          ],
          "scatter3d": [
           {
            "line": {
             "colorbar": {
              "outlinewidth": 0,
              "ticks": ""
             }
            },
            "marker": {
             "colorbar": {
              "outlinewidth": 0,
              "ticks": ""
             }
            },
            "type": "scatter3d"
           }
          ],
          "scattercarpet": [
           {
            "marker": {
             "colorbar": {
              "outlinewidth": 0,
              "ticks": ""
             }
            },
            "type": "scattercarpet"
           }
          ],
          "scattergeo": [
           {
            "marker": {
             "colorbar": {
              "outlinewidth": 0,
              "ticks": ""
             }
            },
            "type": "scattergeo"
           }
          ],
          "scattergl": [
           {
            "marker": {
             "colorbar": {
              "outlinewidth": 0,
              "ticks": ""
             }
            },
            "type": "scattergl"
           }
          ],
          "scattermapbox": [
           {
            "marker": {
             "colorbar": {
              "outlinewidth": 0,
              "ticks": ""
             }
            },
            "type": "scattermapbox"
           }
          ],
          "scatterpolar": [
           {
            "marker": {
             "colorbar": {
              "outlinewidth": 0,
              "ticks": ""
             }
            },
            "type": "scatterpolar"
           }
          ],
          "scatterpolargl": [
           {
            "marker": {
             "colorbar": {
              "outlinewidth": 0,
              "ticks": ""
             }
            },
            "type": "scatterpolargl"
           }
          ],
          "scatterternary": [
           {
            "marker": {
             "colorbar": {
              "outlinewidth": 0,
              "ticks": ""
             }
            },
            "type": "scatterternary"
           }
          ],
          "surface": [
           {
            "colorbar": {
             "outlinewidth": 0,
             "ticks": ""
            },
            "colorscale": [
             [
              0,
              "#0d0887"
             ],
             [
              0.1111111111111111,
              "#46039f"
             ],
             [
              0.2222222222222222,
              "#7201a8"
             ],
             [
              0.3333333333333333,
              "#9c179e"
             ],
             [
              0.4444444444444444,
              "#bd3786"
             ],
             [
              0.5555555555555556,
              "#d8576b"
             ],
             [
              0.6666666666666666,
              "#ed7953"
             ],
             [
              0.7777777777777778,
              "#fb9f3a"
             ],
             [
              0.8888888888888888,
              "#fdca26"
             ],
             [
              1,
              "#f0f921"
             ]
            ],
            "type": "surface"
           }
          ],
          "table": [
           {
            "cells": {
             "fill": {
              "color": "#EBF0F8"
             },
             "line": {
              "color": "white"
             }
            },
            "header": {
             "fill": {
              "color": "#C8D4E3"
             },
             "line": {
              "color": "white"
             }
            },
            "type": "table"
           }
          ]
         },
         "layout": {
          "annotationdefaults": {
           "arrowcolor": "#2a3f5f",
           "arrowhead": 0,
           "arrowwidth": 1
          },
          "autotypenumbers": "strict",
          "coloraxis": {
           "colorbar": {
            "outlinewidth": 0,
            "ticks": ""
           }
          },
          "colorscale": {
           "diverging": [
            [
             0,
             "#8e0152"
            ],
            [
             0.1,
             "#c51b7d"
            ],
            [
             0.2,
             "#de77ae"
            ],
            [
             0.3,
             "#f1b6da"
            ],
            [
             0.4,
             "#fde0ef"
            ],
            [
             0.5,
             "#f7f7f7"
            ],
            [
             0.6,
             "#e6f5d0"
            ],
            [
             0.7,
             "#b8e186"
            ],
            [
             0.8,
             "#7fbc41"
            ],
            [
             0.9,
             "#4d9221"
            ],
            [
             1,
             "#276419"
            ]
           ],
           "sequential": [
            [
             0,
             "#0d0887"
            ],
            [
             0.1111111111111111,
             "#46039f"
            ],
            [
             0.2222222222222222,
             "#7201a8"
            ],
            [
             0.3333333333333333,
             "#9c179e"
            ],
            [
             0.4444444444444444,
             "#bd3786"
            ],
            [
             0.5555555555555556,
             "#d8576b"
            ],
            [
             0.6666666666666666,
             "#ed7953"
            ],
            [
             0.7777777777777778,
             "#fb9f3a"
            ],
            [
             0.8888888888888888,
             "#fdca26"
            ],
            [
             1,
             "#f0f921"
            ]
           ],
           "sequentialminus": [
            [
             0,
             "#0d0887"
            ],
            [
             0.1111111111111111,
             "#46039f"
            ],
            [
             0.2222222222222222,
             "#7201a8"
            ],
            [
             0.3333333333333333,
             "#9c179e"
            ],
            [
             0.4444444444444444,
             "#bd3786"
            ],
            [
             0.5555555555555556,
             "#d8576b"
            ],
            [
             0.6666666666666666,
             "#ed7953"
            ],
            [
             0.7777777777777778,
             "#fb9f3a"
            ],
            [
             0.8888888888888888,
             "#fdca26"
            ],
            [
             1,
             "#f0f921"
            ]
           ]
          },
          "colorway": [
           "#636efa",
           "#EF553B",
           "#00cc96",
           "#ab63fa",
           "#FFA15A",
           "#19d3f3",
           "#FF6692",
           "#B6E880",
           "#FF97FF",
           "#FECB52"
          ],
          "font": {
           "color": "#2a3f5f"
          },
          "geo": {
           "bgcolor": "white",
           "lakecolor": "white",
           "landcolor": "#E5ECF6",
           "showlakes": true,
           "showland": true,
           "subunitcolor": "white"
          },
          "hoverlabel": {
           "align": "left"
          },
          "hovermode": "closest",
          "mapbox": {
           "style": "light"
          },
          "paper_bgcolor": "white",
          "plot_bgcolor": "#E5ECF6",
          "polar": {
           "angularaxis": {
            "gridcolor": "white",
            "linecolor": "white",
            "ticks": ""
           },
           "bgcolor": "#E5ECF6",
           "radialaxis": {
            "gridcolor": "white",
            "linecolor": "white",
            "ticks": ""
           }
          },
          "scene": {
           "xaxis": {
            "backgroundcolor": "#E5ECF6",
            "gridcolor": "white",
            "gridwidth": 2,
            "linecolor": "white",
            "showbackground": true,
            "ticks": "",
            "zerolinecolor": "white"
           },
           "yaxis": {
            "backgroundcolor": "#E5ECF6",
            "gridcolor": "white",
            "gridwidth": 2,
            "linecolor": "white",
            "showbackground": true,
            "ticks": "",
            "zerolinecolor": "white"
           },
           "zaxis": {
            "backgroundcolor": "#E5ECF6",
            "gridcolor": "white",
            "gridwidth": 2,
            "linecolor": "white",
            "showbackground": true,
            "ticks": "",
            "zerolinecolor": "white"
           }
          },
          "shapedefaults": {
           "line": {
            "color": "#2a3f5f"
           }
          },
          "ternary": {
           "aaxis": {
            "gridcolor": "white",
            "linecolor": "white",
            "ticks": ""
           },
           "baxis": {
            "gridcolor": "white",
            "linecolor": "white",
            "ticks": ""
           },
           "bgcolor": "#E5ECF6",
           "caxis": {
            "gridcolor": "white",
            "linecolor": "white",
            "ticks": ""
           }
          },
          "title": {
           "x": 0.05
          },
          "xaxis": {
           "automargin": true,
           "gridcolor": "white",
           "linecolor": "white",
           "ticks": "",
           "title": {
            "standoff": 15
           },
           "zerolinecolor": "white",
           "zerolinewidth": 2
          },
          "yaxis": {
           "automargin": true,
           "gridcolor": "white",
           "linecolor": "white",
           "ticks": "",
           "title": {
            "standoff": 15
           },
           "zerolinecolor": "white",
           "zerolinewidth": 2
          }
         }
        },
        "width": 1000,
        "xaxis": {
         "tickangle": -45
        }
       }
      }
     },
     "metadata": {},
     "output_type": "display_data"
    }
   ],
   "source": [
    "\n",
    "# stacked plotly bar chart\n",
    "fig = go.Figure()\n",
    "data = []\n",
    "#for name in list(indicator_metadata.keys())[::-1]:\n",
    "for i, row in sub_agg_df.iterrows():\n",
    "    # i = indicator_metadata[name]['value']\n",
    "    # row = sub_agg_df.loc[i].values\n",
    "    data.append(go.Bar(\n",
    "        x=sub_agg_df.columns,\n",
    "        y=row,\n",
    "        name=indicator_2_name[i],\n",
    "        marker_color=indicator_2_color[i],\n",
    "        # add hoverinfo, percentage of the total\n",
    "        hoverinfo='y', \n",
    "        hovertemplate='%{y:.2f}%',\n",
    "        ))\n",
    "\n",
    "fig.add_traces(data)\n",
    "\n",
    "fig.update_layout(\n",
    "    barmode='stack', \n",
    "    xaxis_tickangle=-45,\n",
    "    height=400, \n",
    "    width=1000,\n",
    "    barnorm='percent',\n",
    "    legend=dict(traceorder='normal'),  # Reverse the order of the legend items\n",
    "\n",
    ")\n",
    "fig.show()\n",
    "\n"
   ]
  },
  {
   "cell_type": "markdown",
   "metadata": {},
   "source": [
    "### TODO:\n",
    "- can do this, where the `error` is expanded"
   ]
  },
  {
   "cell_type": "markdown",
   "metadata": {},
   "source": [
    "## Distributions"
   ]
  },
  {
   "cell_type": "markdown",
   "metadata": {},
   "source": [
    "#### Scatter and histogram"
   ]
  },
  {
   "cell_type": "code",
   "execution_count": 106,
   "metadata": {},
   "outputs": [],
   "source": [
    "# randomly sample 30% of the data\n",
    "sub_raw = raw.sample(frac=0.15, random_state=11)"
   ]
  },
  {
   "cell_type": "code",
   "execution_count": 107,
   "metadata": {},
   "outputs": [],
   "source": [
    "scatterplotmatrix(sub_raw.values, figsize=(50, 40), names=sub_raw.columns, alpha=0.5)\n",
    "# save the figure\n",
    "plt.tight_layout()\n",
    "plt.savefig(FIGURES_DIR / 'scatterplot_matrix.png', dpi=300)\n",
    "plt.close()"
   ]
  },
  {
   "cell_type": "code",
   "execution_count": 122,
   "metadata": {},
   "outputs": [
    {
     "data": {
      "text/html": [
       "<div>\n",
       "<style scoped>\n",
       "    .dataframe tbody tr th:only-of-type {\n",
       "        vertical-align: middle;\n",
       "    }\n",
       "\n",
       "    .dataframe tbody tr th {\n",
       "        vertical-align: top;\n",
       "    }\n",
       "\n",
       "    .dataframe thead th {\n",
       "        text-align: right;\n",
       "    }\n",
       "</style>\n",
       "<table border=\"1\" class=\"dataframe\">\n",
       "  <thead>\n",
       "    <tr style=\"text-align: right;\">\n",
       "      <th></th>\n",
       "      <th>5425</th>\n",
       "      <th>5427</th>\n",
       "      <th>G80F11B_Level1</th>\n",
       "      <th>G80F11B_Level2</th>\n",
       "      <th>G80F66Y_Level1</th>\n",
       "      <th>G80F66Y_Level2</th>\n",
       "      <th>G80F13P_LevelPS</th>\n",
       "      <th>G73F010</th>\n",
       "      <th>G72F040</th>\n",
       "      <th>G71F05R_LevelInlet</th>\n",
       "      <th>G71F05R_LevelBasin</th>\n",
       "      <th>G71F05R_position</th>\n",
       "      <th>G71F04R_Level1</th>\n",
       "      <th>G71F04R_Level2</th>\n",
       "      <th>G71F06R_LevelInlet</th>\n",
       "      <th>G71F68Y_LevelPS</th>\n",
       "      <th>G71F68Yp1</th>\n",
       "    </tr>\n",
       "    <tr>\n",
       "      <th>time</th>\n",
       "      <th></th>\n",
       "      <th></th>\n",
       "      <th></th>\n",
       "      <th></th>\n",
       "      <th></th>\n",
       "      <th></th>\n",
       "      <th></th>\n",
       "      <th></th>\n",
       "      <th></th>\n",
       "      <th></th>\n",
       "      <th></th>\n",
       "      <th></th>\n",
       "      <th></th>\n",
       "      <th></th>\n",
       "      <th></th>\n",
       "      <th></th>\n",
       "      <th></th>\n",
       "    </tr>\n",
       "  </thead>\n",
       "  <tbody>\n",
       "    <tr>\n",
       "      <th>2019-01-01 00:00:00</th>\n",
       "      <td>0.0</td>\n",
       "      <td>0.0</td>\n",
       "      <td>0.0</td>\n",
       "      <td>0.0</td>\n",
       "      <td>0.0</td>\n",
       "      <td>0.0</td>\n",
       "      <td>0.91</td>\n",
       "      <td>0.0</td>\n",
       "      <td>0.0</td>\n",
       "      <td>0.244</td>\n",
       "      <td>0.0</td>\n",
       "      <td>0.594</td>\n",
       "      <td>0.0</td>\n",
       "      <td>0.049</td>\n",
       "      <td>0.068</td>\n",
       "      <td>0.071</td>\n",
       "      <td>0.0</td>\n",
       "    </tr>\n",
       "    <tr>\n",
       "      <th>2019-01-01 00:01:00</th>\n",
       "      <td>0.0</td>\n",
       "      <td>0.0</td>\n",
       "      <td>0.0</td>\n",
       "      <td>0.0</td>\n",
       "      <td>0.0</td>\n",
       "      <td>0.0</td>\n",
       "      <td>0.95</td>\n",
       "      <td>0.0</td>\n",
       "      <td>0.0</td>\n",
       "      <td>0.246</td>\n",
       "      <td>0.0</td>\n",
       "      <td>0.593</td>\n",
       "      <td>0.0</td>\n",
       "      <td>0.048</td>\n",
       "      <td>0.068</td>\n",
       "      <td>0.071</td>\n",
       "      <td>0.0</td>\n",
       "    </tr>\n",
       "  </tbody>\n",
       "</table>\n",
       "</div>"
      ],
      "text/plain": [
       "                     5425  5427  G80F11B_Level1  G80F11B_Level2  \\\n",
       "time                                                              \n",
       "2019-01-01 00:00:00   0.0   0.0             0.0             0.0   \n",
       "2019-01-01 00:01:00   0.0   0.0             0.0             0.0   \n",
       "\n",
       "                     G80F66Y_Level1  G80F66Y_Level2  G80F13P_LevelPS  G73F010  \\\n",
       "time                                                                            \n",
       "2019-01-01 00:00:00             0.0             0.0             0.91      0.0   \n",
       "2019-01-01 00:01:00             0.0             0.0             0.95      0.0   \n",
       "\n",
       "                     G72F040  G71F05R_LevelInlet  G71F05R_LevelBasin  \\\n",
       "time                                                                   \n",
       "2019-01-01 00:00:00      0.0               0.244                 0.0   \n",
       "2019-01-01 00:01:00      0.0               0.246                 0.0   \n",
       "\n",
       "                     G71F05R_position  G71F04R_Level1  G71F04R_Level2  \\\n",
       "time                                                                    \n",
       "2019-01-01 00:00:00             0.594             0.0           0.049   \n",
       "2019-01-01 00:01:00             0.593             0.0           0.048   \n",
       "\n",
       "                     G71F06R_LevelInlet  G71F68Y_LevelPS  G71F68Yp1  \n",
       "time                                                                 \n",
       "2019-01-01 00:00:00               0.068            0.071        0.0  \n",
       "2019-01-01 00:01:00               0.068            0.071        0.0  "
      ]
     },
     "execution_count": 122,
     "metadata": {},
     "output_type": "execute_result"
    }
   ],
   "source": [
    "raw.head(2)"
   ]
  },
  {
   "cell_type": "code",
   "execution_count": 137,
   "metadata": {},
   "outputs": [
    {
     "name": "stdout",
     "output_type": "stream",
     "text": [
      "(41761, 17)\n"
     ]
    }
   ],
   "source": [
    "# Ensure that the index of 'raw' is a DatetimeIndex\n",
    "raw.index = pd.to_datetime(raw.index)\n",
    "\n",
    "# Define the time range for February 2021\n",
    "starttime = \"2020-02-01 00:00:00\"\n",
    "endtime = \"2020-03-01 00:00:00\"\n",
    "\n",
    "# Subsample the data for February 2021\n",
    "sub_raw = raw.loc[starttime:endtime]\n",
    "sub_is_error = is_error.loc[starttime:endtime]  \n",
    "sub_no_data = no_data.loc[starttime:endtime]\n",
    "\n",
    "# Subsample the corresponding timestamps\n",
    "sub_timestamps = timestamps_df.loc[starttime:endtime]\n",
    "\n",
    "sub_I, sub_timestamps_df = create_combined_I(sub_raw, sub_is_error, sub_no_data)\n",
    "\n",
    "print(sub_raw.shape)"
   ]
  },
  {
   "cell_type": "code",
   "execution_count": 138,
   "metadata": {},
   "outputs": [],
   "source": []
  },
  {
   "cell_type": "code",
   "execution_count": 139,
   "metadata": {},
   "outputs": [
    {
     "data": {
      "image/png": "[encoded data removed]",
      "text/plain": [
       "<Figure size 6400x2000 with 1 Axes>"
      ]
     },
     "metadata": {},
     "output_type": "display_data"
    }
   ],
   "source": [
    "# plot the timeline\n",
    "visualize_combined_timeline(sub_I, sub_timestamps_df, series, indicator_2_color, name_2_color, figsize=(16, 5))"
   ]
  },
  {
   "cell_type": "code",
   "execution_count": 140,
   "metadata": {},
   "outputs": [],
   "source": [
    "scatterplotmatrix(sub_raw.values, figsize=(50, 40), names=sub_raw.columns, alpha=0.5)\n",
    "# save the figure\n",
    "plt.tight_layout()\n",
    "plt.savefig(FIGURES_DIR / 'scatterplot_matrix_feb.png', dpi=300)\n",
    "plt.close()"
   ]
  },
  {
   "cell_type": "markdown",
   "metadata": {},
   "source": [
    "#### Boxplot"
   ]
  },
  {
   "cell_type": "code",
   "execution_count": 143,
   "metadata": {},
   "outputs": [],
   "source": [
    "raw_non_zero = raw[raw > 0]"
   ]
  },
  {
   "cell_type": "code",
   "execution_count": 144,
   "metadata": {},
   "outputs": [
    {
     "data": {
      "image/png": "[encoded data removed]",
      "text/plain": [
       "<Figure size 1600x800 with 1 Axes>"
      ]
     },
     "metadata": {},
     "output_type": "display_data"
    }
   ],
   "source": [
    "# make a boxplot for each column\n",
    "fig, ax = plt.subplots(figsize=(16, 8))\n",
    "\n",
    "raw_non_zero.boxplot(ax=ax, rot=45)\n",
    "plt.tight_layout()\n",
    "plt.show()"
   ]
  },
  {
   "cell_type": "code",
   "execution_count": null,
   "metadata": {},
   "outputs": [],
   "source": []
  },
  {
   "cell_type": "code",
   "execution_count": null,
   "metadata": {},
   "outputs": [],
   "source": []
  },
  {
   "cell_type": "code",
   "execution_count": null,
   "metadata": {},
   "outputs": [],
   "source": []
  }
 ],
 "metadata": {
  "kernelspec": {
   "display_name": "thesis",
   "language": "python",
   "name": "python3"
  },
  "language_info": {
   "codemirror_mode": {
    "name": "ipython",
    "version": 3
   },
   "file_extension": ".py",
   "mimetype": "text/x-python",
   "name": "python",
   "nbconvert_exporter": "python",
   "pygments_lexer": "ipython3",
   "version": "3.12.6"
  }
 },
 "nbformat": 4,
 "nbformat_minor": 2
}
